{
  "nbformat": 4,
  "nbformat_minor": 0,
  "metadata": {
    "colab": {
      "name": "IntroDataScience",
      "provenance": [],
      "collapsed_sections": [
        "-RwLL6a3RRdO",
        "T22tzu_aRfY3",
        "9bZo5seLRpky",
        "4AikkR6QYe4g"
      ],
      "toc_visible": true,
      "include_colab_link": true
    },
    "kernelspec": {
      "name": "python3",
      "display_name": "Python 3"
    }
  },
  "cells": [
    {
      "cell_type": "markdown",
      "metadata": {
        "id": "view-in-github",
        "colab_type": "text"
      },
      "source": [
        "<a href=\"https://colab.research.google.com/github/DacioSB/DataScience/blob/master/IntroDataScience.ipynb\" target=\"_parent\"><img src=\"https://colab.research.google.com/assets/colab-badge.svg\" alt=\"Open In Colab\"/></a>"
      ]
    },
    {
      "cell_type": "markdown",
      "metadata": {
        "id": "-RwLL6a3RRdO",
        "colab_type": "text"
      },
      "source": [
        "#Analisando as notas em geral"
      ]
    },
    {
      "cell_type": "code",
      "metadata": {
        "id": "7A4HUhuadcvI",
        "colab_type": "code",
        "outputId": "91b41c3a-482a-4b19-a1b1-a36c587eb2cd",
        "colab": {
          "base_uri": "https://localhost:8080/",
          "height": 0
        }
      },
      "source": [
        "import pandas as pd\n",
        "\n",
        "notas = pd.read_csv(\"Alura/ratings.csv\")\n",
        "notas.head()\n"
      ],
      "execution_count": 1,
      "outputs": [
        {
          "output_type": "execute_result",
          "data": {
            "text/html": [
              "<div>\n",
              "<style scoped>\n",
              "    .dataframe tbody tr th:only-of-type {\n",
              "        vertical-align: middle;\n",
              "    }\n",
              "\n",
              "    .dataframe tbody tr th {\n",
              "        vertical-align: top;\n",
              "    }\n",
              "\n",
              "    .dataframe thead th {\n",
              "        text-align: right;\n",
              "    }\n",
              "</style>\n",
              "<table border=\"1\" class=\"dataframe\">\n",
              "  <thead>\n",
              "    <tr style=\"text-align: right;\">\n",
              "      <th></th>\n",
              "      <th>userId</th>\n",
              "      <th>movieId</th>\n",
              "      <th>rating</th>\n",
              "      <th>timestamp</th>\n",
              "    </tr>\n",
              "  </thead>\n",
              "  <tbody>\n",
              "    <tr>\n",
              "      <th>0</th>\n",
              "      <td>1</td>\n",
              "      <td>1</td>\n",
              "      <td>4.0</td>\n",
              "      <td>964982703</td>\n",
              "    </tr>\n",
              "    <tr>\n",
              "      <th>1</th>\n",
              "      <td>1</td>\n",
              "      <td>3</td>\n",
              "      <td>4.0</td>\n",
              "      <td>964981247</td>\n",
              "    </tr>\n",
              "    <tr>\n",
              "      <th>2</th>\n",
              "      <td>1</td>\n",
              "      <td>6</td>\n",
              "      <td>4.0</td>\n",
              "      <td>964982224</td>\n",
              "    </tr>\n",
              "    <tr>\n",
              "      <th>3</th>\n",
              "      <td>1</td>\n",
              "      <td>47</td>\n",
              "      <td>5.0</td>\n",
              "      <td>964983815</td>\n",
              "    </tr>\n",
              "    <tr>\n",
              "      <th>4</th>\n",
              "      <td>1</td>\n",
              "      <td>50</td>\n",
              "      <td>5.0</td>\n",
              "      <td>964982931</td>\n",
              "    </tr>\n",
              "  </tbody>\n",
              "</table>\n",
              "</div>"
            ],
            "text/plain": [
              "   userId  movieId  rating  timestamp\n",
              "0       1        1     4.0  964982703\n",
              "1       1        3     4.0  964981247\n",
              "2       1        6     4.0  964982224\n",
              "3       1       47     5.0  964983815\n",
              "4       1       50     5.0  964982931"
            ]
          },
          "metadata": {
            "tags": []
          },
          "execution_count": 1
        }
      ]
    },
    {
      "cell_type": "markdown",
      "metadata": {
        "id": "anCajnQyQkTP",
        "colab_type": "text"
      },
      "source": [
        ""
      ]
    },
    {
      "cell_type": "code",
      "metadata": {
        "id": "cItEo90KivHo",
        "colab_type": "code",
        "outputId": "db45b575-2cd0-4c39-a995-29b611861912",
        "colab": {
          "base_uri": "https://localhost:8080/",
          "height": 0
        }
      },
      "source": [
        "notas['rating'].unique()"
      ],
      "execution_count": 2,
      "outputs": [
        {
          "output_type": "execute_result",
          "data": {
            "text/plain": [
              "array([4. , 5. , 3. , 2. , 1. , 4.5, 3.5, 2.5, 0.5, 1.5])"
            ]
          },
          "metadata": {
            "tags": []
          },
          "execution_count": 2
        }
      ]
    },
    {
      "cell_type": "code",
      "metadata": {
        "id": "YcyoWyFIjFvD",
        "colab_type": "code",
        "outputId": "044210f5-3ebc-4d1f-b439-b76f524d5dff",
        "colab": {
          "base_uri": "https://localhost:8080/",
          "height": 0
        }
      },
      "source": [
        "notas['rating'].value_counts()"
      ],
      "execution_count": 3,
      "outputs": [
        {
          "output_type": "execute_result",
          "data": {
            "text/plain": [
              "4.0    26818\n",
              "3.0    20047\n",
              "5.0    13211\n",
              "3.5    13136\n",
              "4.5     8551\n",
              "2.0     7551\n",
              "2.5     5550\n",
              "1.0     2811\n",
              "1.5     1791\n",
              "0.5     1370\n",
              "Name: rating, dtype: int64"
            ]
          },
          "metadata": {
            "tags": []
          },
          "execution_count": 3
        }
      ]
    },
    {
      "cell_type": "code",
      "metadata": {
        "id": "snYydhWEjYJF",
        "colab_type": "code",
        "outputId": "93456ce1-ca76-4330-f800-e26db4c40be7",
        "colab": {
          "base_uri": "https://localhost:8080/",
          "height": 0
        }
      },
      "source": [
        "notas['rating'].mean()"
      ],
      "execution_count": 4,
      "outputs": [
        {
          "output_type": "execute_result",
          "data": {
            "text/plain": [
              "3.501556983616962"
            ]
          },
          "metadata": {
            "tags": []
          },
          "execution_count": 4
        }
      ]
    },
    {
      "cell_type": "code",
      "metadata": {
        "id": "Wn6aRcooj7lW",
        "colab_type": "code",
        "outputId": "4b1e2288-b350-4aa6-a429-12e3e37c8332",
        "colab": {
          "base_uri": "https://localhost:8080/",
          "height": 0
        }
      },
      "source": [
        "notas.rating.plot()"
      ],
      "execution_count": 5,
      "outputs": [
        {
          "output_type": "execute_result",
          "data": {
            "text/plain": [
              "<matplotlib.axes._subplots.AxesSubplot at 0x7ff67bf411d0>"
            ]
          },
          "metadata": {
            "tags": []
          },
          "execution_count": 5
        },
        {
          "output_type": "display_data",
          "data": {
            "image/png": "[encoded data removed]",
            "text/plain": [
              "<Figure size 432x288 with 1 Axes>"
            ]
          },
          "metadata": {
            "tags": []
          }
        }
      ]
    },
    {
      "cell_type": "code",
      "metadata": {
        "id": "eQqvpQ3XkJ-V",
        "colab_type": "code",
        "outputId": "48f2563b-80c1-49df-bdc7-8fb298f91976",
        "colab": {
          "base_uri": "https://localhost:8080/",
          "height": 0
        }
      },
      "source": [
        "notas.rating.plot(kind = 'hist')"
      ],
      "execution_count": 6,
      "outputs": [
        {
          "output_type": "execute_result",
          "data": {
            "text/plain": [
              "<matplotlib.axes._subplots.AxesSubplot at 0x7ff6796720b8>"
            ]
          },
          "metadata": {
            "tags": []
          },
          "execution_count": 6
        },
        {
          "output_type": "display_data",
          "data": {
            "image/png": "[encoded data removed]",
            "text/plain": [
              "<Figure size 432x288 with 1 Axes>"
            ]
          },
          "metadata": {
            "tags": []
          }
        }
      ]
    },
    {
      "cell_type": "code",
      "metadata": {
        "id": "mRnnIA3tlKy_",
        "colab_type": "code",
        "outputId": "00b58556-baed-408e-c05e-736cfef134bc",
        "colab": {
          "base_uri": "https://localhost:8080/",
          "height": 0
        }
      },
      "source": [
        "print(\"Média\",notas['rating'].mean())\n",
        "print(\"Mediana\",notas['rating'].median())"
      ],
      "execution_count": 7,
      "outputs": [
        {
          "output_type": "stream",
          "text": [
            "Média 3.501556983616962\n",
            "Mediana 3.5\n"
          ],
          "name": "stdout"
        }
      ]
    },
    {
      "cell_type": "code",
      "metadata": {
        "id": "pSTaaSXKlhQQ",
        "colab_type": "code",
        "outputId": "35aa978d-042c-48ac-d3bf-4c30fef0d90a",
        "colab": {
          "base_uri": "https://localhost:8080/",
          "height": 0
        }
      },
      "source": [
        "notas.rating.describe()"
      ],
      "execution_count": 8,
      "outputs": [
        {
          "output_type": "execute_result",
          "data": {
            "text/plain": [
              "count    100836.000000\n",
              "mean          3.501557\n",
              "std           1.042529\n",
              "min           0.500000\n",
              "25%           3.000000\n",
              "50%           3.500000\n",
              "75%           4.000000\n",
              "max           5.000000\n",
              "Name: rating, dtype: float64"
            ]
          },
          "metadata": {
            "tags": []
          },
          "execution_count": 8
        }
      ]
    },
    {
      "cell_type": "code",
      "metadata": {
        "id": "TxXnt4E8l9dt",
        "colab_type": "code",
        "outputId": "3b6d69ab-7839-472f-92d5-3ff914497962",
        "colab": {
          "base_uri": "https://localhost:8080/",
          "height": 0
        }
      },
      "source": [
        "import seaborn as sns\n",
        "\n",
        "sns.boxplot(notas.rating)"
      ],
      "execution_count": 9,
      "outputs": [
        {
          "output_type": "execute_result",
          "data": {
            "text/plain": [
              "<matplotlib.axes._subplots.AxesSubplot at 0x7ff67001aa58>"
            ]
          },
          "metadata": {
            "tags": []
          },
          "execution_count": 9
        },
        {
          "output_type": "display_data",
          "data": {
            "image/png": "[encoded data removed]",
            "text/plain": [
              "<Figure size 432x288 with 1 Axes>"
            ]
          },
          "metadata": {
            "tags": []
          }
        }
      ]
    },
    {
      "cell_type": "markdown",
      "metadata": {
        "id": "otzldCxlQsA4",
        "colab_type": "text"
      },
      "source": [
        ""
      ]
    },
    {
      "cell_type": "markdown",
      "metadata": {
        "id": "T22tzu_aRfY3",
        "colab_type": "text"
      },
      "source": [
        "# Analisando os filmes"
      ]
    },
    {
      "cell_type": "code",
      "metadata": {
        "id": "VaZfS2lFnfmJ",
        "colab_type": "code",
        "outputId": "23e3f3ee-792e-4807-adaf-985a8fdd727f",
        "colab": {
          "base_uri": "https://localhost:8080/",
          "height": 0
        }
      },
      "source": [
        "import pandas as pd\n",
        "filmes = pd.read_csv(\"Alura/movies.csv\")\n",
        "filmes.head()"
      ],
      "execution_count": 10,
      "outputs": [
        {
          "output_type": "execute_result",
          "data": {
            "text/html": [
              "<div>\n",
              "<style scoped>\n",
              "    .dataframe tbody tr th:only-of-type {\n",
              "        vertical-align: middle;\n",
              "    }\n",
              "\n",
              "    .dataframe tbody tr th {\n",
              "        vertical-align: top;\n",
              "    }\n",
              "\n",
              "    .dataframe thead th {\n",
              "        text-align: right;\n",
              "    }\n",
              "</style>\n",
              "<table border=\"1\" class=\"dataframe\">\n",
              "  <thead>\n",
              "    <tr style=\"text-align: right;\">\n",
              "      <th></th>\n",
              "      <th>movieId</th>\n",
              "      <th>title</th>\n",
              "      <th>genres</th>\n",
              "    </tr>\n",
              "  </thead>\n",
              "  <tbody>\n",
              "    <tr>\n",
              "      <th>0</th>\n",
              "      <td>1</td>\n",
              "      <td>Toy Story (1995)</td>\n",
              "      <td>Adventure|Animation|Children|Comedy|Fantasy</td>\n",
              "    </tr>\n",
              "    <tr>\n",
              "      <th>1</th>\n",
              "      <td>2</td>\n",
              "      <td>Jumanji (1995)</td>\n",
              "      <td>Adventure|Children|Fantasy</td>\n",
              "    </tr>\n",
              "    <tr>\n",
              "      <th>2</th>\n",
              "      <td>3</td>\n",
              "      <td>Grumpier Old Men (1995)</td>\n",
              "      <td>Comedy|Romance</td>\n",
              "    </tr>\n",
              "    <tr>\n",
              "      <th>3</th>\n",
              "      <td>4</td>\n",
              "      <td>Waiting to Exhale (1995)</td>\n",
              "      <td>Comedy|Drama|Romance</td>\n",
              "    </tr>\n",
              "    <tr>\n",
              "      <th>4</th>\n",
              "      <td>5</td>\n",
              "      <td>Father of the Bride Part II (1995)</td>\n",
              "      <td>Comedy</td>\n",
              "    </tr>\n",
              "  </tbody>\n",
              "</table>\n",
              "</div>"
            ],
            "text/plain": [
              "   movieId  ...                                       genres\n",
              "0        1  ...  Adventure|Animation|Children|Comedy|Fantasy\n",
              "1        2  ...                   Adventure|Children|Fantasy\n",
              "2        3  ...                               Comedy|Romance\n",
              "3        4  ...                         Comedy|Drama|Romance\n",
              "4        5  ...                                       Comedy\n",
              "\n",
              "[5 rows x 3 columns]"
            ]
          },
          "metadata": {
            "tags": []
          },
          "execution_count": 10
        }
      ]
    },
    {
      "cell_type": "markdown",
      "metadata": {
        "id": "9bZo5seLRpky",
        "colab_type": "text"
      },
      "source": [
        "# Analisando algumas notas específicas por filme"
      ]
    },
    {
      "cell_type": "code",
      "metadata": {
        "id": "pNH9iKJfNlGz",
        "colab_type": "code",
        "outputId": "8b389f9f-2f13-42b5-9a22-d54c11460a45",
        "colab": {
          "base_uri": "https://localhost:8080/",
          "height": 0
        }
      },
      "source": [
        "filmes.columns = [\"filmeId\", \"titulo\", \"generos\"]\n",
        "notas.query(\"movieId == 1\").rating.mean()"
      ],
      "execution_count": 11,
      "outputs": [
        {
          "output_type": "execute_result",
          "data": {
            "text/plain": [
              "3.9209302325581397"
            ]
          },
          "metadata": {
            "tags": []
          },
          "execution_count": 11
        }
      ]
    },
    {
      "cell_type": "code",
      "metadata": {
        "id": "feHPsQHISCoH",
        "colab_type": "code",
        "outputId": "a9a61f65-d046-4781-cc67-224474517394",
        "colab": {
          "base_uri": "https://localhost:8080/",
          "height": 0
        }
      },
      "source": [
        "notas.query(\"movieId == 2\").rating.mean()"
      ],
      "execution_count": 12,
      "outputs": [
        {
          "output_type": "execute_result",
          "data": {
            "text/plain": [
              "3.4318181818181817"
            ]
          },
          "metadata": {
            "tags": []
          },
          "execution_count": 12
        }
      ]
    },
    {
      "cell_type": "code",
      "metadata": {
        "id": "1apX0_YMSHz6",
        "colab_type": "code",
        "outputId": "6153a791-174c-4b78-fd00-30f5b916b4bb",
        "colab": {
          "base_uri": "https://localhost:8080/",
          "height": 0
        }
      },
      "source": [
        "notas.groupby(\"movieId\")"
      ],
      "execution_count": 13,
      "outputs": [
        {
          "output_type": "execute_result",
          "data": {
            "text/plain": [
              "<pandas.core.groupby.generic.DataFrameGroupBy object at 0x7ff67c829438>"
            ]
          },
          "metadata": {
            "tags": []
          },
          "execution_count": 13
        }
      ]
    },
    {
      "cell_type": "code",
      "metadata": {
        "id": "BwtcsA7QSY0V",
        "colab_type": "code",
        "colab": {}
      },
      "source": [
        "medias_por_filme = notas.groupby(\"movieId\").mean()[\"rating\"]\n",
        "#agrupando cada filme por id e tirando a media"
      ],
      "execution_count": 0,
      "outputs": []
    },
    {
      "cell_type": "code",
      "metadata": {
        "id": "zzz3yKUHSxEP",
        "colab_type": "code",
        "outputId": "4f18cae2-cc1a-4c02-f010-117ed0063604",
        "colab": {
          "base_uri": "https://localhost:8080/",
          "height": 0
        }
      },
      "source": [
        "medias_por_filme.head()"
      ],
      "execution_count": 15,
      "outputs": [
        {
          "output_type": "execute_result",
          "data": {
            "text/plain": [
              "movieId\n",
              "1    3.920930\n",
              "2    3.431818\n",
              "3    3.259615\n",
              "4    2.357143\n",
              "5    3.071429\n",
              "Name: rating, dtype: float64"
            ]
          },
          "metadata": {
            "tags": []
          },
          "execution_count": 15
        }
      ]
    },
    {
      "cell_type": "code",
      "metadata": {
        "id": "smRPG0AzTyIv",
        "colab_type": "code",
        "outputId": "fec9da83-e7ad-4330-e7f0-3fba9e4a9588",
        "colab": {
          "base_uri": "https://localhost:8080/",
          "height": 0
        }
      },
      "source": [
        "medias_por_filme.plot(kind=\"hist\")"
      ],
      "execution_count": 16,
      "outputs": [
        {
          "output_type": "execute_result",
          "data": {
            "text/plain": [
              "<matplotlib.axes._subplots.AxesSubplot at 0x7ff66fc40da0>"
            ]
          },
          "metadata": {
            "tags": []
          },
          "execution_count": 16
        },
        {
          "output_type": "display_data",
          "data": {
            "image/png": "[encoded data removed]",
            "text/plain": [
              "<Figure size 432x288 with 1 Axes>"
            ]
          },
          "metadata": {
            "tags": []
          }
        }
      ]
    },
    {
      "cell_type": "code",
      "metadata": {
        "id": "Ovf-rmczUHas",
        "colab_type": "code",
        "outputId": "9f864246-37e6-4060-b8e7-9c72fe374f44",
        "colab": {
          "base_uri": "https://localhost:8080/",
          "height": 0
        }
      },
      "source": [
        "sns.boxplot(medias_por_filme)"
      ],
      "execution_count": 17,
      "outputs": [
        {
          "output_type": "execute_result",
          "data": {
            "text/plain": [
              "<matplotlib.axes._subplots.AxesSubplot at 0x7ff66e9943c8>"
            ]
          },
          "metadata": {
            "tags": []
          },
          "execution_count": 17
        },
        {
          "output_type": "display_data",
          "data": {
            "image/png": "[encoded data removed]",
            "text/plain": [
              "<Figure size 432x288 with 1 Axes>"
            ]
          },
          "metadata": {
            "tags": []
          }
        }
      ]
    },
    {
      "cell_type": "code",
      "metadata": {
        "id": "XClszzxsUfTc",
        "colab_type": "code",
        "outputId": "42eceda3-34da-4eac-9ab5-3a3c95bf27c3",
        "colab": {
          "base_uri": "https://localhost:8080/",
          "height": 0
        }
      },
      "source": [
        "medias_por_filme.describe()"
      ],
      "execution_count": 18,
      "outputs": [
        {
          "output_type": "execute_result",
          "data": {
            "text/plain": [
              "count    9724.000000\n",
              "mean        3.262448\n",
              "std         0.869874\n",
              "min         0.500000\n",
              "25%         2.800000\n",
              "50%         3.416667\n",
              "75%         3.911765\n",
              "max         5.000000\n",
              "Name: rating, dtype: float64"
            ]
          },
          "metadata": {
            "tags": []
          },
          "execution_count": 18
        }
      ]
    },
    {
      "cell_type": "code",
      "metadata": {
        "id": "ynjFlcnQUmWA",
        "colab_type": "code",
        "outputId": "6f801a63-cbdd-4d94-f4a1-a1ad5bbbad11",
        "colab": {
          "base_uri": "https://localhost:8080/",
          "height": 0
        }
      },
      "source": [
        "sns.distplot(medias_por_filme, bins = 10)"
      ],
      "execution_count": 19,
      "outputs": [
        {
          "output_type": "execute_result",
          "data": {
            "text/plain": [
              "<matplotlib.axes._subplots.AxesSubplot at 0x7ff66e94d780>"
            ]
          },
          "metadata": {
            "tags": []
          },
          "execution_count": 19
        },
        {
          "output_type": "display_data",
          "data": {
            "image/png": "[encoded data removed]",
            "text/plain": [
              "<Figure size 432x288 with 1 Axes>"
            ]
          },
          "metadata": {
            "tags": []
          }
        }
      ]
    },
    {
      "cell_type": "code",
      "metadata": {
        "id": "QqWMiN4-UySg",
        "colab_type": "code",
        "outputId": "da82bb49-82fe-4db1-9b96-d94e7159cb35",
        "colab": {
          "base_uri": "https://localhost:8080/",
          "height": 0
        }
      },
      "source": [
        "import matplotlib.pyplot as plt\n",
        "#Essa é a biblioteca que o pandas importa pra plotar os dados\n",
        "plt.hist(medias_por_filme)\n",
        "plt.title(\"Histograma das médias dos filmes\")\n"
      ],
      "execution_count": 20,
      "outputs": [
        {
          "output_type": "execute_result",
          "data": {
            "text/plain": [
              "Text(0.5, 1.0, 'Histograma das médias dos filmes')"
            ]
          },
          "metadata": {
            "tags": []
          },
          "execution_count": 20
        },
        {
          "output_type": "display_data",
          "data": {
            "image/png": "[encoded data removed]",
            "text/plain": [
              "<Figure size 432x288 with 1 Axes>"
            ]
          },
          "metadata": {
            "tags": []
          }
        }
      ]
    },
    {
      "cell_type": "code",
      "metadata": {
        "id": "1zHm-Z0oV646",
        "colab_type": "code",
        "outputId": "ecd7b099-331e-48a1-c97a-ecb4fee37ed2",
        "colab": {
          "base_uri": "https://localhost:8080/",
          "height": 0
        }
      },
      "source": [
        "sns.boxplot(y=medias_por_filme)\n",
        "#Costuma se plotar na vertical"
      ],
      "execution_count": 21,
      "outputs": [
        {
          "output_type": "execute_result",
          "data": {
            "text/plain": [
              "<matplotlib.axes._subplots.AxesSubplot at 0x7ff66e94da58>"
            ]
          },
          "metadata": {
            "tags": []
          },
          "execution_count": 21
        },
        {
          "output_type": "display_data",
          "data": {
            "image/png": "[encoded data removed]",
            "text/plain": [
              "<Figure size 432x288 with 1 Axes>"
            ]
          },
          "metadata": {
            "tags": []
          }
        }
      ]
    },
    {
      "cell_type": "code",
      "metadata": {
        "id": "fQ_WWrWFWcGH",
        "colab_type": "code",
        "colab": {}
      },
      "source": [
        ""
      ],
      "execution_count": 0,
      "outputs": []
    },
    {
      "cell_type": "markdown",
      "metadata": {
        "id": "4AikkR6QYe4g",
        "colab_type": "text"
      },
      "source": [
        "#Analisando TMDB"
      ]
    },
    {
      "cell_type": "code",
      "metadata": {
        "id": "06-C5HTKYFPi",
        "colab_type": "code",
        "outputId": "612dc8a5-b0c2-4889-9b19-b584c659c243",
        "colab": {
          "base_uri": "https://localhost:8080/",
          "height": 717
        }
      },
      "source": [
        "tmdb = pd.read_csv(\"Alura/tmdb_5000_movies.csv\")\n",
        "tmdb.head()"
      ],
      "execution_count": 22,
      "outputs": [
        {
          "output_type": "execute_result",
          "data": {
            "text/html": [
              "<div>\n",
              "<style scoped>\n",
              "    .dataframe tbody tr th:only-of-type {\n",
              "        vertical-align: middle;\n",
              "    }\n",
              "\n",
              "    .dataframe tbody tr th {\n",
              "        vertical-align: top;\n",
              "    }\n",
              "\n",
              "    .dataframe thead th {\n",
              "        text-align: right;\n",
              "    }\n",
              "</style>\n",
              "<table border=\"1\" class=\"dataframe\">\n",
              "  <thead>\n",
              "    <tr style=\"text-align: right;\">\n",
              "      <th></th>\n",
              "      <th>budget</th>\n",
              "      <th>genres</th>\n",
              "      <th>homepage</th>\n",
              "      <th>id</th>\n",
              "      <th>keywords</th>\n",
              "      <th>original_language</th>\n",
              "      <th>original_title</th>\n",
              "      <th>overview</th>\n",
              "      <th>popularity</th>\n",
              "      <th>production_companies</th>\n",
              "      <th>production_countries</th>\n",
              "      <th>release_date</th>\n",
              "      <th>revenue</th>\n",
              "      <th>runtime</th>\n",
              "      <th>spoken_languages</th>\n",
              "      <th>status</th>\n",
              "      <th>tagline</th>\n",
              "      <th>title</th>\n",
              "      <th>vote_average</th>\n",
              "      <th>vote_count</th>\n",
              "    </tr>\n",
              "  </thead>\n",
              "  <tbody>\n",
              "    <tr>\n",
              "      <th>0</th>\n",
              "      <td>237000000</td>\n",
              "      <td>[{\"id\": 28, \"name\": \"Action\"}, {\"id\": 12, \"nam...</td>\n",
              "      <td>http://www.avatarmovie.com/</td>\n",
              "      <td>19995</td>\n",
              "      <td>[{\"id\": 1463, \"name\": \"culture clash\"}, {\"id\":...</td>\n",
              "      <td>en</td>\n",
              "      <td>Avatar</td>\n",
              "      <td>In the 22nd century, a paraplegic Marine is di...</td>\n",
              "      <td>150.437577</td>\n",
              "      <td>[{\"name\": \"Ingenious Film Partners\", \"id\": 289...</td>\n",
              "      <td>[{\"iso_3166_1\": \"US\", \"name\": \"United States o...</td>\n",
              "      <td>2009-12-10</td>\n",
              "      <td>2787965087</td>\n",
              "      <td>162.0</td>\n",
              "      <td>[{\"iso_639_1\": \"en\", \"name\": \"English\"}, {\"iso...</td>\n",
              "      <td>Released</td>\n",
              "      <td>Enter the World of Pandora.</td>\n",
              "      <td>Avatar</td>\n",
              "      <td>7.2</td>\n",
              "      <td>11800</td>\n",
              "    </tr>\n",
              "    <tr>\n",
              "      <th>1</th>\n",
              "      <td>300000000</td>\n",
              "      <td>[{\"id\": 12, \"name\": \"Adventure\"}, {\"id\": 14, \"...</td>\n",
              "      <td>http://disney.go.com/disneypictures/pirates/</td>\n",
              "      <td>285</td>\n",
              "      <td>[{\"id\": 270, \"name\": \"ocean\"}, {\"id\": 726, \"na...</td>\n",
              "      <td>en</td>\n",
              "      <td>Pirates of the Caribbean: At World's End</td>\n",
              "      <td>Captain Barbossa, long believed to be dead, ha...</td>\n",
              "      <td>139.082615</td>\n",
              "      <td>[{\"name\": \"Walt Disney Pictures\", \"id\": 2}, {\"...</td>\n",
              "      <td>[{\"iso_3166_1\": \"US\", \"name\": \"United States o...</td>\n",
              "      <td>2007-05-19</td>\n",
              "      <td>961000000</td>\n",
              "      <td>169.0</td>\n",
              "      <td>[{\"iso_639_1\": \"en\", \"name\": \"English\"}]</td>\n",
              "      <td>Released</td>\n",
              "      <td>At the end of the world, the adventure begins.</td>\n",
              "      <td>Pirates of the Caribbean: At World's End</td>\n",
              "      <td>6.9</td>\n",
              "      <td>4500</td>\n",
              "    </tr>\n",
              "    <tr>\n",
              "      <th>2</th>\n",
              "      <td>245000000</td>\n",
              "      <td>[{\"id\": 28, \"name\": \"Action\"}, {\"id\": 12, \"nam...</td>\n",
              "      <td>http://www.sonypictures.com/movies/spectre/</td>\n",
              "      <td>206647</td>\n",
              "      <td>[{\"id\": 470, \"name\": \"spy\"}, {\"id\": 818, \"name...</td>\n",
              "      <td>en</td>\n",
              "      <td>Spectre</td>\n",
              "      <td>A cryptic message from Bond’s past sends him o...</td>\n",
              "      <td>107.376788</td>\n",
              "      <td>[{\"name\": \"Columbia Pictures\", \"id\": 5}, {\"nam...</td>\n",
              "      <td>[{\"iso_3166_1\": \"GB\", \"name\": \"United Kingdom\"...</td>\n",
              "      <td>2015-10-26</td>\n",
              "      <td>880674609</td>\n",
              "      <td>148.0</td>\n",
              "      <td>[{\"iso_639_1\": \"fr\", \"name\": \"Fran\\u00e7ais\"},...</td>\n",
              "      <td>Released</td>\n",
              "      <td>A Plan No One Escapes</td>\n",
              "      <td>Spectre</td>\n",
              "      <td>6.3</td>\n",
              "      <td>4466</td>\n",
              "    </tr>\n",
              "    <tr>\n",
              "      <th>3</th>\n",
              "      <td>250000000</td>\n",
              "      <td>[{\"id\": 28, \"name\": \"Action\"}, {\"id\": 80, \"nam...</td>\n",
              "      <td>http://www.thedarkknightrises.com/</td>\n",
              "      <td>49026</td>\n",
              "      <td>[{\"id\": 849, \"name\": \"dc comics\"}, {\"id\": 853,...</td>\n",
              "      <td>en</td>\n",
              "      <td>The Dark Knight Rises</td>\n",
              "      <td>Following the death of District Attorney Harve...</td>\n",
              "      <td>112.312950</td>\n",
              "      <td>[{\"name\": \"Legendary Pictures\", \"id\": 923}, {\"...</td>\n",
              "      <td>[{\"iso_3166_1\": \"US\", \"name\": \"United States o...</td>\n",
              "      <td>2012-07-16</td>\n",
              "      <td>1084939099</td>\n",
              "      <td>165.0</td>\n",
              "      <td>[{\"iso_639_1\": \"en\", \"name\": \"English\"}]</td>\n",
              "      <td>Released</td>\n",
              "      <td>The Legend Ends</td>\n",
              "      <td>The Dark Knight Rises</td>\n",
              "      <td>7.6</td>\n",
              "      <td>9106</td>\n",
              "    </tr>\n",
              "    <tr>\n",
              "      <th>4</th>\n",
              "      <td>260000000</td>\n",
              "      <td>[{\"id\": 28, \"name\": \"Action\"}, {\"id\": 12, \"nam...</td>\n",
              "      <td>http://movies.disney.com/john-carter</td>\n",
              "      <td>49529</td>\n",
              "      <td>[{\"id\": 818, \"name\": \"based on novel\"}, {\"id\":...</td>\n",
              "      <td>en</td>\n",
              "      <td>John Carter</td>\n",
              "      <td>John Carter is a war-weary, former military ca...</td>\n",
              "      <td>43.926995</td>\n",
              "      <td>[{\"name\": \"Walt Disney Pictures\", \"id\": 2}]</td>\n",
              "      <td>[{\"iso_3166_1\": \"US\", \"name\": \"United States o...</td>\n",
              "      <td>2012-03-07</td>\n",
              "      <td>284139100</td>\n",
              "      <td>132.0</td>\n",
              "      <td>[{\"iso_639_1\": \"en\", \"name\": \"English\"}]</td>\n",
              "      <td>Released</td>\n",
              "      <td>Lost in our world, found in another.</td>\n",
              "      <td>John Carter</td>\n",
              "      <td>6.1</td>\n",
              "      <td>2124</td>\n",
              "    </tr>\n",
              "  </tbody>\n",
              "</table>\n",
              "</div>"
            ],
            "text/plain": [
              "      budget  ... vote_count\n",
              "0  237000000  ...      11800\n",
              "1  300000000  ...       4500\n",
              "2  245000000  ...       4466\n",
              "3  250000000  ...       9106\n",
              "4  260000000  ...       2124\n",
              "\n",
              "[5 rows x 20 columns]"
            ]
          },
          "metadata": {
            "tags": []
          },
          "execution_count": 22
        }
      ]
    },
    {
      "cell_type": "code",
      "metadata": {
        "id": "-12a08SuYTU-",
        "colab_type": "code",
        "outputId": "21e1ce37-e089-4fc2-ce04-a200097b1ece",
        "colab": {
          "base_uri": "https://localhost:8080/",
          "height": 85
        }
      },
      "source": [
        "tmdb['original_language'].unique()"
      ],
      "execution_count": 23,
      "outputs": [
        {
          "output_type": "execute_result",
          "data": {
            "text/plain": [
              "array(['en', 'ja', 'fr', 'zh', 'es', 'de', 'hi', 'ru', 'ko', 'te', 'cn',\n",
              "       'it', 'nl', 'ta', 'sv', 'th', 'da', 'xx', 'hu', 'cs', 'pt', 'is',\n",
              "       'tr', 'nb', 'af', 'pl', 'he', 'ar', 'vi', 'ky', 'id', 'ro', 'fa',\n",
              "       'no', 'sl', 'ps', 'el'], dtype=object)"
            ]
          },
          "metadata": {
            "tags": []
          },
          "execution_count": 23
        }
      ]
    },
    {
      "cell_type": "markdown",
      "metadata": {
        "id": "kstEscdNTIsL",
        "colab_type": "text"
      },
      "source": [
        "#Data Visualization"
      ]
    },
    {
      "cell_type": "code",
      "metadata": {
        "id": "j-nH85deZlIH",
        "colab_type": "code",
        "colab": {}
      },
      "source": [
        "contagem_lingua = tmdb.original_language.value_counts().to_frame().reset_index()\n",
        "#Depois da o barplot do seaborn, mas tive que fazer isso tudo pra chamar o barplot, trabalhoso!"
      ],
      "execution_count": 0,
      "outputs": []
    },
    {
      "cell_type": "code",
      "metadata": {
        "id": "0GXX6RdaThd2",
        "colab_type": "code",
        "colab": {}
      },
      "source": [
        "contagem_lingua.columns = [\"languages\", \"frequency\"]"
      ],
      "execution_count": 0,
      "outputs": []
    },
    {
      "cell_type": "code",
      "metadata": {
        "id": "235t85-EUZxu",
        "colab_type": "code",
        "colab": {
          "base_uri": "https://localhost:8080/",
          "height": 204
        },
        "outputId": "aa1a9b32-05ee-4ab5-f1dc-252c8385e149"
      },
      "source": [
        "contagem_lingua.head()"
      ],
      "execution_count": 33,
      "outputs": [
        {
          "output_type": "execute_result",
          "data": {
            "text/html": [
              "<div>\n",
              "<style scoped>\n",
              "    .dataframe tbody tr th:only-of-type {\n",
              "        vertical-align: middle;\n",
              "    }\n",
              "\n",
              "    .dataframe tbody tr th {\n",
              "        vertical-align: top;\n",
              "    }\n",
              "\n",
              "    .dataframe thead th {\n",
              "        text-align: right;\n",
              "    }\n",
              "</style>\n",
              "<table border=\"1\" class=\"dataframe\">\n",
              "  <thead>\n",
              "    <tr style=\"text-align: right;\">\n",
              "      <th></th>\n",
              "      <th>languages</th>\n",
              "      <th>frequency</th>\n",
              "    </tr>\n",
              "  </thead>\n",
              "  <tbody>\n",
              "    <tr>\n",
              "      <th>0</th>\n",
              "      <td>en</td>\n",
              "      <td>4505</td>\n",
              "    </tr>\n",
              "    <tr>\n",
              "      <th>1</th>\n",
              "      <td>fr</td>\n",
              "      <td>70</td>\n",
              "    </tr>\n",
              "    <tr>\n",
              "      <th>2</th>\n",
              "      <td>es</td>\n",
              "      <td>32</td>\n",
              "    </tr>\n",
              "    <tr>\n",
              "      <th>3</th>\n",
              "      <td>de</td>\n",
              "      <td>27</td>\n",
              "    </tr>\n",
              "    <tr>\n",
              "      <th>4</th>\n",
              "      <td>zh</td>\n",
              "      <td>27</td>\n",
              "    </tr>\n",
              "  </tbody>\n",
              "</table>\n",
              "</div>"
            ],
            "text/plain": [
              "  languages  frequency\n",
              "0        en       4505\n",
              "1        fr         70\n",
              "2        es         32\n",
              "3        de         27\n",
              "4        zh         27"
            ]
          },
          "metadata": {
            "tags": []
          },
          "execution_count": 33
        }
      ]
    },
    {
      "cell_type": "code",
      "metadata": {
        "id": "F2BwTc4vUzj3",
        "colab_type": "code",
        "colab": {
          "base_uri": "https://localhost:8080/",
          "height": 300
        },
        "outputId": "00e7e845-7cd7-41df-b542-cfc3ce854c1a"
      },
      "source": [
        "#Usa se entao o catplot\n",
        "sns.barplot(x = \"languages\", y = \"frequency\", data = contagem_lingua)"
      ],
      "execution_count": 35,
      "outputs": [
        {
          "output_type": "execute_result",
          "data": {
            "text/plain": [
              "<matplotlib.axes._subplots.AxesSubplot at 0x7ff66de651d0>"
            ]
          },
          "metadata": {
            "tags": []
          },
          "execution_count": 35
        },
        {
          "output_type": "display_data",
          "data": {
            "image/png": "[encoded data removed]",
            "text/plain": [
              "<Figure size 432x288 with 1 Axes>"
            ]
          },
          "metadata": {
            "tags": []
          }
        }
      ]
    },
    {
      "cell_type": "code",
      "metadata": {
        "id": "51QMFXPSVLEo",
        "colab_type": "code",
        "colab": {
          "base_uri": "https://localhost:8080/",
          "height": 386
        },
        "outputId": "44bc29c8-c6c0-45a7-9c5b-51c0732bd2c9"
      },
      "source": [
        "sns.catplot(x = \"original_language\", kind = \"count\", data = tmdb)"
      ],
      "execution_count": 39,
      "outputs": [
        {
          "output_type": "execute_result",
          "data": {
            "text/plain": [
              "<seaborn.axisgrid.FacetGrid at 0x7ff66dcfb898>"
            ]
          },
          "metadata": {
            "tags": []
          },
          "execution_count": 39
        },
        {
          "output_type": "display_data",
          "data": {
            "image/png": "[encoded data removed]",
            "text/plain": [
              "<Figure size 360x360 with 1 Axes>"
            ]
          },
          "metadata": {
            "tags": []
          }
        }
      ]
    },
    {
      "cell_type": "code",
      "metadata": {
        "id": "Uxy8E6xHWZR8",
        "colab_type": "code",
        "colab": {
          "base_uri": "https://localhost:8080/",
          "height": 1000
        },
        "outputId": "4ab31491-2cf0-401c-eb66-7e9a36569651"
      },
      "source": [
        "plt.pie(contagem_lingua[\"frequency\"], labels = contagem_lingua[\"languages\"])\n",
        "#Grafico de pizza, ineficiente para esse tipo de necessidade"
      ],
      "execution_count": 40,
      "outputs": [
        {
          "output_type": "execute_result",
          "data": {
            "text/plain": [
              "([<matplotlib.patches.Wedge at 0x7ff66de8efd0>,\n",
              "  <matplotlib.patches.Wedge at 0x7ff66dc5c518>,\n",
              "  <matplotlib.patches.Wedge at 0x7ff66dc5c9e8>,\n",
              "  <matplotlib.patches.Wedge at 0x7ff66dc5ceb8>,\n",
              "  <matplotlib.patches.Wedge at 0x7ff66e30f3c8>,\n",
              "  <matplotlib.patches.Wedge at 0x7ff66e30f898>,\n",
              "  <matplotlib.patches.Wedge at 0x7ff66e30fd68>,\n",
              "  <matplotlib.patches.Wedge at 0x7ff66e307278>,\n",
              "  <matplotlib.patches.Wedge at 0x7ff66e307748>,\n",
              "  <matplotlib.patches.Wedge at 0x7ff66e307c18>,\n",
              "  <matplotlib.patches.Wedge at 0x7ff66db761d0>,\n",
              "  <matplotlib.patches.Wedge at 0x7ff66dac25c0>,\n",
              "  <matplotlib.patches.Wedge at 0x7ff66dac2a90>,\n",
              "  <matplotlib.patches.Wedge at 0x7ff66dac2f60>,\n",
              "  <matplotlib.patches.Wedge at 0x7ff66dacc470>,\n",
              "  <matplotlib.patches.Wedge at 0x7ff66dacc940>,\n",
              "  <matplotlib.patches.Wedge at 0x7ff66dacce10>,\n",
              "  <matplotlib.patches.Wedge at 0x7ff66dad7320>,\n",
              "  <matplotlib.patches.Wedge at 0x7ff66dad77f0>,\n",
              "  <matplotlib.patches.Wedge at 0x7ff66dad7cc0>,\n",
              "  <matplotlib.patches.Wedge at 0x7ff66da5f1d0>,\n",
              "  <matplotlib.patches.Wedge at 0x7ff66da5f6a0>,\n",
              "  <matplotlib.patches.Wedge at 0x7ff66da5fb70>,\n",
              "  <matplotlib.patches.Wedge at 0x7ff66da6a080>,\n",
              "  <matplotlib.patches.Wedge at 0x7ff66da6a550>,\n",
              "  <matplotlib.patches.Wedge at 0x7ff66da6aa20>,\n",
              "  <matplotlib.patches.Wedge at 0x7ff66da6aef0>,\n",
              "  <matplotlib.patches.Wedge at 0x7ff66da71400>,\n",
              "  <matplotlib.patches.Wedge at 0x7ff66da718d0>,\n",
              "  <matplotlib.patches.Wedge at 0x7ff66da71da0>,\n",
              "  <matplotlib.patches.Wedge at 0x7ff66da7c2b0>,\n",
              "  <matplotlib.patches.Wedge at 0x7ff66da7c780>,\n",
              "  <matplotlib.patches.Wedge at 0x7ff66da7cc50>,\n",
              "  <matplotlib.patches.Wedge at 0x7ff66da84160>,\n",
              "  <matplotlib.patches.Wedge at 0x7ff66da84630>,\n",
              "  <matplotlib.patches.Wedge at 0x7ff66da84b00>,\n",
              "  <matplotlib.patches.Wedge at 0x7ff66da84fd0>],\n",
              " [Text(-1.0791697536499925, 0.2130554923183512, 'en'),\n",
              "  Text(1.0355355017029462, -0.3710339940124459, 'fr'),\n",
              "  Text(1.0579676486019882, -0.3011718023181785, 'es'),\n",
              "  Text(1.0687996606645356, -0.26012936274741094, 'de'),\n",
              "  Text(1.0773191105706255, -0.22222406260195313, 'zh'),\n",
              "  Text(1.0835167978583342, -0.18971386021801853, 'hi'),\n",
              "  Text(1.0875756432724297, -0.16486121484618815, 'ja'),\n",
              "  Text(1.0906010773146022, -0.14348968659882622, 'it'),\n",
              "  Text(1.092883487371409, -0.12492270822755745, 'cn'),\n",
              "  Text(1.0946390911069936, -0.10846778425161549, 'ko'),\n",
              "  Text(1.0960865535188649, -0.09270527058984593, 'ru'),\n",
              "  Text(1.0972054830031333, -0.07835896928789601, 'pt'),\n",
              "  Text(1.097965443340663, -0.06687215586282344, 'da'),\n",
              "  Text(1.0984565010300316, -0.05825217030171998, 'sv'),\n",
              "  Text(1.0987803851616647, -0.0517847968421653, 'nl'),\n",
              "  Text(1.0990363161210686, -0.04603450713357274, 'fa'),\n",
              "  Text(1.0992355702663055, -0.04100196411527794, 'he'),\n",
              "  Text(1.0993880184234357, -0.03668766750546649, 'th'),\n",
              "  Text(1.0995021239019234, -0.033091985965784415, 'cs'),\n",
              "  Text(1.099584941078101, -0.03021518416739545, 'ta'),\n",
              "  Text(1.0996602312343366, -0.027338175536150495, 'id'),\n",
              "  Text(1.099727993855245, -0.024460979766119193, 'ro'),\n",
              "  Text(1.0997882284769684, -0.02158361655264929, 'ar'),\n",
              "  Text(1.0998284639438185, -0.01942549610642471, 'af'),\n",
              "  Text(1.0998529348820232, -0.01798670707495573, 'ps'),\n",
              "  Text(1.0998755236058106, -0.01654788726224571, 'is'),\n",
              "  Text(1.0998962300765243, -0.01510903913059323, 'pl'),\n",
              "  Text(1.0999150542587282, -0.013670165142345335, 'ky'),\n",
              "  Text(1.0999319961202083, -0.012231267759896247, 'hu'),\n",
              "  Text(1.0999470556319713, -0.01079234944567632, 'vi'),\n",
              "  Text(1.099960232768245, -0.00935341266215563, 'sl'),\n",
              "  Text(1.0999715275064792, -0.007914459871831963, 'el'),\n",
              "  Text(1.0999809398273452, -0.006475493537234394, 'nb'),\n",
              "  Text(1.0999884697147349, -0.005036516120911278, 'te'),\n",
              "  Text(1.0999941171557621, -0.0035975300854338356, 'no'),\n",
              "  Text(1.0999978821407626, -0.0021585378933851127, 'xx'),\n",
              "  Text(1.0999997646632929, -0.0007195420073586872, 'tr')])"
            ]
          },
          "metadata": {
            "tags": []
          },
          "execution_count": 40
        },
        {
          "output_type": "display_data",
          "data": {
            "image/png": "[encoded data removed]",
            "text/plain": [
              "<Figure size 432x288 with 1 Axes>"
            ]
          },
          "metadata": {
            "tags": []
          }
        }
      ]
    },
    {
      "cell_type": "code",
      "metadata": {
        "id": "QnDf4iN3Xny0",
        "colab_type": "code",
        "colab": {
          "base_uri": "https://localhost:8080/",
          "height": 34
        },
        "outputId": "e5a89d89-252d-47b9-f647-0849653804ee"
      },
      "source": [
        "total_por_lingua = tmdb[\"original_language\"].value_counts()\n",
        "total_ingles = total_por_lingua.loc[\"en\"]\n",
        "total_geral = total_por_lingua.sum()\n",
        "total_resto = total_geral - total_ingles\n",
        "print(total_ingles, total_resto)\n",
        "#Assim, temos duas categorias: ingles e outros"
      ],
      "execution_count": 44,
      "outputs": [
        {
          "output_type": "stream",
          "text": [
            "4505 298\n"
          ],
          "name": "stdout"
        }
      ]
    },
    {
      "cell_type": "code",
      "metadata": {
        "id": "NAd_KO6oYghv",
        "colab_type": "code",
        "colab": {
          "base_uri": "https://localhost:8080/",
          "height": 111
        },
        "outputId": "6acf5d7b-7be5-45bd-ccb8-998007e7256f"
      },
      "source": [
        "#Criando dicionario\n",
        "dados = {\n",
        "    'lingua' : ['ingles', 'outros'],\n",
        "    'total' : [total_ingles, total_resto]\n",
        "}\n",
        "\n",
        "pd.DataFrame(dados)"
      ],
      "execution_count": 45,
      "outputs": [
        {
          "output_type": "execute_result",
          "data": {
            "text/html": [
              "<div>\n",
              "<style scoped>\n",
              "    .dataframe tbody tr th:only-of-type {\n",
              "        vertical-align: middle;\n",
              "    }\n",
              "\n",
              "    .dataframe tbody tr th {\n",
              "        vertical-align: top;\n",
              "    }\n",
              "\n",
              "    .dataframe thead th {\n",
              "        text-align: right;\n",
              "    }\n",
              "</style>\n",
              "<table border=\"1\" class=\"dataframe\">\n",
              "  <thead>\n",
              "    <tr style=\"text-align: right;\">\n",
              "      <th></th>\n",
              "      <th>lingua</th>\n",
              "      <th>total</th>\n",
              "    </tr>\n",
              "  </thead>\n",
              "  <tbody>\n",
              "    <tr>\n",
              "      <th>0</th>\n",
              "      <td>ingles</td>\n",
              "      <td>4505</td>\n",
              "    </tr>\n",
              "    <tr>\n",
              "      <th>1</th>\n",
              "      <td>outros</td>\n",
              "      <td>298</td>\n",
              "    </tr>\n",
              "  </tbody>\n",
              "</table>\n",
              "</div>"
            ],
            "text/plain": [
              "   lingua  total\n",
              "0  ingles   4505\n",
              "1  outros    298"
            ]
          },
          "metadata": {
            "tags": []
          },
          "execution_count": 45
        }
      ]
    },
    {
      "cell_type": "code",
      "metadata": {
        "id": "vTyFLInXalFd",
        "colab_type": "code",
        "colab": {
          "base_uri": "https://localhost:8080/",
          "height": 286
        },
        "outputId": "a7b6791d-04c7-43ec-9a5c-d845c9f970a0"
      },
      "source": [
        "sns.barplot(x = 'lingua', y = 'total', data = dados)"
      ],
      "execution_count": 46,
      "outputs": [
        {
          "output_type": "execute_result",
          "data": {
            "text/plain": [
              "<matplotlib.axes._subplots.AxesSubplot at 0x7ff66da9c5f8>"
            ]
          },
          "metadata": {
            "tags": []
          },
          "execution_count": 46
        },
        {
          "output_type": "display_data",
          "data": {
            "image/png": "[encoded data removed]",
            "text/plain": [
              "<Figure size 432x288 with 1 Axes>"
            ]
          },
          "metadata": {
            "tags": []
          }
        }
      ]
    },
    {
      "cell_type": "code",
      "metadata": {
        "id": "hAYCEFMRa6kx",
        "colab_type": "code",
        "colab": {
          "base_uri": "https://localhost:8080/",
          "height": 1000
        },
        "outputId": "e668b0db-9f50-407b-95eb-70fe0887b321"
      },
      "source": [
        "tmdb.query(\"original_language != 'en'\")"
      ],
      "execution_count": 47,
      "outputs": [
        {
          "output_type": "execute_result",
          "data": {
            "text/html": [
              "<div>\n",
              "<style scoped>\n",
              "    .dataframe tbody tr th:only-of-type {\n",
              "        vertical-align: middle;\n",
              "    }\n",
              "\n",
              "    .dataframe tbody tr th {\n",
              "        vertical-align: top;\n",
              "    }\n",
              "\n",
              "    .dataframe thead th {\n",
              "        text-align: right;\n",
              "    }\n",
              "</style>\n",
              "<table border=\"1\" class=\"dataframe\">\n",
              "  <thead>\n",
              "    <tr style=\"text-align: right;\">\n",
              "      <th></th>\n",
              "      <th>budget</th>\n",
              "      <th>genres</th>\n",
              "      <th>homepage</th>\n",
              "      <th>id</th>\n",
              "      <th>keywords</th>\n",
              "      <th>original_language</th>\n",
              "      <th>original_title</th>\n",
              "      <th>overview</th>\n",
              "      <th>popularity</th>\n",
              "      <th>production_companies</th>\n",
              "      <th>production_countries</th>\n",
              "      <th>release_date</th>\n",
              "      <th>revenue</th>\n",
              "      <th>runtime</th>\n",
              "      <th>spoken_languages</th>\n",
              "      <th>status</th>\n",
              "      <th>tagline</th>\n",
              "      <th>title</th>\n",
              "      <th>vote_average</th>\n",
              "      <th>vote_count</th>\n",
              "    </tr>\n",
              "  </thead>\n",
              "  <tbody>\n",
              "    <tr>\n",
              "      <th>97</th>\n",
              "      <td>15000000</td>\n",
              "      <td>[{\"id\": 28, \"name\": \"Action\"}, {\"id\": 12, \"nam...</td>\n",
              "      <td>NaN</td>\n",
              "      <td>315011</td>\n",
              "      <td>[{\"id\": 1299, \"name\": \"monster\"}, {\"id\": 7671,...</td>\n",
              "      <td>ja</td>\n",
              "      <td>シン・ゴジラ</td>\n",
              "      <td>From the mind behind Evangelion comes a hit la...</td>\n",
              "      <td>9.476999</td>\n",
              "      <td>[{\"name\": \"Cine Bazar\", \"id\": 5896}, {\"name\": ...</td>\n",
              "      <td>[{\"iso_3166_1\": \"JP\", \"name\": \"Japan\"}]</td>\n",
              "      <td>2016-07-29</td>\n",
              "      <td>77000000</td>\n",
              "      <td>120.0</td>\n",
              "      <td>[{\"iso_639_1\": \"it\", \"name\": \"Italiano\"}, {\"is...</td>\n",
              "      <td>Released</td>\n",
              "      <td>A god incarnate. A city doomed.</td>\n",
              "      <td>Shin Godzilla</td>\n",
              "      <td>6.5</td>\n",
              "      <td>143</td>\n",
              "    </tr>\n",
              "    <tr>\n",
              "      <th>235</th>\n",
              "      <td>97250400</td>\n",
              "      <td>[{\"id\": 14, \"name\": \"Fantasy\"}, {\"id\": 12, \"na...</td>\n",
              "      <td>http://www.asterixauxjeuxolympiques.com/index.php</td>\n",
              "      <td>2395</td>\n",
              "      <td>[{\"id\": 271, \"name\": \"competition\"}, {\"id\": 12...</td>\n",
              "      <td>fr</td>\n",
              "      <td>Astérix aux Jeux Olympiques</td>\n",
              "      <td>Astérix and Obélix have to win the Olympic Gam...</td>\n",
              "      <td>20.344364</td>\n",
              "      <td>[{\"name\": \"Constantin Film\", \"id\": 47}, {\"name...</td>\n",
              "      <td>[{\"iso_3166_1\": \"BE\", \"name\": \"Belgium\"}, {\"is...</td>\n",
              "      <td>2008-01-13</td>\n",
              "      <td>132900000</td>\n",
              "      <td>116.0</td>\n",
              "      <td>[{\"iso_639_1\": \"fr\", \"name\": \"Fran\\u00e7ais\"},...</td>\n",
              "      <td>Released</td>\n",
              "      <td>NaN</td>\n",
              "      <td>Asterix at the Olympic Games</td>\n",
              "      <td>5.0</td>\n",
              "      <td>471</td>\n",
              "    </tr>\n",
              "    <tr>\n",
              "      <th>317</th>\n",
              "      <td>94000000</td>\n",
              "      <td>[{\"id\": 18, \"name\": \"Drama\"}, {\"id\": 36, \"name...</td>\n",
              "      <td>http://www.theflowersofwarmovie.com/</td>\n",
              "      <td>76758</td>\n",
              "      <td>[{\"id\": 173251, \"name\": \"forced prostitution\"}...</td>\n",
              "      <td>zh</td>\n",
              "      <td>金陵十三釵</td>\n",
              "      <td>A Westerner finds refuge with a group of women...</td>\n",
              "      <td>12.516546</td>\n",
              "      <td>[{\"name\": \"Beijing New Picture Film Co. Ltd.\",...</td>\n",
              "      <td>[{\"iso_3166_1\": \"CN\", \"name\": \"China\"}, {\"iso_...</td>\n",
              "      <td>2011-12-15</td>\n",
              "      <td>95311434</td>\n",
              "      <td>145.0</td>\n",
              "      <td>[{\"iso_639_1\": \"zh\", \"name\": \"\\u666e\\u901a\\u8b...</td>\n",
              "      <td>Released</td>\n",
              "      <td>NaN</td>\n",
              "      <td>The Flowers of War</td>\n",
              "      <td>7.1</td>\n",
              "      <td>187</td>\n",
              "    </tr>\n",
              "    <tr>\n",
              "      <th>474</th>\n",
              "      <td>0</td>\n",
              "      <td>[{\"id\": 9648, \"name\": \"Mystery\"}, {\"id\": 18, \"...</td>\n",
              "      <td>NaN</td>\n",
              "      <td>330770</td>\n",
              "      <td>[{\"id\": 428, \"name\": \"nurse\"}, {\"id\": 658, \"na...</td>\n",
              "      <td>fr</td>\n",
              "      <td>Évolution</td>\n",
              "      <td>11-year-old Nicolas lives with his mother in a...</td>\n",
              "      <td>3.300061</td>\n",
              "      <td>[{\"name\": \"Ex Nihilo\", \"id\": 3307}, {\"name\": \"...</td>\n",
              "      <td>[{\"iso_3166_1\": \"BE\", \"name\": \"Belgium\"}, {\"is...</td>\n",
              "      <td>2015-09-14</td>\n",
              "      <td>0</td>\n",
              "      <td>81.0</td>\n",
              "      <td>[{\"iso_639_1\": \"fr\", \"name\": \"Fran\\u00e7ais\"}]</td>\n",
              "      <td>Released</td>\n",
              "      <td>NaN</td>\n",
              "      <td>Evolution</td>\n",
              "      <td>6.4</td>\n",
              "      <td>47</td>\n",
              "    </tr>\n",
              "    <tr>\n",
              "      <th>492</th>\n",
              "      <td>8000000</td>\n",
              "      <td>[{\"id\": 35, \"name\": \"Comedy\"}, {\"id\": 16, \"nam...</td>\n",
              "      <td>NaN</td>\n",
              "      <td>293644</td>\n",
              "      <td>[{\"id\": 209714, \"name\": \"3d\"}]</td>\n",
              "      <td>es</td>\n",
              "      <td>Don Gato: El inicio de la pandilla</td>\n",
              "      <td>Top Cat has arrived to charm his way into your...</td>\n",
              "      <td>0.719996</td>\n",
              "      <td>[{\"name\": \"Anima Estudios\", \"id\": 9965}, {\"nam...</td>\n",
              "      <td>[{\"iso_3166_1\": \"IN\", \"name\": \"India\"}, {\"iso_...</td>\n",
              "      <td>2015-10-30</td>\n",
              "      <td>0</td>\n",
              "      <td>89.0</td>\n",
              "      <td>[]</td>\n",
              "      <td>Released</td>\n",
              "      <td>NaN</td>\n",
              "      <td>Top Cat Begins</td>\n",
              "      <td>5.3</td>\n",
              "      <td>9</td>\n",
              "    </tr>\n",
              "    <tr>\n",
              "      <th>678</th>\n",
              "      <td>65000000</td>\n",
              "      <td>[{\"id\": 28, \"name\": \"Action\"}, {\"id\": 18, \"nam...</td>\n",
              "      <td>NaN</td>\n",
              "      <td>300168</td>\n",
              "      <td>[]</td>\n",
              "      <td>zh</td>\n",
              "      <td>天將雄師</td>\n",
              "      <td>Huo An, the commander of the Protection Squad ...</td>\n",
              "      <td>9.568884</td>\n",
              "      <td>[{\"name\": \"Shanghai Film Group\", \"id\": 3407}, ...</td>\n",
              "      <td>[{\"iso_3166_1\": \"HK\", \"name\": \"Hong Kong\"}, {\"...</td>\n",
              "      <td>2015-02-19</td>\n",
              "      <td>121545703</td>\n",
              "      <td>127.0</td>\n",
              "      <td>[{\"iso_639_1\": \"en\", \"name\": \"English\"}, {\"iso...</td>\n",
              "      <td>Released</td>\n",
              "      <td>When the Eagle meets the Dragon</td>\n",
              "      <td>Dragon Blade</td>\n",
              "      <td>5.9</td>\n",
              "      <td>145</td>\n",
              "    </tr>\n",
              "    <tr>\n",
              "      <th>786</th>\n",
              "      <td>68490000</td>\n",
              "      <td>[{\"id\": 28, \"name\": \"Action\"}, {\"id\": 12, \"nam...</td>\n",
              "      <td>http://themonkeykingmovie.com</td>\n",
              "      <td>381902</td>\n",
              "      <td>[{\"id\": 207411, \"name\": \"monkey king\"}]</td>\n",
              "      <td>zh</td>\n",
              "      <td>西游记之孙悟空三打白骨精</td>\n",
              "      <td>Taking place 500 years after the Havoc in Heav...</td>\n",
              "      <td>4.726290</td>\n",
              "      <td>[{\"name\": \"Filmko Pictures\", \"id\": 9175}]</td>\n",
              "      <td>[{\"iso_3166_1\": \"HK\", \"name\": \"Hong Kong\"}, {\"...</td>\n",
              "      <td>2016-01-22</td>\n",
              "      <td>193677158</td>\n",
              "      <td>120.0</td>\n",
              "      <td>[{\"iso_639_1\": \"zh\", \"name\": \"\\u666e\\u901a\\u8b...</td>\n",
              "      <td>Released</td>\n",
              "      <td>NaN</td>\n",
              "      <td>The Monkey King 2</td>\n",
              "      <td>6.0</td>\n",
              "      <td>24</td>\n",
              "    </tr>\n",
              "    <tr>\n",
              "      <th>861</th>\n",
              "      <td>47000000</td>\n",
              "      <td>[{\"id\": 18, \"name\": \"Drama\"}]</td>\n",
              "      <td>NaN</td>\n",
              "      <td>2841</td>\n",
              "      <td>[{\"id\": 90, \"name\": \"paris\"}, {\"id\": 549, \"nam...</td>\n",
              "      <td>fr</td>\n",
              "      <td>Un long dimanche de fiançailles</td>\n",
              "      <td>In 1919, Mathilde was 19 years old. Two years ...</td>\n",
              "      <td>23.054510</td>\n",
              "      <td>[{\"name\": \"Gerber Pictures\", \"id\": 975}, {\"nam...</td>\n",
              "      <td>[{\"iso_3166_1\": \"FR\", \"name\": \"France\"}]</td>\n",
              "      <td>2004-10-26</td>\n",
              "      <td>0</td>\n",
              "      <td>133.0</td>\n",
              "      <td>[{\"iso_639_1\": \"co\", \"name\": \"\"}, {\"iso_639_1\"...</td>\n",
              "      <td>Released</td>\n",
              "      <td>Never let go</td>\n",
              "      <td>A Very Long Engagement</td>\n",
              "      <td>7.1</td>\n",
              "      <td>346</td>\n",
              "    </tr>\n",
              "    <tr>\n",
              "      <th>985</th>\n",
              "      <td>60000000</td>\n",
              "      <td>[{\"id\": 12, \"name\": \"Adventure\"}, {\"id\": 18, \"...</td>\n",
              "      <td>NaN</td>\n",
              "      <td>10047</td>\n",
              "      <td>[{\"id\": 222, \"name\": \"schizophrenia\"}, {\"id\": ...</td>\n",
              "      <td>fr</td>\n",
              "      <td>Joan of Arc</td>\n",
              "      <td>In 1429 a teenage girl from a remote French vi...</td>\n",
              "      <td>21.084542</td>\n",
              "      <td>[{\"name\": \"Columbia Pictures\", \"id\": 5}, {\"nam...</td>\n",
              "      <td>[{\"iso_3166_1\": \"FR\", \"name\": \"France\"}]</td>\n",
              "      <td>1999-10-18</td>\n",
              "      <td>66976317</td>\n",
              "      <td>148.0</td>\n",
              "      <td>[{\"iso_639_1\": \"en\", \"name\": \"English\"}, {\"iso...</td>\n",
              "      <td>Released</td>\n",
              "      <td>NaN</td>\n",
              "      <td>The Messenger: The Story of Joan of Arc</td>\n",
              "      <td>6.2</td>\n",
              "      <td>367</td>\n",
              "    </tr>\n",
              "    <tr>\n",
              "      <th>1011</th>\n",
              "      <td>0</td>\n",
              "      <td>[{\"id\": 27, \"name\": \"Horror\"}]</td>\n",
              "      <td>NaN</td>\n",
              "      <td>53953</td>\n",
              "      <td>[{\"id\": 10292, \"name\": \"gore\"}, {\"id\": 12339, ...</td>\n",
              "      <td>de</td>\n",
              "      <td>The Tooth Fairy</td>\n",
              "      <td>A woman and her daughter (Nicole Muñoz) encoun...</td>\n",
              "      <td>0.716764</td>\n",
              "      <td>[]</td>\n",
              "      <td>[]</td>\n",
              "      <td>2006-08-08</td>\n",
              "      <td>0</td>\n",
              "      <td>0.0</td>\n",
              "      <td>[{\"iso_639_1\": \"en\", \"name\": \"English\"}, {\"iso...</td>\n",
              "      <td>Released</td>\n",
              "      <td>NaN</td>\n",
              "      <td>The Tooth Fairy</td>\n",
              "      <td>4.3</td>\n",
              "      <td>13</td>\n",
              "    </tr>\n",
              "    <tr>\n",
              "      <th>1023</th>\n",
              "      <td>0</td>\n",
              "      <td>[{\"id\": 18, \"name\": \"Drama\"}]</td>\n",
              "      <td>NaN</td>\n",
              "      <td>7504</td>\n",
              "      <td>[{\"id\": 818, \"name\": \"based on novel\"}, {\"id\":...</td>\n",
              "      <td>hi</td>\n",
              "      <td>1947: Earth</td>\n",
              "      <td>It's 1947 and the borderlines between India an...</td>\n",
              "      <td>1.246883</td>\n",
              "      <td>[{\"name\": \"Cracking the Earth Films\", \"id\": 22...</td>\n",
              "      <td>[{\"iso_3166_1\": \"CA\", \"name\": \"Canada\"}, {\"iso...</td>\n",
              "      <td>1998-09-16</td>\n",
              "      <td>528972</td>\n",
              "      <td>101.0</td>\n",
              "      <td>[{\"iso_639_1\": \"hi\", \"name\": \"\\u0939\\u093f\\u09...</td>\n",
              "      <td>Released</td>\n",
              "      <td>NaN</td>\n",
              "      <td>Earth</td>\n",
              "      <td>6.6</td>\n",
              "      <td>9</td>\n",
              "    </tr>\n",
              "    <tr>\n",
              "      <th>1028</th>\n",
              "      <td>0</td>\n",
              "      <td>[{\"id\": 18, \"name\": \"Drama\"}, {\"id\": 878, \"nam...</td>\n",
              "      <td>NaN</td>\n",
              "      <td>593</td>\n",
              "      <td>[{\"id\": 1228, \"name\": \"1970s\"}, {\"id\": 1565, \"...</td>\n",
              "      <td>ru</td>\n",
              "      <td>Солярис</td>\n",
              "      <td>Ground control has been receiving strange tran...</td>\n",
              "      <td>24.132271</td>\n",
              "      <td>[{\"name\": \"Mosfilm\", \"id\": 5120}, {\"name\": \"Cr...</td>\n",
              "      <td>[{\"iso_3166_1\": \"RU\", \"name\": \"Russia\"}]</td>\n",
              "      <td>1972-03-20</td>\n",
              "      <td>0</td>\n",
              "      <td>167.0</td>\n",
              "      <td>[{\"iso_639_1\": \"ru\", \"name\": \"P\\u0443\\u0441\\u0...</td>\n",
              "      <td>Released</td>\n",
              "      <td>NaN</td>\n",
              "      <td>Solaris</td>\n",
              "      <td>7.7</td>\n",
              "      <td>357</td>\n",
              "    </tr>\n",
              "    <tr>\n",
              "      <th>1095</th>\n",
              "      <td>110</td>\n",
              "      <td>[{\"id\": 28, \"name\": \"Action\"}, {\"id\": 18, \"nam...</td>\n",
              "      <td>http://ent.sina.com.cn/hjj/</td>\n",
              "      <td>1494</td>\n",
              "      <td>[{\"id\": 351, \"name\": \"poison\"}, {\"id\": 478, \"n...</td>\n",
              "      <td>zh</td>\n",
              "      <td>滿城盡帶黃金甲</td>\n",
              "      <td>During China's Tang dynasty the emperor has ta...</td>\n",
              "      <td>9.950505</td>\n",
              "      <td>[{\"name\": \"Beijing New Picture Film Co. Ltd.\",...</td>\n",
              "      <td>[{\"iso_3166_1\": \"CN\", \"name\": \"China\"}, {\"iso_...</td>\n",
              "      <td>2006-12-21</td>\n",
              "      <td>0</td>\n",
              "      <td>114.0</td>\n",
              "      <td>[{\"iso_639_1\": \"zh\", \"name\": \"\\u666e\\u901a\\u8b...</td>\n",
              "      <td>Released</td>\n",
              "      <td>Unspeakable secrets are hidden within the Forb...</td>\n",
              "      <td>Curse of the Golden Flower</td>\n",
              "      <td>6.6</td>\n",
              "      <td>203</td>\n",
              "    </tr>\n",
              "    <tr>\n",
              "      <th>1136</th>\n",
              "      <td>31000000</td>\n",
              "      <td>[{\"id\": 18, \"name\": \"Drama\"}, {\"id\": 12, \"name...</td>\n",
              "      <td>NaN</td>\n",
              "      <td>79</td>\n",
              "      <td>[{\"id\": 548, \"name\": \"countryside\"}, {\"id\": 10...</td>\n",
              "      <td>zh</td>\n",
              "      <td>英雄</td>\n",
              "      <td>One man defeated three assassins who sought to...</td>\n",
              "      <td>23.607392</td>\n",
              "      <td>[{\"name\": \"Beijing New Picture Film Co. Ltd.\",...</td>\n",
              "      <td>[{\"iso_3166_1\": \"CN\", \"name\": \"China\"}]</td>\n",
              "      <td>2002-12-19</td>\n",
              "      <td>177394432</td>\n",
              "      <td>99.0</td>\n",
              "      <td>[{\"iso_639_1\": \"zh\", \"name\": \"\\u666e\\u901a\\u8b...</td>\n",
              "      <td>Released</td>\n",
              "      <td>One man's strength will unite an empire.</td>\n",
              "      <td>Hero</td>\n",
              "      <td>7.2</td>\n",
              "      <td>635</td>\n",
              "    </tr>\n",
              "    <tr>\n",
              "      <th>1140</th>\n",
              "      <td>33000000</td>\n",
              "      <td>[{\"id\": 28, \"name\": \"Action\"}, {\"id\": 35, \"nam...</td>\n",
              "      <td>NaN</td>\n",
              "      <td>27936</td>\n",
              "      <td>[{\"id\": 156052, \"name\": \"unemployment\"}, {\"id\"...</td>\n",
              "      <td>fr</td>\n",
              "      <td>Micmacs à tire-larigot</td>\n",
              "      <td>A man and his friends come up with an intricat...</td>\n",
              "      <td>7.663515</td>\n",
              "      <td>[{\"name\": \"France 2 Cin\\u00e9ma\", \"id\": 83}, {...</td>\n",
              "      <td>[{\"iso_3166_1\": \"FR\", \"name\": \"France\"}]</td>\n",
              "      <td>2009-10-28</td>\n",
              "      <td>14000000</td>\n",
              "      <td>100.0</td>\n",
              "      <td>[{\"iso_639_1\": \"fr\", \"name\": \"Fran\\u00e7ais\"}]</td>\n",
              "      <td>Released</td>\n",
              "      <td>Non Stop Madness</td>\n",
              "      <td>Micmacs</td>\n",
              "      <td>6.8</td>\n",
              "      <td>148</td>\n",
              "    </tr>\n",
              "    <tr>\n",
              "      <th>1142</th>\n",
              "      <td>0</td>\n",
              "      <td>[{\"id\": 12, \"name\": \"Adventure\"}, {\"id\": 35, \"...</td>\n",
              "      <td>http://pourquoijaipasmangemonpere.com/</td>\n",
              "      <td>280391</td>\n",
              "      <td>[{\"id\": 10336, \"name\": \"animation\"}, {\"id\": 34...</td>\n",
              "      <td>fr</td>\n",
              "      <td>Pourquoi j'ai pas mangé mon père</td>\n",
              "      <td>Based on the novel 'Evolution Man' by Roy Lewi...</td>\n",
              "      <td>5.794466</td>\n",
              "      <td>[{\"name\": \"Path\\u00e9 Films\", \"id\": 4959}, {\"n...</td>\n",
              "      <td>[{\"iso_3166_1\": \"FR\", \"name\": \"France\"}]</td>\n",
              "      <td>2015-04-08</td>\n",
              "      <td>0</td>\n",
              "      <td>100.0</td>\n",
              "      <td>[{\"iso_639_1\": \"en\", \"name\": \"English\"}, {\"iso...</td>\n",
              "      <td>Released</td>\n",
              "      <td>These feet are made for walkin'</td>\n",
              "      <td>Why I Did (Not) Eat My Father</td>\n",
              "      <td>5.3</td>\n",
              "      <td>125</td>\n",
              "    </tr>\n",
              "    <tr>\n",
              "      <th>1260</th>\n",
              "      <td>10000000</td>\n",
              "      <td>[{\"id\": 35, \"name\": \"Comedy\"}, {\"id\": 10749, \"...</td>\n",
              "      <td>http://www.die-fabelhafte-welt-der-amelie.de</td>\n",
              "      <td>194</td>\n",
              "      <td>[{\"id\": 90, \"name\": \"paris\"}, {\"id\": 128, \"nam...</td>\n",
              "      <td>fr</td>\n",
              "      <td>Le fabuleux destin d'Amélie Poulain</td>\n",
              "      <td>At a tiny Parisian café, the adorable yet pain...</td>\n",
              "      <td>73.720244</td>\n",
              "      <td>[{\"name\": \"France 3 Cin\\u00e9ma\", \"id\": 591}, ...</td>\n",
              "      <td>[{\"iso_3166_1\": \"FR\", \"name\": \"France\"}, {\"iso...</td>\n",
              "      <td>2001-04-25</td>\n",
              "      <td>173921954</td>\n",
              "      <td>122.0</td>\n",
              "      <td>[{\"iso_639_1\": \"fr\", \"name\": \"Fran\\u00e7ais\"},...</td>\n",
              "      <td>Released</td>\n",
              "      <td>One person can change your life forever.</td>\n",
              "      <td>Amélie</td>\n",
              "      <td>7.8</td>\n",
              "      <td>3310</td>\n",
              "    </tr>\n",
              "    <tr>\n",
              "      <th>1284</th>\n",
              "      <td>40000000</td>\n",
              "      <td>[{\"id\": 28, \"name\": \"Action\"}, {\"id\": 18, \"nam...</td>\n",
              "      <td>NaN</td>\n",
              "      <td>14392</td>\n",
              "      <td>[{\"id\": 782, \"name\": \"assassin\"}, {\"id\": 1402,...</td>\n",
              "      <td>zh</td>\n",
              "      <td>投名狀</td>\n",
              "      <td>A heroic tale of three blood brothers and thei...</td>\n",
              "      <td>6.884467</td>\n",
              "      <td>[{\"name\": \"Applause Pictures\", \"id\": 5346}, {\"...</td>\n",
              "      <td>[{\"iso_3166_1\": \"CN\", \"name\": \"China\"}, {\"iso_...</td>\n",
              "      <td>2007-12-12</td>\n",
              "      <td>0</td>\n",
              "      <td>126.0</td>\n",
              "      <td>[{\"iso_639_1\": \"zh\", \"name\": \"\\u666e\\u901a\\u8b...</td>\n",
              "      <td>Released</td>\n",
              "      <td>NaN</td>\n",
              "      <td>The Warlords</td>\n",
              "      <td>6.3</td>\n",
              "      <td>83</td>\n",
              "    </tr>\n",
              "    <tr>\n",
              "      <th>1286</th>\n",
              "      <td>39200000</td>\n",
              "      <td>[{\"id\": 28, \"name\": \"Action\"}, {\"id\": 878, \"na...</td>\n",
              "      <td>http://snowpiercer-film.com/</td>\n",
              "      <td>110415</td>\n",
              "      <td>[{\"id\": 494, \"name\": \"father son relationship\"...</td>\n",
              "      <td>ko</td>\n",
              "      <td>Snowpiercer</td>\n",
              "      <td>In a future where a failed global-warming expe...</td>\n",
              "      <td>64.238688</td>\n",
              "      <td>[{\"name\": \"CJ Entertainment\", \"id\": 7036}, {\"n...</td>\n",
              "      <td>[{\"iso_3166_1\": \"KR\", \"name\": \"South Korea\"}, ...</td>\n",
              "      <td>2013-08-01</td>\n",
              "      <td>86758912</td>\n",
              "      <td>126.0</td>\n",
              "      <td>[{\"iso_639_1\": \"en\", \"name\": \"English\"}, {\"iso...</td>\n",
              "      <td>Released</td>\n",
              "      <td>AD 2031, the passengers in the train are the o...</td>\n",
              "      <td>Snowpiercer</td>\n",
              "      <td>6.7</td>\n",
              "      <td>2854</td>\n",
              "    </tr>\n",
              "    <tr>\n",
              "      <th>1287</th>\n",
              "      <td>25000000</td>\n",
              "      <td>[{\"id\": 12, \"name\": \"Adventure\"}, {\"id\": 16, \"...</td>\n",
              "      <td>NaN</td>\n",
              "      <td>77459</td>\n",
              "      <td>[{\"id\": 1299, \"name\": \"monster\"}, {\"id\": 10987...</td>\n",
              "      <td>fr</td>\n",
              "      <td>Un monstre à Paris</td>\n",
              "      <td>Paris,1910. Emile, a shy movie projectionist, ...</td>\n",
              "      <td>17.375562</td>\n",
              "      <td>[{\"name\": \"Europa Corp\", \"id\": 1075}, {\"name\":...</td>\n",
              "      <td>[{\"iso_3166_1\": \"FR\", \"name\": \"France\"}]</td>\n",
              "      <td>2011-10-12</td>\n",
              "      <td>0</td>\n",
              "      <td>90.0</td>\n",
              "      <td>[{\"iso_639_1\": \"fr\", \"name\": \"Fran\\u00e7ais\"}]</td>\n",
              "      <td>Released</td>\n",
              "      <td>NaN</td>\n",
              "      <td>A Monster in Paris</td>\n",
              "      <td>6.5</td>\n",
              "      <td>313</td>\n",
              "    </tr>\n",
              "    <tr>\n",
              "      <th>1290</th>\n",
              "      <td>40000000</td>\n",
              "      <td>[{\"id\": 28, \"name\": \"Action\"}, {\"id\": 12, \"nam...</td>\n",
              "      <td>http://baahubali.com/</td>\n",
              "      <td>256040</td>\n",
              "      <td>[{\"id\": 4152, \"name\": \"kingdom\"}, {\"id\": 6091,...</td>\n",
              "      <td>te</td>\n",
              "      <td>Baahubali: The Beginning</td>\n",
              "      <td>The young Shivudu is left as a foundling in a ...</td>\n",
              "      <td>16.254032</td>\n",
              "      <td>[{\"name\": \"Arka Media Works\", \"id\": 57946}]</td>\n",
              "      <td>[{\"iso_3166_1\": \"IN\", \"name\": \"India\"}]</td>\n",
              "      <td>2015-07-10</td>\n",
              "      <td>100000000</td>\n",
              "      <td>159.0</td>\n",
              "      <td>[{\"iso_639_1\": \"ml\", \"name\": \"\"}, {\"iso_639_1\"...</td>\n",
              "      <td>Released</td>\n",
              "      <td>NaN</td>\n",
              "      <td>Baahubali: The Beginning</td>\n",
              "      <td>7.5</td>\n",
              "      <td>135</td>\n",
              "    </tr>\n",
              "    <tr>\n",
              "      <th>1298</th>\n",
              "      <td>80341000</td>\n",
              "      <td>[{\"id\": 12, \"name\": \"Adventure\"}, {\"id\": 18, \"...</td>\n",
              "      <td>http://www.redclifffilm.com</td>\n",
              "      <td>12289</td>\n",
              "      <td>[{\"id\": 158145, \"name\": \"flaming arrow\"}, {\"id...</td>\n",
              "      <td>zh</td>\n",
              "      <td>Chi bi</td>\n",
              "      <td>In the early third century, the land of Wu is ...</td>\n",
              "      <td>14.837500</td>\n",
              "      <td>[{\"name\": \"Metropolitan Filmexport\", \"id\": 656...</td>\n",
              "      <td>[{\"iso_3166_1\": \"CN\", \"name\": \"China\"}]</td>\n",
              "      <td>2008-07-10</td>\n",
              "      <td>127814609</td>\n",
              "      <td>150.0</td>\n",
              "      <td>[{\"iso_639_1\": \"zh\", \"name\": \"\\u666e\\u901a\\u8b...</td>\n",
              "      <td>Released</td>\n",
              "      <td>The future will be decided.</td>\n",
              "      <td>Red Cliff</td>\n",
              "      <td>7.1</td>\n",
              "      <td>205</td>\n",
              "    </tr>\n",
              "    <tr>\n",
              "      <th>1304</th>\n",
              "      <td>3860000</td>\n",
              "      <td>[{\"id\": 28, \"name\": \"Action\"}, {\"id\": 18, \"nam...</td>\n",
              "      <td>NaN</td>\n",
              "      <td>44865</td>\n",
              "      <td>[{\"id\": 779, \"name\": \"martial arts\"}, {\"id\": 7...</td>\n",
              "      <td>zh</td>\n",
              "      <td>一代宗師</td>\n",
              "      <td>Ip Man's peaceful life in Foshan changes after...</td>\n",
              "      <td>19.947265</td>\n",
              "      <td>[{\"name\": \"The Weinstein Company\", \"id\": 308},...</td>\n",
              "      <td>[{\"iso_3166_1\": \"CN\", \"name\": \"China\"}, {\"iso_...</td>\n",
              "      <td>2013-01-08</td>\n",
              "      <td>64076736</td>\n",
              "      <td>130.0</td>\n",
              "      <td>[{\"iso_639_1\": \"cn\", \"name\": \"\\u5e7f\\u5dde\\u8b...</td>\n",
              "      <td>Released</td>\n",
              "      <td>In Martial Arts there is no right or wrong, on...</td>\n",
              "      <td>The Grandmaster</td>\n",
              "      <td>6.3</td>\n",
              "      <td>273</td>\n",
              "    </tr>\n",
              "    <tr>\n",
              "      <th>1306</th>\n",
              "      <td>40000000</td>\n",
              "      <td>[{\"id\": 12, \"name\": \"Adventure\"}, {\"id\": 10751...</td>\n",
              "      <td>NaN</td>\n",
              "      <td>257932</td>\n",
              "      <td>[]</td>\n",
              "      <td>zh</td>\n",
              "      <td>Dragon Nest: Warriors' Dawn</td>\n",
              "      <td>The land of Altera has observed an uneasy peac...</td>\n",
              "      <td>5.057695</td>\n",
              "      <td>[{\"name\": \"Mili Pictures\", \"id\": 60714}]</td>\n",
              "      <td>[{\"iso_3166_1\": \"CN\", \"name\": \"China\"}, {\"iso_...</td>\n",
              "      <td>2014-05-20</td>\n",
              "      <td>0</td>\n",
              "      <td>88.0</td>\n",
              "      <td>[{\"iso_639_1\": \"cn\", \"name\": \"\\u5e7f\\u5dde\\u8b...</td>\n",
              "      <td>Released</td>\n",
              "      <td>NaN</td>\n",
              "      <td>Dragon Nest: Warriors' Dawn</td>\n",
              "      <td>6.8</td>\n",
              "      <td>19</td>\n",
              "    </tr>\n",
              "    <tr>\n",
              "      <th>1341</th>\n",
              "      <td>36500000</td>\n",
              "      <td>[{\"id\": 28, \"name\": \"Action\"}, {\"id\": 14, \"nam...</td>\n",
              "      <td>http://oostrov.ru</td>\n",
              "      <td>16911</td>\n",
              "      <td>[{\"id\": 818, \"name\": \"based on novel\"}, {\"id\":...</td>\n",
              "      <td>ru</td>\n",
              "      <td>Obitaemyy Ostrov</td>\n",
              "      <td>On the threshold of 22nd century, furrowing th...</td>\n",
              "      <td>2.785832</td>\n",
              "      <td>[{\"name\": \"Art Pictures Studio\", \"id\": 3451}, ...</td>\n",
              "      <td>[{\"iso_3166_1\": \"RU\", \"name\": \"Russia\"}]</td>\n",
              "      <td>2008-12-18</td>\n",
              "      <td>21834845</td>\n",
              "      <td>115.0</td>\n",
              "      <td>[{\"iso_639_1\": \"ru\", \"name\": \"P\\u0443\\u0441\\u0...</td>\n",
              "      <td>Released</td>\n",
              "      <td>NaN</td>\n",
              "      <td>The Inhabited Island</td>\n",
              "      <td>5.3</td>\n",
              "      <td>23</td>\n",
              "    </tr>\n",
              "    <tr>\n",
              "      <th>1353</th>\n",
              "      <td>36000000</td>\n",
              "      <td>[{\"id\": 18, \"name\": \"Drama\"}, {\"id\": 35, \"name...</td>\n",
              "      <td>NaN</td>\n",
              "      <td>75531</td>\n",
              "      <td>[{\"id\": 1646, \"name\": \"autism\"}, {\"id\": 165340...</td>\n",
              "      <td>de</td>\n",
              "      <td>Isn't She Great</td>\n",
              "      <td>An unsuccessful over-the-top actress becomes a...</td>\n",
              "      <td>1.068453</td>\n",
              "      <td>[{\"name\": \"Universal Pictures\", \"id\": 33}, {\"n...</td>\n",
              "      <td>[{\"iso_3166_1\": \"US\", \"name\": \"United States o...</td>\n",
              "      <td>2000-01-28</td>\n",
              "      <td>3003296</td>\n",
              "      <td>95.0</td>\n",
              "      <td>[{\"iso_639_1\": \"en\", \"name\": \"English\"}]</td>\n",
              "      <td>Released</td>\n",
              "      <td>Talent Isn't Everything...</td>\n",
              "      <td>Isn't She Great</td>\n",
              "      <td>4.6</td>\n",
              "      <td>14</td>\n",
              "    </tr>\n",
              "    <tr>\n",
              "      <th>1357</th>\n",
              "      <td>36000000</td>\n",
              "      <td>[{\"id\": 28, \"name\": \"Action\"}, {\"id\": 18, \"nam...</td>\n",
              "      <td>NaN</td>\n",
              "      <td>365222</td>\n",
              "      <td>[{\"id\": 5565, \"name\": \"biography\"}]</td>\n",
              "      <td>cn</td>\n",
              "      <td>葉問3</td>\n",
              "      <td>When a band of brutal gangsters led by a crook...</td>\n",
              "      <td>19.167377</td>\n",
              "      <td>[{\"name\": \"Mandarin Films Distribution Co.\", \"...</td>\n",
              "      <td>[{\"iso_3166_1\": \"HK\", \"name\": \"Hong Kong\"}]</td>\n",
              "      <td>2015-12-19</td>\n",
              "      <td>156844753</td>\n",
              "      <td>105.0</td>\n",
              "      <td>[{\"iso_639_1\": \"cn\", \"name\": \"\\u5e7f\\u5dde\\u8b...</td>\n",
              "      <td>Released</td>\n",
              "      <td>NaN</td>\n",
              "      <td>Ip Man 3</td>\n",
              "      <td>6.5</td>\n",
              "      <td>379</td>\n",
              "    </tr>\n",
              "    <tr>\n",
              "      <th>1462</th>\n",
              "      <td>0</td>\n",
              "      <td>[{\"id\": 18, \"name\": \"Drama\"}]</td>\n",
              "      <td>NaN</td>\n",
              "      <td>45958</td>\n",
              "      <td>[{\"id\": 2356, \"name\": \"immigrant\"}, {\"id\": 124...</td>\n",
              "      <td>es</td>\n",
              "      <td>Biutiful</td>\n",
              "      <td>This is a story of a man in free fall. On the ...</td>\n",
              "      <td>13.930763</td>\n",
              "      <td>[{\"name\": \"Ikiru Films\", \"id\": 2875}, {\"name\":...</td>\n",
              "      <td>[{\"iso_3166_1\": \"MX\", \"name\": \"Mexico\"}, {\"iso...</td>\n",
              "      <td>2010-10-20</td>\n",
              "      <td>25147786</td>\n",
              "      <td>148.0</td>\n",
              "      <td>[{\"iso_639_1\": \"cn\", \"name\": \"\\u5e7f\\u5dde\\u8b...</td>\n",
              "      <td>Released</td>\n",
              "      <td>You don't choose your family. We all belong to...</td>\n",
              "      <td>Biutiful</td>\n",
              "      <td>7.0</td>\n",
              "      <td>291</td>\n",
              "    </tr>\n",
              "    <tr>\n",
              "      <th>1463</th>\n",
              "      <td>35000000</td>\n",
              "      <td>[{\"id\": 28, \"name\": \"Action\"}, {\"id\": 35, \"nam...</td>\n",
              "      <td>NaN</td>\n",
              "      <td>1969</td>\n",
              "      <td>[{\"id\": 534, \"name\": \"mexico\"}, {\"id\": 2492, \"...</td>\n",
              "      <td>es</td>\n",
              "      <td>Bandidas</td>\n",
              "      <td>Set in the late 19th century. When a ruthless ...</td>\n",
              "      <td>20.277040</td>\n",
              "      <td>[{\"name\": \"Ultra Films\", \"id\": 828}, {\"name\": ...</td>\n",
              "      <td>[{\"iso_3166_1\": \"US\", \"name\": \"United States o...</td>\n",
              "      <td>2006-01-18</td>\n",
              "      <td>10496317</td>\n",
              "      <td>93.0</td>\n",
              "      <td>[{\"iso_639_1\": \"en\", \"name\": \"English\"}, {\"iso...</td>\n",
              "      <td>Released</td>\n",
              "      <td>Being BAD never looked so GOOD!</td>\n",
              "      <td>Bandidas</td>\n",
              "      <td>5.8</td>\n",
              "      <td>307</td>\n",
              "    </tr>\n",
              "    <tr>\n",
              "      <th>1471</th>\n",
              "      <td>41677699</td>\n",
              "      <td>[{\"id\": 16, \"name\": \"Animation\"}, {\"id\": 10751...</td>\n",
              "      <td>NaN</td>\n",
              "      <td>12429</td>\n",
              "      <td>[{\"id\": 456, \"name\": \"mother\"}, {\"id\": 1357, \"...</td>\n",
              "      <td>ja</td>\n",
              "      <td>崖の上のポニョ</td>\n",
              "      <td>The son of a sailor, 5-year old Sosuke lives a...</td>\n",
              "      <td>39.586760</td>\n",
              "      <td>[{\"name\": \"Studio Ghibli\", \"id\": 10342}, {\"nam...</td>\n",
              "      <td>[{\"iso_3166_1\": \"JP\", \"name\": \"Japan\"}]</td>\n",
              "      <td>2008-07-19</td>\n",
              "      <td>187479518</td>\n",
              "      <td>100.0</td>\n",
              "      <td>[{\"iso_639_1\": \"ja\", \"name\": \"\\u65e5\\u672c\\u8a...</td>\n",
              "      <td>Released</td>\n",
              "      <td>Welcome To A World Where Anything Is Possible.</td>\n",
              "      <td>Ponyo</td>\n",
              "      <td>7.5</td>\n",
              "      <td>926</td>\n",
              "    </tr>\n",
              "    <tr>\n",
              "      <th>...</th>\n",
              "      <td>...</td>\n",
              "      <td>...</td>\n",
              "      <td>...</td>\n",
              "      <td>...</td>\n",
              "      <td>...</td>\n",
              "      <td>...</td>\n",
              "      <td>...</td>\n",
              "      <td>...</td>\n",
              "      <td>...</td>\n",
              "      <td>...</td>\n",
              "      <td>...</td>\n",
              "      <td>...</td>\n",
              "      <td>...</td>\n",
              "      <td>...</td>\n",
              "      <td>...</td>\n",
              "      <td>...</td>\n",
              "      <td>...</td>\n",
              "      <td>...</td>\n",
              "      <td>...</td>\n",
              "      <td>...</td>\n",
              "    </tr>\n",
              "    <tr>\n",
              "      <th>4464</th>\n",
              "      <td>800000</td>\n",
              "      <td>[{\"id\": 27, \"name\": \"Horror\"}, {\"id\": 35, \"nam...</td>\n",
              "      <td>http://www.deadsnow.com</td>\n",
              "      <td>14451</td>\n",
              "      <td>[{\"id\": 1191, \"name\": \"norway\"}, {\"id\": 10327,...</td>\n",
              "      <td>no</td>\n",
              "      <td>Død snø</td>\n",
              "      <td>Eight medical students on a ski trip to Norway...</td>\n",
              "      <td>11.205726</td>\n",
              "      <td>[{\"name\": \"Euforia Film\", \"id\": 3553}, {\"name\"...</td>\n",
              "      <td>[{\"iso_3166_1\": \"NO\", \"name\": \"Norway\"}]</td>\n",
              "      <td>2009-01-09</td>\n",
              "      <td>1984662</td>\n",
              "      <td>91.0</td>\n",
              "      <td>[{\"iso_639_1\": \"no\", \"name\": \"Norsk\"}]</td>\n",
              "      <td>Released</td>\n",
              "      <td>Eins, Zwei, Die!</td>\n",
              "      <td>Dead Snow</td>\n",
              "      <td>6.1</td>\n",
              "      <td>311</td>\n",
              "    </tr>\n",
              "    <tr>\n",
              "      <th>4474</th>\n",
              "      <td>750000</td>\n",
              "      <td>[{\"id\": 18, \"name\": \"Drama\"}]</td>\n",
              "      <td>NaN</td>\n",
              "      <td>8416</td>\n",
              "      <td>[{\"id\": 90, \"name\": \"paris\"}, {\"id\": 131, \"nam...</td>\n",
              "      <td>it</td>\n",
              "      <td>Il conformista</td>\n",
              "      <td>A weak-willed Italian man becomes a fascist fl...</td>\n",
              "      <td>8.429295</td>\n",
              "      <td>[{\"name\": \"Paramount Pictures\", \"id\": 4}, {\"na...</td>\n",
              "      <td>[{\"iso_3166_1\": \"IT\", \"name\": \"Italy\"}, {\"iso_...</td>\n",
              "      <td>1970-10-21</td>\n",
              "      <td>0</td>\n",
              "      <td>107.0</td>\n",
              "      <td>[{\"iso_639_1\": \"en\", \"name\": \"English\"}, {\"iso...</td>\n",
              "      <td>Released</td>\n",
              "      <td>Bertolucci's Masterpiece about Sex and Politics</td>\n",
              "      <td>The Conformist</td>\n",
              "      <td>7.6</td>\n",
              "      <td>127</td>\n",
              "    </tr>\n",
              "    <tr>\n",
              "      <th>4503</th>\n",
              "      <td>522360</td>\n",
              "      <td>[{\"id\": 10402, \"name\": \"Music\"}, {\"id\": 99, \"n...</td>\n",
              "      <td>https://www.facebook.com/music4mali</td>\n",
              "      <td>324322</td>\n",
              "      <td>[{\"id\": 187056, \"name\": \"woman director\"}]</td>\n",
              "      <td>fr</td>\n",
              "      <td>They Will Have to Kill Us First</td>\n",
              "      <td>In 2012, jihadists took control of northern Ma...</td>\n",
              "      <td>0.071349</td>\n",
              "      <td>[{\"name\": \"Spring Films\", \"id\": 9158}, {\"name\"...</td>\n",
              "      <td>[{\"iso_3166_1\": \"GB\", \"name\": \"United Kingdom\"}]</td>\n",
              "      <td>2015-10-13</td>\n",
              "      <td>0</td>\n",
              "      <td>105.0</td>\n",
              "      <td>[{\"iso_639_1\": \"fr\", \"name\": \"Fran\\u00e7ais\"},...</td>\n",
              "      <td>Released</td>\n",
              "      <td>NaN</td>\n",
              "      <td>They Will Have to Kill Us First</td>\n",
              "      <td>5.0</td>\n",
              "      <td>1</td>\n",
              "    </tr>\n",
              "    <tr>\n",
              "      <th>4505</th>\n",
              "      <td>0</td>\n",
              "      <td>[{\"id\": 18, \"name\": \"Drama\"}, {\"id\": 35, \"name...</td>\n",
              "      <td>NaN</td>\n",
              "      <td>375950</td>\n",
              "      <td>[{\"id\": 11612, \"name\": \"hospital\"}, {\"id\": 130...</td>\n",
              "      <td>fr</td>\n",
              "      <td>Médecin de campagne</td>\n",
              "      <td>All the people in this countryside area, can c...</td>\n",
              "      <td>2.651304</td>\n",
              "      <td>[{\"name\": \"France 2 Cin\\u00e9ma\", \"id\": 83}, {...</td>\n",
              "      <td>[{\"iso_3166_1\": \"FR\", \"name\": \"France\"}]</td>\n",
              "      <td>2016-03-23</td>\n",
              "      <td>0</td>\n",
              "      <td>102.0</td>\n",
              "      <td>[{\"iso_639_1\": \"fr\", \"name\": \"Fran\\u00e7ais\"}]</td>\n",
              "      <td>Released</td>\n",
              "      <td>NaN</td>\n",
              "      <td>The Country Doctor</td>\n",
              "      <td>6.0</td>\n",
              "      <td>63</td>\n",
              "    </tr>\n",
              "    <tr>\n",
              "      <th>4510</th>\n",
              "      <td>0</td>\n",
              "      <td>[{\"id\": 35, \"name\": \"Comedy\"}, {\"id\": 18, \"nam...</td>\n",
              "      <td>NaN</td>\n",
              "      <td>385636</td>\n",
              "      <td>[{\"id\": 445, \"name\": \"pornography\"}, {\"id\": 57...</td>\n",
              "      <td>sl</td>\n",
              "      <td>Julija in Alfa Romeo</td>\n",
              "      <td>Tilen (18), an attractive high school student,...</td>\n",
              "      <td>0.061248</td>\n",
              "      <td>[{\"name\": \"Perfo Production\", \"id\": 34679}, {\"...</td>\n",
              "      <td>[{\"iso_3166_1\": \"SI\", \"name\": \"Slovenia\"}]</td>\n",
              "      <td>2015-09-17</td>\n",
              "      <td>0</td>\n",
              "      <td>83.0</td>\n",
              "      <td>[{\"iso_639_1\": \"en\", \"name\": \"English\"}, {\"iso...</td>\n",
              "      <td>Released</td>\n",
              "      <td>NaN</td>\n",
              "      <td>Juliet and Alfa Romeo</td>\n",
              "      <td>6.0</td>\n",
              "      <td>1</td>\n",
              "    </tr>\n",
              "    <tr>\n",
              "      <th>4512</th>\n",
              "      <td>550000</td>\n",
              "      <td>[{\"id\": 99, \"name\": \"Documentary\"}, {\"id\": 18,...</td>\n",
              "      <td>NaN</td>\n",
              "      <td>211086</td>\n",
              "      <td>[{\"id\": 486, \"name\": \"himalaya\"}, {\"id\": 4096,...</td>\n",
              "      <td>hi</td>\n",
              "      <td>Faith Connections</td>\n",
              "      <td>A filmmaker's insight into the biggest gatheri...</td>\n",
              "      <td>0.480880</td>\n",
              "      <td>[{\"name\": \"Jungle Book Entertainment\", \"id\": 5...</td>\n",
              "      <td>[{\"iso_3166_1\": \"FR\", \"name\": \"France\"}, {\"iso...</td>\n",
              "      <td>2013-11-21</td>\n",
              "      <td>0</td>\n",
              "      <td>115.0</td>\n",
              "      <td>[{\"iso_639_1\": \"hi\", \"name\": \"\\u0939\\u093f\\u09...</td>\n",
              "      <td>Released</td>\n",
              "      <td>NaN</td>\n",
              "      <td>Faith Connections</td>\n",
              "      <td>4.2</td>\n",
              "      <td>3</td>\n",
              "    </tr>\n",
              "    <tr>\n",
              "      <th>4523</th>\n",
              "      <td>46000</td>\n",
              "      <td>[{\"id\": 18, \"name\": \"Drama\"}]</td>\n",
              "      <td>NaN</td>\n",
              "      <td>14757</td>\n",
              "      <td>[{\"id\": 10183, \"name\": \"independent film\"}]</td>\n",
              "      <td>ps</td>\n",
              "      <td>Osama</td>\n",
              "      <td>Teenage girl Osama cuts her hair and dresses l...</td>\n",
              "      <td>1.447734</td>\n",
              "      <td>[{\"name\": \"Hubert Bals Fund\", \"id\": 13413}, {\"...</td>\n",
              "      <td>[{\"iso_3166_1\": \"AF\", \"name\": \"Afghanistan\"}, ...</td>\n",
              "      <td>2003-05-20</td>\n",
              "      <td>0</td>\n",
              "      <td>83.0</td>\n",
              "      <td>[{\"iso_639_1\": \"en\", \"name\": \"English\"}, {\"iso...</td>\n",
              "      <td>Released</td>\n",
              "      <td>To save her family a girl must become a boy</td>\n",
              "      <td>Osama</td>\n",
              "      <td>6.3</td>\n",
              "      <td>32</td>\n",
              "    </tr>\n",
              "    <tr>\n",
              "      <th>4535</th>\n",
              "      <td>2000000</td>\n",
              "      <td>[{\"id\": 28, \"name\": \"Action\"}, {\"id\": 18, \"nam...</td>\n",
              "      <td>NaN</td>\n",
              "      <td>346</td>\n",
              "      <td>[{\"id\": 233, \"name\": \"japan\"}, {\"id\": 1462, \"n...</td>\n",
              "      <td>ja</td>\n",
              "      <td>七人の侍</td>\n",
              "      <td>A samurai answers a village's request for prot...</td>\n",
              "      <td>39.756748</td>\n",
              "      <td>[{\"name\": \"Toho Company\", \"id\": 882}]</td>\n",
              "      <td>[{\"iso_3166_1\": \"JP\", \"name\": \"Japan\"}]</td>\n",
              "      <td>1954-04-26</td>\n",
              "      <td>271841</td>\n",
              "      <td>207.0</td>\n",
              "      <td>[{\"iso_639_1\": \"ja\", \"name\": \"\\u65e5\\u672c\\u8a...</td>\n",
              "      <td>Released</td>\n",
              "      <td>The Mighty Warriors Who Became the Seven Natio...</td>\n",
              "      <td>Seven Samurai</td>\n",
              "      <td>8.2</td>\n",
              "      <td>878</td>\n",
              "    </tr>\n",
              "    <tr>\n",
              "      <th>4546</th>\n",
              "      <td>0</td>\n",
              "      <td>[{\"id\": 28, \"name\": \"Action\"}, {\"id\": 35, \"nam...</td>\n",
              "      <td>NaN</td>\n",
              "      <td>45380</td>\n",
              "      <td>[]</td>\n",
              "      <td>zh</td>\n",
              "      <td>疯狂的石头</td>\n",
              "      <td>Three thieves try to steal a valuable jade tha...</td>\n",
              "      <td>1.685020</td>\n",
              "      <td>[]</td>\n",
              "      <td>[{\"iso_3166_1\": \"CN\", \"name\": \"China\"}, {\"iso_...</td>\n",
              "      <td>2006-01-01</td>\n",
              "      <td>0</td>\n",
              "      <td>98.0</td>\n",
              "      <td>[{\"iso_639_1\": \"zh\", \"name\": \"\\u666e\\u901a\\u8b...</td>\n",
              "      <td>Released</td>\n",
              "      <td>NaN</td>\n",
              "      <td>Crazy Stone</td>\n",
              "      <td>6.9</td>\n",
              "      <td>22</td>\n",
              "    </tr>\n",
              "    <tr>\n",
              "      <th>4573</th>\n",
              "      <td>0</td>\n",
              "      <td>[{\"id\": 10749, \"name\": \"Romance\"}, {\"id\": 18, ...</td>\n",
              "      <td>http://www.wie-im-himmel-derfilm.de/start.html</td>\n",
              "      <td>464</td>\n",
              "      <td>[{\"id\": 30, \"name\": \"individual\"}, {\"id\": 240,...</td>\n",
              "      <td>sv</td>\n",
              "      <td>Så som i himmelen</td>\n",
              "      <td>A musical romantic tragedy about a famous comp...</td>\n",
              "      <td>4.321249</td>\n",
              "      <td>[{\"name\": \"GF Studios AB\", \"id\": 242}, {\"name\"...</td>\n",
              "      <td>[{\"iso_3166_1\": \"SE\", \"name\": \"Sweden\"}]</td>\n",
              "      <td>2004-09-03</td>\n",
              "      <td>0</td>\n",
              "      <td>132.0</td>\n",
              "      <td>[{\"iso_639_1\": \"en\", \"name\": \"English\"}, {\"iso...</td>\n",
              "      <td>Released</td>\n",
              "      <td>NaN</td>\n",
              "      <td>As It Is in Heaven</td>\n",
              "      <td>6.9</td>\n",
              "      <td>42</td>\n",
              "    </tr>\n",
              "    <tr>\n",
              "      <th>4580</th>\n",
              "      <td>0</td>\n",
              "      <td>[{\"id\": 18, \"name\": \"Drama\"}]</td>\n",
              "      <td>NaN</td>\n",
              "      <td>64499</td>\n",
              "      <td>[]</td>\n",
              "      <td>it</td>\n",
              "      <td>Quinceañera</td>\n",
              "      <td>As Magdalena's 15th birthday approaches, her s...</td>\n",
              "      <td>0.034135</td>\n",
              "      <td>[]</td>\n",
              "      <td>[{\"iso_3166_1\": \"US\", \"name\": \"United States o...</td>\n",
              "      <td>2006-06-05</td>\n",
              "      <td>0</td>\n",
              "      <td>90.0</td>\n",
              "      <td>[{\"iso_639_1\": \"en\", \"name\": \"English\"}]</td>\n",
              "      <td>Released</td>\n",
              "      <td>Life's no walk in the park</td>\n",
              "      <td>Quinceañera</td>\n",
              "      <td>7.0</td>\n",
              "      <td>7</td>\n",
              "    </tr>\n",
              "    <tr>\n",
              "      <th>4585</th>\n",
              "      <td>0</td>\n",
              "      <td>[{\"id\": 27, \"name\": \"Horror\"}]</td>\n",
              "      <td>NaN</td>\n",
              "      <td>19204</td>\n",
              "      <td>[{\"id\": 612, \"name\": \"hotel\"}, {\"id\": 1706, \"n...</td>\n",
              "      <td>it</td>\n",
              "      <td>...E tu vivrai nel terrore! L'aldilà</td>\n",
              "      <td>A young woman inherits an old hotel in Louisia...</td>\n",
              "      <td>8.022122</td>\n",
              "      <td>[{\"name\": \"Fulvia Film\", \"id\": 13682}]</td>\n",
              "      <td>[{\"iso_3166_1\": \"IT\", \"name\": \"Italy\"}]</td>\n",
              "      <td>1981-04-22</td>\n",
              "      <td>0</td>\n",
              "      <td>87.0</td>\n",
              "      <td>[{\"iso_639_1\": \"en\", \"name\": \"English\"}, {\"iso...</td>\n",
              "      <td>Released</td>\n",
              "      <td>The seven dreaded gateways to Hell are conceal...</td>\n",
              "      <td>The Beyond</td>\n",
              "      <td>6.6</td>\n",
              "      <td>117</td>\n",
              "    </tr>\n",
              "    <tr>\n",
              "      <th>4586</th>\n",
              "      <td>35000000</td>\n",
              "      <td>[{\"id\": 35, \"name\": \"Comedy\"}, {\"id\": 10749, \"...</td>\n",
              "      <td>NaN</td>\n",
              "      <td>9029</td>\n",
              "      <td>[{\"id\": 585, \"name\": \"casino\"}, {\"id\": 612, \"n...</td>\n",
              "      <td>da</td>\n",
              "      <td>What Happens in Vegas</td>\n",
              "      <td>During a wild vacation in Las Vegas, career wo...</td>\n",
              "      <td>38.100488</td>\n",
              "      <td>[{\"name\": \"Twentieth Century Fox Film Corporat...</td>\n",
              "      <td>[{\"iso_3166_1\": \"US\", \"name\": \"United States o...</td>\n",
              "      <td>2008-05-07</td>\n",
              "      <td>170000000</td>\n",
              "      <td>99.0</td>\n",
              "      <td>[{\"iso_639_1\": \"en\", \"name\": \"English\"}, {\"iso...</td>\n",
              "      <td>Released</td>\n",
              "      <td>Get Lucky</td>\n",
              "      <td>What Happens in Vegas</td>\n",
              "      <td>5.8</td>\n",
              "      <td>923</td>\n",
              "    </tr>\n",
              "    <tr>\n",
              "      <th>4591</th>\n",
              "      <td>0</td>\n",
              "      <td>[{\"id\": 18, \"name\": \"Drama\"}]</td>\n",
              "      <td>NaN</td>\n",
              "      <td>10238</td>\n",
              "      <td>[{\"id\": 1156, \"name\": \"sister sister relations...</td>\n",
              "      <td>sv</td>\n",
              "      <td>Viskningar och rop</td>\n",
              "      <td>When a woman dying of cancer in turn-of-the ce...</td>\n",
              "      <td>11.347855</td>\n",
              "      <td>[{\"name\": \"Cinematograph AB\", \"id\": 7445}, {\"n...</td>\n",
              "      <td>[{\"iso_3166_1\": \"SE\", \"name\": \"Sweden\"}]</td>\n",
              "      <td>1972-12-21</td>\n",
              "      <td>0</td>\n",
              "      <td>91.0</td>\n",
              "      <td>[{\"iso_639_1\": \"sv\", \"name\": \"svenska\"}]</td>\n",
              "      <td>Released</td>\n",
              "      <td>A haunting and shattering film experience.</td>\n",
              "      <td>Cries and Whispers</td>\n",
              "      <td>7.8</td>\n",
              "      <td>115</td>\n",
              "    </tr>\n",
              "    <tr>\n",
              "      <th>4605</th>\n",
              "      <td>0</td>\n",
              "      <td>[{\"id\": 18, \"name\": \"Drama\"}]</td>\n",
              "      <td>http://www.dogtooth.gr/</td>\n",
              "      <td>38810</td>\n",
              "      <td>[{\"id\": 255, \"name\": \"male nudity\"}, {\"id\": 29...</td>\n",
              "      <td>el</td>\n",
              "      <td>Κυνόδοντας</td>\n",
              "      <td>Three teenagers are confined to an isolated co...</td>\n",
              "      <td>28.858238</td>\n",
              "      <td>[{\"name\": \"Greek Film Center\", \"id\": 7254}, {\"...</td>\n",
              "      <td>[{\"iso_3166_1\": \"GR\", \"name\": \"Greece\"}]</td>\n",
              "      <td>2009-06-01</td>\n",
              "      <td>110197</td>\n",
              "      <td>94.0</td>\n",
              "      <td>[{\"iso_639_1\": \"el\", \"name\": \"\\u03b5\\u03bb\\u03...</td>\n",
              "      <td>Released</td>\n",
              "      <td>The cat is the most feared animal there is!</td>\n",
              "      <td>Dogtooth</td>\n",
              "      <td>6.9</td>\n",
              "      <td>332</td>\n",
              "    </tr>\n",
              "    <tr>\n",
              "      <th>4609</th>\n",
              "      <td>0</td>\n",
              "      <td>[{\"id\": 35, \"name\": \"Comedy\"}]</td>\n",
              "      <td>NaN</td>\n",
              "      <td>11956</td>\n",
              "      <td>[{\"id\": 90, \"name\": \"paris\"}, {\"id\": 977, \"nam...</td>\n",
              "      <td>fr</td>\n",
              "      <td>Chacun Cherche Son Chat</td>\n",
              "      <td>When Chloe (Garance Clavel), a young Parisian,...</td>\n",
              "      <td>1.410387</td>\n",
              "      <td>[{\"name\": \"Vertigo Productions\", \"id\": 2756}, ...</td>\n",
              "      <td>[{\"iso_3166_1\": \"FR\", \"name\": \"France\"}]</td>\n",
              "      <td>1996-04-03</td>\n",
              "      <td>0</td>\n",
              "      <td>91.0</td>\n",
              "      <td>[{\"iso_639_1\": \"fr\", \"name\": \"Fran\\u00e7ais\"}]</td>\n",
              "      <td>Released</td>\n",
              "      <td>No man. No job. No cat.</td>\n",
              "      <td>When the Cat's Away</td>\n",
              "      <td>6.1</td>\n",
              "      <td>16</td>\n",
              "    </tr>\n",
              "    <tr>\n",
              "      <th>4615</th>\n",
              "      <td>300000</td>\n",
              "      <td>[{\"id\": 18, \"name\": \"Drama\"}, {\"id\": 53, \"name...</td>\n",
              "      <td>NaN</td>\n",
              "      <td>2786</td>\n",
              "      <td>[{\"id\": 90, \"name\": \"paris\"}, {\"id\": 5918, \"na...</td>\n",
              "      <td>fr</td>\n",
              "      <td>Pierrot le fou</td>\n",
              "      <td>Pierrot escapes his boring society and travels...</td>\n",
              "      <td>7.791898</td>\n",
              "      <td>[{\"name\": \"Dino de Laurentiis Cinematografica\"...</td>\n",
              "      <td>[{\"iso_3166_1\": \"FR\", \"name\": \"France\"}, {\"iso...</td>\n",
              "      <td>1965-08-29</td>\n",
              "      <td>0</td>\n",
              "      <td>110.0</td>\n",
              "      <td>[{\"iso_639_1\": \"fr\", \"name\": \"Fran\\u00e7ais\"}]</td>\n",
              "      <td>Released</td>\n",
              "      <td>NaN</td>\n",
              "      <td>Pierrot le Fou</td>\n",
              "      <td>7.6</td>\n",
              "      <td>127</td>\n",
              "    </tr>\n",
              "    <tr>\n",
              "      <th>4640</th>\n",
              "      <td>0</td>\n",
              "      <td>[{\"id\": 35, \"name\": \"Comedy\"}, {\"id\": 10749, \"...</td>\n",
              "      <td>NaN</td>\n",
              "      <td>76996</td>\n",
              "      <td>[{\"id\": 10183, \"name\": \"independent film\"}, {\"...</td>\n",
              "      <td>it</td>\n",
              "      <td>Love and Other Catastrophes</td>\n",
              "      <td>A day in the life of two film-school students ...</td>\n",
              "      <td>0.619348</td>\n",
              "      <td>[]</td>\n",
              "      <td>[{\"iso_3166_1\": \"AU\", \"name\": \"Australia\"}]</td>\n",
              "      <td>1996-08-01</td>\n",
              "      <td>0</td>\n",
              "      <td>78.0</td>\n",
              "      <td>[{\"iso_639_1\": \"en\", \"name\": \"English\"}]</td>\n",
              "      <td>Released</td>\n",
              "      <td>NaN</td>\n",
              "      <td>Love and Other Catastrophes</td>\n",
              "      <td>5.8</td>\n",
              "      <td>9</td>\n",
              "    </tr>\n",
              "    <tr>\n",
              "      <th>4672</th>\n",
              "      <td>200000</td>\n",
              "      <td>[{\"id\": 37, \"name\": \"Western\"}]</td>\n",
              "      <td>NaN</td>\n",
              "      <td>391</td>\n",
              "      <td>[{\"id\": 2987, \"name\": \"gang war\"}, {\"id\": 4942...</td>\n",
              "      <td>it</td>\n",
              "      <td>Per un pugno di dollari</td>\n",
              "      <td>The Man With No Name enters the Mexican villag...</td>\n",
              "      <td>38.771062</td>\n",
              "      <td>[{\"name\": \"United Artists\", \"id\": 60}, {\"name\"...</td>\n",
              "      <td>[{\"iso_3166_1\": \"IT\", \"name\": \"Italy\"}, {\"iso_...</td>\n",
              "      <td>1964-09-12</td>\n",
              "      <td>14500000</td>\n",
              "      <td>99.0</td>\n",
              "      <td>[{\"iso_639_1\": \"it\", \"name\": \"Italiano\"}, {\"is...</td>\n",
              "      <td>Released</td>\n",
              "      <td>In his own way he is perhaps, the most dangero...</td>\n",
              "      <td>A Fistful of Dollars</td>\n",
              "      <td>7.6</td>\n",
              "      <td>883</td>\n",
              "    </tr>\n",
              "    <tr>\n",
              "      <th>4677</th>\n",
              "      <td>0</td>\n",
              "      <td>[{\"id\": 10749, \"name\": \"Romance\"}, {\"id\": 18, ...</td>\n",
              "      <td>NaN</td>\n",
              "      <td>53256</td>\n",
              "      <td>[{\"id\": 572, \"name\": \"sex\"}, {\"id\": 154937, \"n...</td>\n",
              "      <td>de</td>\n",
              "      <td>Drei</td>\n",
              "      <td>Hanna and Simon are in a 20 year marriage with...</td>\n",
              "      <td>5.937602</td>\n",
              "      <td>[{\"name\": \"X-Filme Creative Pool\", \"id\": 1972}...</td>\n",
              "      <td>[{\"iso_3166_1\": \"DE\", \"name\": \"Germany\"}]</td>\n",
              "      <td>2010-12-23</td>\n",
              "      <td>2611555</td>\n",
              "      <td>119.0</td>\n",
              "      <td>[{\"iso_639_1\": \"en\", \"name\": \"English\"}, {\"iso...</td>\n",
              "      <td>Released</td>\n",
              "      <td>Imagine the possibilities.</td>\n",
              "      <td>Three</td>\n",
              "      <td>6.3</td>\n",
              "      <td>31</td>\n",
              "    </tr>\n",
              "    <tr>\n",
              "      <th>4684</th>\n",
              "      <td>0</td>\n",
              "      <td>[{\"id\": 27, \"name\": \"Horror\"}]</td>\n",
              "      <td>NaN</td>\n",
              "      <td>402515</td>\n",
              "      <td>[{\"id\": 321, \"name\": \"terror\"}, {\"id\": 8087, \"...</td>\n",
              "      <td>pt</td>\n",
              "      <td>Solitude</td>\n",
              "      <td>After finding an old storage locker filled wit...</td>\n",
              "      <td>0.018716</td>\n",
              "      <td>[{\"name\": \"Gravitas Ventures\", \"id\": 44632}]</td>\n",
              "      <td>[{\"iso_3166_1\": \"US\", \"name\": \"United States o...</td>\n",
              "      <td>2014-10-21</td>\n",
              "      <td>0</td>\n",
              "      <td>89.0</td>\n",
              "      <td>[{\"iso_639_1\": \"en\", \"name\": \"English\"}]</td>\n",
              "      <td>Released</td>\n",
              "      <td>NaN</td>\n",
              "      <td>American Beast</td>\n",
              "      <td>0.0</td>\n",
              "      <td>0</td>\n",
              "    </tr>\n",
              "    <tr>\n",
              "      <th>4686</th>\n",
              "      <td>0</td>\n",
              "      <td>[{\"id\": 18, \"name\": \"Drama\"}]</td>\n",
              "      <td>NaN</td>\n",
              "      <td>48035</td>\n",
              "      <td>[{\"id\": 6150, \"name\": \"faith\"}, {\"id\": 10183, ...</td>\n",
              "      <td>da</td>\n",
              "      <td>Ordet</td>\n",
              "      <td>How do we understand faith and prayer, and wha...</td>\n",
              "      <td>3.225189</td>\n",
              "      <td>[{\"name\": \"Palladium Film\", \"id\": 9079}]</td>\n",
              "      <td>[{\"iso_3166_1\": \"DK\", \"name\": \"Denmark\"}]</td>\n",
              "      <td>1955-01-09</td>\n",
              "      <td>0</td>\n",
              "      <td>126.0</td>\n",
              "      <td>[{\"iso_639_1\": \"da\", \"name\": \"Dansk\"}]</td>\n",
              "      <td>Released</td>\n",
              "      <td>NaN</td>\n",
              "      <td>Ordet</td>\n",
              "      <td>7.8</td>\n",
              "      <td>65</td>\n",
              "    </tr>\n",
              "    <tr>\n",
              "      <th>4695</th>\n",
              "      <td>180000</td>\n",
              "      <td>[{\"id\": 18, \"name\": \"Drama\"}, {\"id\": 35, \"name...</td>\n",
              "      <td>http://www.miramax.com/movie/children-of-heaven/</td>\n",
              "      <td>21334</td>\n",
              "      <td>[{\"id\": 1155, \"name\": \"brother sister relation...</td>\n",
              "      <td>fa</td>\n",
              "      <td>بچه‌های آسمان</td>\n",
              "      <td>Zohre's shoes are gone; her older brother Ali ...</td>\n",
              "      <td>7.072118</td>\n",
              "      <td>[{\"name\": \"The Institute for the Intellectual ...</td>\n",
              "      <td>[{\"iso_3166_1\": \"IR\", \"name\": \"Iran\"}]</td>\n",
              "      <td>1997-08-01</td>\n",
              "      <td>900000</td>\n",
              "      <td>89.0</td>\n",
              "      <td>[{\"iso_639_1\": \"fa\", \"name\": \"\\u0641\\u0627\\u06...</td>\n",
              "      <td>Released</td>\n",
              "      <td>A Little Secret...Their Biggest Adventure!</td>\n",
              "      <td>Children of Heaven</td>\n",
              "      <td>7.8</td>\n",
              "      <td>112</td>\n",
              "    </tr>\n",
              "    <tr>\n",
              "      <th>4699</th>\n",
              "      <td>0</td>\n",
              "      <td>[{\"id\": 18, \"name\": \"Drama\"}]</td>\n",
              "      <td>NaN</td>\n",
              "      <td>344466</td>\n",
              "      <td>[]</td>\n",
              "      <td>ro</td>\n",
              "      <td>Lumea e a mea</td>\n",
              "      <td>Larisa is 16 and lives in a city by the sea. I...</td>\n",
              "      <td>0.327622</td>\n",
              "      <td>[]</td>\n",
              "      <td>[{\"iso_3166_1\": \"RO\", \"name\": \"Romania\"}]</td>\n",
              "      <td>2015-06-05</td>\n",
              "      <td>0</td>\n",
              "      <td>104.0</td>\n",
              "      <td>[{\"iso_639_1\": \"ro\", \"name\": \"Rom\\u00e2n\\u0103\"}]</td>\n",
              "      <td>Released</td>\n",
              "      <td>NaN</td>\n",
              "      <td>The World Is Mine</td>\n",
              "      <td>0.0</td>\n",
              "      <td>0</td>\n",
              "    </tr>\n",
              "    <tr>\n",
              "      <th>4719</th>\n",
              "      <td>120000</td>\n",
              "      <td>[{\"id\": 18, \"name\": \"Drama\"}, {\"id\": 10749, \"n...</td>\n",
              "      <td>NaN</td>\n",
              "      <td>40652</td>\n",
              "      <td>[{\"id\": 1965, \"name\": \"sandstorm\"}, {\"id\": 151...</td>\n",
              "      <td>fr</td>\n",
              "      <td>Une femme mariée: Suite de fragments d'un film...</td>\n",
              "      <td>Charlotte is young and modern, not a hair out ...</td>\n",
              "      <td>1.112792</td>\n",
              "      <td>[{\"name\": \"Orsay Films\", \"id\": 2325}, {\"name\":...</td>\n",
              "      <td>[{\"iso_3166_1\": \"FR\", \"name\": \"France\"}]</td>\n",
              "      <td>1964-12-04</td>\n",
              "      <td>0</td>\n",
              "      <td>95.0</td>\n",
              "      <td>[{\"iso_639_1\": \"fr\", \"name\": \"Fran\\u00e7ais\"}]</td>\n",
              "      <td>Released</td>\n",
              "      <td>She Loves Two Men... She is Married to One!</td>\n",
              "      <td>The Married Woman</td>\n",
              "      <td>7.1</td>\n",
              "      <td>20</td>\n",
              "    </tr>\n",
              "    <tr>\n",
              "      <th>4739</th>\n",
              "      <td>0</td>\n",
              "      <td>[{\"id\": 35, \"name\": \"Comedy\"}, {\"id\": 10749, \"...</td>\n",
              "      <td>NaN</td>\n",
              "      <td>90414</td>\n",
              "      <td>[{\"id\": 187056, \"name\": \"woman director\"}]</td>\n",
              "      <td>fr</td>\n",
              "      <td>I Love You, Don't Touch Me!</td>\n",
              "      <td>The story of a 25 year old virgin girl, lookin...</td>\n",
              "      <td>0.020839</td>\n",
              "      <td>[]</td>\n",
              "      <td>[{\"iso_3166_1\": \"US\", \"name\": \"United States o...</td>\n",
              "      <td>1997-01-21</td>\n",
              "      <td>0</td>\n",
              "      <td>86.0</td>\n",
              "      <td>[{\"iso_639_1\": \"en\", \"name\": \"English\"}]</td>\n",
              "      <td>Released</td>\n",
              "      <td>Just Your Typical Boy-Loves-Girl Who Doesn't L...</td>\n",
              "      <td>I Love You, Don't Touch Me!</td>\n",
              "      <td>6.0</td>\n",
              "      <td>1</td>\n",
              "    </tr>\n",
              "    <tr>\n",
              "      <th>4751</th>\n",
              "      <td>0</td>\n",
              "      <td>[{\"id\": 18, \"name\": \"Drama\"}, {\"id\": 10749, \"n...</td>\n",
              "      <td>NaN</td>\n",
              "      <td>42109</td>\n",
              "      <td>[]</td>\n",
              "      <td>pt</td>\n",
              "      <td>Gabriela, Cravo e Canela</td>\n",
              "      <td>In 1925, Gabriela becomes cook, mistress, and ...</td>\n",
              "      <td>0.557602</td>\n",
              "      <td>[{\"name\": \"United Artists\", \"id\": 60}, {\"name\"...</td>\n",
              "      <td>[{\"iso_3166_1\": \"BR\", \"name\": \"Brazil\"}]</td>\n",
              "      <td>1983-03-24</td>\n",
              "      <td>0</td>\n",
              "      <td>99.0</td>\n",
              "      <td>[{\"iso_639_1\": \"pt\", \"name\": \"Portugu\\u00eas\"}]</td>\n",
              "      <td>Released</td>\n",
              "      <td>NaN</td>\n",
              "      <td>Gabriela</td>\n",
              "      <td>6.0</td>\n",
              "      <td>2</td>\n",
              "    </tr>\n",
              "    <tr>\n",
              "      <th>4790</th>\n",
              "      <td>0</td>\n",
              "      <td>[{\"id\": 18, \"name\": \"Drama\"}, {\"id\": 10769, \"n...</td>\n",
              "      <td>NaN</td>\n",
              "      <td>13898</td>\n",
              "      <td>[]</td>\n",
              "      <td>fa</td>\n",
              "      <td>دایره</td>\n",
              "      <td>Various women struggle to function in the oppr...</td>\n",
              "      <td>1.193779</td>\n",
              "      <td>[{\"name\": \"Jafar Panahi Film Productions\", \"id...</td>\n",
              "      <td>[{\"iso_3166_1\": \"IR\", \"name\": \"Iran\"}]</td>\n",
              "      <td>2000-09-08</td>\n",
              "      <td>0</td>\n",
              "      <td>90.0</td>\n",
              "      <td>[{\"iso_639_1\": \"fa\", \"name\": \"\\u0641\\u0627\\u06...</td>\n",
              "      <td>Released</td>\n",
              "      <td>NaN</td>\n",
              "      <td>The Circle</td>\n",
              "      <td>6.6</td>\n",
              "      <td>17</td>\n",
              "    </tr>\n",
              "    <tr>\n",
              "      <th>4792</th>\n",
              "      <td>20000</td>\n",
              "      <td>[{\"id\": 80, \"name\": \"Crime\"}, {\"id\": 27, \"name...</td>\n",
              "      <td>NaN</td>\n",
              "      <td>36095</td>\n",
              "      <td>[{\"id\": 233, \"name\": \"japan\"}, {\"id\": 549, \"na...</td>\n",
              "      <td>ja</td>\n",
              "      <td>キュア</td>\n",
              "      <td>A wave of gruesome murders is sweeping Tokyo. ...</td>\n",
              "      <td>0.212443</td>\n",
              "      <td>[{\"name\": \"Daiei Studios\", \"id\": 881}]</td>\n",
              "      <td>[{\"iso_3166_1\": \"JP\", \"name\": \"Japan\"}]</td>\n",
              "      <td>1997-11-06</td>\n",
              "      <td>99000</td>\n",
              "      <td>111.0</td>\n",
              "      <td>[{\"iso_639_1\": \"ja\", \"name\": \"\\u65e5\\u672c\\u8a...</td>\n",
              "      <td>Released</td>\n",
              "      <td>Madness. Terror. Murder.</td>\n",
              "      <td>Cure</td>\n",
              "      <td>7.4</td>\n",
              "      <td>63</td>\n",
              "    </tr>\n",
              "    <tr>\n",
              "      <th>4798</th>\n",
              "      <td>220000</td>\n",
              "      <td>[{\"id\": 28, \"name\": \"Action\"}, {\"id\": 80, \"nam...</td>\n",
              "      <td>NaN</td>\n",
              "      <td>9367</td>\n",
              "      <td>[{\"id\": 5616, \"name\": \"united states\\u2013mexi...</td>\n",
              "      <td>es</td>\n",
              "      <td>El Mariachi</td>\n",
              "      <td>El Mariachi just wants to play his guitar and ...</td>\n",
              "      <td>14.269792</td>\n",
              "      <td>[{\"name\": \"Columbia Pictures\", \"id\": 5}]</td>\n",
              "      <td>[{\"iso_3166_1\": \"MX\", \"name\": \"Mexico\"}, {\"iso...</td>\n",
              "      <td>1992-09-04</td>\n",
              "      <td>2040920</td>\n",
              "      <td>81.0</td>\n",
              "      <td>[{\"iso_639_1\": \"es\", \"name\": \"Espa\\u00f1ol\"}]</td>\n",
              "      <td>Released</td>\n",
              "      <td>He didn't come looking for trouble, but troubl...</td>\n",
              "      <td>El Mariachi</td>\n",
              "      <td>6.6</td>\n",
              "      <td>238</td>\n",
              "    </tr>\n",
              "  </tbody>\n",
              "</table>\n",
              "<p>298 rows × 20 columns</p>\n",
              "</div>"
            ],
            "text/plain": [
              "        budget  ... vote_count\n",
              "97    15000000  ...        143\n",
              "235   97250400  ...        471\n",
              "317   94000000  ...        187\n",
              "474          0  ...         47\n",
              "492    8000000  ...          9\n",
              "678   65000000  ...        145\n",
              "786   68490000  ...         24\n",
              "861   47000000  ...        346\n",
              "985   60000000  ...        367\n",
              "1011         0  ...         13\n",
              "1023         0  ...          9\n",
              "1028         0  ...        357\n",
              "1095       110  ...        203\n",
              "1136  31000000  ...        635\n",
              "1140  33000000  ...        148\n",
              "1142         0  ...        125\n",
              "1260  10000000  ...       3310\n",
              "1284  40000000  ...         83\n",
              "1286  39200000  ...       2854\n",
              "1287  25000000  ...        313\n",
              "1290  40000000  ...        135\n",
              "1298  80341000  ...        205\n",
              "1304   3860000  ...        273\n",
              "1306  40000000  ...         19\n",
              "1341  36500000  ...         23\n",
              "1353  36000000  ...         14\n",
              "1357  36000000  ...        379\n",
              "1462         0  ...        291\n",
              "1463  35000000  ...        307\n",
              "1471  41677699  ...        926\n",
              "...        ...  ...        ...\n",
              "4464    800000  ...        311\n",
              "4474    750000  ...        127\n",
              "4503    522360  ...          1\n",
              "4505         0  ...         63\n",
              "4510         0  ...          1\n",
              "4512    550000  ...          3\n",
              "4523     46000  ...         32\n",
              "4535   2000000  ...        878\n",
              "4546         0  ...         22\n",
              "4573         0  ...         42\n",
              "4580         0  ...          7\n",
              "4585         0  ...        117\n",
              "4586  35000000  ...        923\n",
              "4591         0  ...        115\n",
              "4605         0  ...        332\n",
              "4609         0  ...         16\n",
              "4615    300000  ...        127\n",
              "4640         0  ...          9\n",
              "4672    200000  ...        883\n",
              "4677         0  ...         31\n",
              "4684         0  ...          0\n",
              "4686         0  ...         65\n",
              "4695    180000  ...        112\n",
              "4699         0  ...          0\n",
              "4719    120000  ...         20\n",
              "4739         0  ...          1\n",
              "4751         0  ...          2\n",
              "4790         0  ...         17\n",
              "4792     20000  ...         63\n",
              "4798    220000  ...        238\n",
              "\n",
              "[298 rows x 20 columns]"
            ]
          },
          "metadata": {
            "tags": []
          },
          "execution_count": 47
        }
      ]
    },
    {
      "cell_type": "code",
      "metadata": {
        "id": "-c6Uqenpb08o",
        "colab_type": "code",
        "colab": {
          "base_uri": "https://localhost:8080/",
          "height": 646
        },
        "outputId": "c865fa7b-5bbb-4809-c887-30f0291aa2d6"
      },
      "source": [
        "#Agora posso contar esses valores\n",
        "total_por_lingua_de_outros_filmes = tmdb.query(\"original_language != 'en'\").original_language.value_counts()"
      ],
      "execution_count": 48,
      "outputs": [
        {
          "output_type": "execute_result",
          "data": {
            "text/plain": [
              "fr    70\n",
              "es    32\n",
              "de    27\n",
              "zh    27\n",
              "hi    19\n",
              "ja    16\n",
              "it    14\n",
              "cn    12\n",
              "ru    11\n",
              "ko    11\n",
              "pt     9\n",
              "da     7\n",
              "sv     5\n",
              "fa     4\n",
              "nl     4\n",
              "he     3\n",
              "th     3\n",
              "ar     2\n",
              "cs     2\n",
              "ro     2\n",
              "ta     2\n",
              "id     2\n",
              "vi     1\n",
              "ps     1\n",
              "pl     1\n",
              "ky     1\n",
              "tr     1\n",
              "sl     1\n",
              "no     1\n",
              "af     1\n",
              "xx     1\n",
              "nb     1\n",
              "is     1\n",
              "te     1\n",
              "el     1\n",
              "hu     1\n",
              "Name: original_language, dtype: int64"
            ]
          },
          "metadata": {
            "tags": []
          },
          "execution_count": 48
        }
      ]
    },
    {
      "cell_type": "code",
      "metadata": {
        "id": "U753FZqocZMX",
        "colab_type": "code",
        "colab": {}
      },
      "source": [
        "filmes_sem_lingua_original_ingles = tmdb.query(\"original_language != 'en'\")"
      ],
      "execution_count": 0,
      "outputs": []
    },
    {
      "cell_type": "code",
      "metadata": {
        "id": "ZVzWLlCjdHw_",
        "colab_type": "code",
        "colab": {
          "base_uri": "https://localhost:8080/",
          "height": 386
        },
        "outputId": "45068470-040c-4f64-ecb9-de53a396d7bf"
      },
      "source": [
        "sns.catplot(x = \"original_language\", data = filmes_sem_lingua_original_ingles, kind=\"count\")"
      ],
      "execution_count": 50,
      "outputs": [
        {
          "output_type": "execute_result",
          "data": {
            "text/plain": [
              "<seaborn.axisgrid.FacetGrid at 0x7ff66dc360f0>"
            ]
          },
          "metadata": {
            "tags": []
          },
          "execution_count": 50
        },
        {
          "output_type": "display_data",
          "data": {
            "image/png": "[encoded data removed]",
            "text/plain": [
              "<Figure size 360x360 with 1 Axes>"
            ]
          },
          "metadata": {
            "tags": []
          }
        }
      ]
    },
    {
      "cell_type": "markdown",
      "metadata": {
        "id": "-ATKn2PZdks9",
        "colab_type": "text"
      },
      "source": [
        "#Refinando visualizações"
      ]
    },
    {
      "cell_type": "code",
      "metadata": {
        "id": "17FRPVJydN71",
        "colab_type": "code",
        "colab": {
          "base_uri": "https://localhost:8080/",
          "height": 386
        },
        "outputId": "69a87a9d-a26a-48b1-a2f5-8ebb86d0f2a0"
      },
      "source": [
        "sns.catplot(x = \"original_language\", data = filmes_sem_lingua_original_ingles, kind=\"count\", aspect=2)"
      ],
      "execution_count": 51,
      "outputs": [
        {
          "output_type": "execute_result",
          "data": {
            "text/plain": [
              "<seaborn.axisgrid.FacetGrid at 0x7ff66db8b710>"
            ]
          },
          "metadata": {
            "tags": []
          },
          "execution_count": 51
        },
        {
          "output_type": "display_data",
          "data": {
            "image/png": "[encoded data removed]",
            "text/plain": [
              "<Figure size 720x360 with 1 Axes>"
            ]
          },
          "metadata": {
            "tags": []
          }
        }
      ]
    },
    {
      "cell_type": "code",
      "metadata": {
        "id": "RFMLoUwseuxO",
        "colab_type": "code",
        "colab": {
          "base_uri": "https://localhost:8080/",
          "height": 386
        },
        "outputId": "137282d1-8b8f-44f0-88da-790f7583700a"
      },
      "source": [
        "#Ordenação\n",
        "total_por_lingua_de_outros_filmes = tmdb.query(\"original_language != 'en'\").original_language.value_counts()\n",
        "sns.catplot(x = \"original_language\", data = filmes_sem_lingua_original_ingles, kind=\"count\", aspect=2, order = total_por_lingua_de_outros_filmes.index)"
      ],
      "execution_count": 56,
      "outputs": [
        {
          "output_type": "execute_result",
          "data": {
            "text/plain": [
              "<seaborn.axisgrid.FacetGrid at 0x7ff66d7f6e10>"
            ]
          },
          "metadata": {
            "tags": []
          },
          "execution_count": 56
        },
        {
          "output_type": "display_data",
          "data": {
            "image/png": "[encoded data removed]",
            "text/plain": [
              "<Figure size 720x360 with 1 Axes>"
            ]
          },
          "metadata": {
            "tags": []
          }
        }
      ]
    },
    {
      "cell_type": "code",
      "metadata": {
        "id": "2TlD4277fPHe",
        "colab_type": "code",
        "colab": {
          "base_uri": "https://localhost:8080/",
          "height": 386
        },
        "outputId": "578591bb-265c-42fe-b400-180bacc7fb00"
      },
      "source": [
        "#Azuis *-*\n",
        "sns.catplot(x = \"original_language\", data = filmes_sem_lingua_original_ingles, kind=\"count\", aspect=2, order = total_por_lingua_de_outros_filmes.index, palette = \"seismic\")"
      ],
      "execution_count": 60,
      "outputs": [
        {
          "output_type": "execute_result",
          "data": {
            "text/plain": [
              "<seaborn.axisgrid.FacetGrid at 0x7ff66d368e10>"
            ]
          },
          "metadata": {
            "tags": []
          },
          "execution_count": 60
        },
        {
          "output_type": "display_data",
          "data": {
            "image/png": "[encoded data removed]",
            "text/plain": [
              "<Figure size 720x360 with 1 Axes>"
            ]
          },
          "metadata": {
            "tags": []
          }
        }
      ]
    },
    {
      "cell_type": "code",
      "metadata": {
        "id": "UT5E_UJ2ghqZ",
        "colab_type": "code",
        "colab": {}
      },
      "source": [
        ""
      ],
      "execution_count": 0,
      "outputs": []
    }
  ]
}