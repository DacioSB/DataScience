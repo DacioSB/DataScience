{
  "nbformat": 4,
  "nbformat_minor": 0,
  "metadata": {
    "kernelspec": {
      "display_name": "Python 3",
      "language": "python",
      "name": "python3"
    },
    "language_info": {
      "codemirror_mode": {
        "name": "ipython",
        "version": 3
      },
      "file_extension": ".py",
      "mimetype": "text/x-python",
      "name": "python",
      "nbconvert_exporter": "python",
      "pygments_lexer": "ipython3",
      "version": "3.7.6"
    },
    "colab": {
      "name": "ImportandoDados(ExtraPandas).ipynb",
      "provenance": [],
      "collapsed_sections": [
        "7Zf5FjQd7ihC",
        "LVF8SzC77pRX",
        "2Uz7DJS7tbN5",
        "ZgJEbMqGwRoC",
        "jHHjazvj7AZ8",
        "vqhOxz-bohM8",
        "U8whbgd1a6YY"
      ],
      "toc_visible": true,
      "include_colab_link": true
    }
  },
  "cells": [
    {
      "cell_type": "markdown",
      "metadata": {
        "id": "view-in-github",
        "colab_type": "text"
      },
      "source": [
        "<a href=\"https://colab.research.google.com/github/DacioSB/DataScience/blob/master/pandaspt2/ImportandoDados(ExtraPandas).ipynb\" target=\"_parent\"><img src=\"https://colab.research.google.com/assets/colab-badge.svg\" alt=\"Open In Colab\"/></a>"
      ]
    },
    {
      "cell_type": "markdown",
      "metadata": {
        "id": "7Zf5FjQd7ihC",
        "colab_type": "text"
      },
      "source": [
        "# Imports Basicos"
      ]
    },
    {
      "cell_type": "code",
      "metadata": {
        "id": "MWjjTa1o9Ruv",
        "colab_type": "code",
        "outputId": "a67f2bca-2cd8-4177-d3ce-cb28ba6e38eb",
        "colab": {
          "base_uri": "https://localhost:8080/"
        }
      },
      "source": [
        "from google.colab import drive\n",
        "drive.mount('/content/drive')"
      ],
      "execution_count": 0,
      "outputs": [
        {
          "output_type": "stream",
          "text": [
            "Drive already mounted at /content/drive; to attempt to forcibly remount, call drive.mount(\"/content/drive\", force_remount=True).\n"
          ],
          "name": "stdout"
        }
      ]
    },
    {
      "cell_type": "code",
      "metadata": {
        "id": "B53c8BsFAW0b",
        "colab_type": "code",
        "colab": {}
      },
      "source": [
        "import pandas as pd"
      ],
      "execution_count": 0,
      "outputs": []
    },
    {
      "cell_type": "code",
      "metadata": {
        "id": "K-l5-d4-AW0f",
        "colab_type": "code",
        "outputId": "41260164-e7b9-4ccc-9125-19d2ee3c56cf",
        "colab": {
          "base_uri": "https://localhost:8080/"
        }
      },
      "source": [
        "json = open('/content/drive/My Drive/Colab Notebooks/extras/dados/aluguel.json')\n",
        "print(json.read())"
      ],
      "execution_count": 0,
      "outputs": [
        {
          "output_type": "stream",
          "text": [
            "[{\"Tipo\":\"Quitinete\",\"Bairro\":\"Copacabana\",\"Quartos\":1,\"Vagas\":0,\"Suites\":0,\"Area\":40,\"Valor\":1700.0,\"Condominio\":500.0,\"IPTU\":60.0},\n",
            "{\"Tipo\":\"Casa\",\"Bairro\":\"Jardim Bot\\u00e2nico\",\"Quartos\":2,\"Vagas\":0,\"Suites\":1,\"Area\":100,\"Valor\":7000.0,\"Condominio\":null,\"IPTU\":null},\n",
            "{\"Tipo\":\"Conjunto Comercial\\/Sala\",\"Bairro\":\"Barra da Tijuca\",\"Quartos\":0,\"Vagas\":4,\"Suites\":0,\"Area\":150,\"Valor\":5200.0,\"Condominio\":4020.0,\"IPTU\":1111.0},\n",
            "{\"Tipo\":\"Apartamento\",\"Bairro\":\"Centro\",\"Quartos\":1,\"Vagas\":0,\"Suites\":0,\"Area\":15,\"Valor\":800.0,\"Condominio\":390.0,\"IPTU\":20.0},\n",
            "{\"Tipo\":\"Apartamento\",\"Bairro\":\"Higien\\u00f3polis\",\"Quartos\":1,\"Vagas\":0,\"Suites\":0,\"Area\":48,\"Valor\":800.0,\"Condominio\":230.0,\"IPTU\":null},\n",
            "{\"Tipo\":\"Apartamento\",\"Bairro\":\"Vista Alegre\",\"Quartos\":3,\"Vagas\":1,\"Suites\":0,\"Area\":70,\"Valor\":1200.0,\"Condominio\":null,\"IPTU\":null},\n",
            "{\"Tipo\":\"Apartamento\",\"Bairro\":\"Cachambi\",\"Quartos\":2,\"Vagas\":0,\"Suites\":0,\"Area\":50,\"Valor\":1300.0,\"Condominio\":301.0,\"IPTU\":17.0},\n",
            "{\"Tipo\":\"Casa de Condom\\u00ednio\",\"Bairro\":\"Barra da Tijuca\",\"Quartos\":5,\"Vagas\":4,\"Suites\":5,\"Area\":750,\"Valor\":22000.0,\"Condominio\":null,\"IPTU\":null},\n",
            "{\"Tipo\":\"Casa de Condom\\u00ednio\",\"Bairro\":\"Ramos\",\"Quartos\":2,\"Vagas\":2,\"Suites\":0,\"Area\":65,\"Valor\":1000.0,\"Condominio\":null,\"IPTU\":null},\n",
            "{\"Tipo\":\"Conjunto Comercial\\/Sala\",\"Bairro\":\"Centro\",\"Quartos\":0,\"Vagas\":3,\"Suites\":0,\"Area\":695,\"Valor\":35000.0,\"Condominio\":19193.0,\"IPTU\":3030.0}]\n"
          ],
          "name": "stdout"
        }
      ]
    },
    {
      "cell_type": "code",
      "metadata": {
        "id": "FMSk1SLxAW0j",
        "colab_type": "code",
        "outputId": "5c26cb22-1a4e-4f57-844f-d36dfaccafb1",
        "colab": {
          "base_uri": "https://localhost:8080/"
        }
      },
      "source": [
        "dados_aluguel_json = pd.read_json('/content/drive/My Drive/Colab Notebooks/extras/dados/aluguel.json')\n",
        "dados_aluguel_json.head()"
      ],
      "execution_count": 0,
      "outputs": [
        {
          "output_type": "execute_result",
          "data": {
            "text/html": [
              "<div>\n",
              "<style scoped>\n",
              "    .dataframe tbody tr th:only-of-type {\n",
              "        vertical-align: middle;\n",
              "    }\n",
              "\n",
              "    .dataframe tbody tr th {\n",
              "        vertical-align: top;\n",
              "    }\n",
              "\n",
              "    .dataframe thead th {\n",
              "        text-align: right;\n",
              "    }\n",
              "</style>\n",
              "<table border=\"1\" class=\"dataframe\">\n",
              "  <thead>\n",
              "    <tr style=\"text-align: right;\">\n",
              "      <th></th>\n",
              "      <th>Tipo</th>\n",
              "      <th>Bairro</th>\n",
              "      <th>Quartos</th>\n",
              "      <th>Vagas</th>\n",
              "      <th>Suites</th>\n",
              "      <th>Area</th>\n",
              "      <th>Valor</th>\n",
              "      <th>Condominio</th>\n",
              "      <th>IPTU</th>\n",
              "    </tr>\n",
              "  </thead>\n",
              "  <tbody>\n",
              "    <tr>\n",
              "      <th>0</th>\n",
              "      <td>Quitinete</td>\n",
              "      <td>Copacabana</td>\n",
              "      <td>1</td>\n",
              "      <td>0</td>\n",
              "      <td>0</td>\n",
              "      <td>40</td>\n",
              "      <td>1700</td>\n",
              "      <td>500.0</td>\n",
              "      <td>60.0</td>\n",
              "    </tr>\n",
              "    <tr>\n",
              "      <th>1</th>\n",
              "      <td>Casa</td>\n",
              "      <td>Jardim Botânico</td>\n",
              "      <td>2</td>\n",
              "      <td>0</td>\n",
              "      <td>1</td>\n",
              "      <td>100</td>\n",
              "      <td>7000</td>\n",
              "      <td>NaN</td>\n",
              "      <td>NaN</td>\n",
              "    </tr>\n",
              "    <tr>\n",
              "      <th>2</th>\n",
              "      <td>Conjunto Comercial/Sala</td>\n",
              "      <td>Barra da Tijuca</td>\n",
              "      <td>0</td>\n",
              "      <td>4</td>\n",
              "      <td>0</td>\n",
              "      <td>150</td>\n",
              "      <td>5200</td>\n",
              "      <td>4020.0</td>\n",
              "      <td>1111.0</td>\n",
              "    </tr>\n",
              "    <tr>\n",
              "      <th>3</th>\n",
              "      <td>Apartamento</td>\n",
              "      <td>Centro</td>\n",
              "      <td>1</td>\n",
              "      <td>0</td>\n",
              "      <td>0</td>\n",
              "      <td>15</td>\n",
              "      <td>800</td>\n",
              "      <td>390.0</td>\n",
              "      <td>20.0</td>\n",
              "    </tr>\n",
              "    <tr>\n",
              "      <th>4</th>\n",
              "      <td>Apartamento</td>\n",
              "      <td>Higienópolis</td>\n",
              "      <td>1</td>\n",
              "      <td>0</td>\n",
              "      <td>0</td>\n",
              "      <td>48</td>\n",
              "      <td>800</td>\n",
              "      <td>230.0</td>\n",
              "      <td>NaN</td>\n",
              "    </tr>\n",
              "  </tbody>\n",
              "</table>\n",
              "</div>"
            ],
            "text/plain": [
              "                      Tipo           Bairro  Quartos  ...  Valor  Condominio    IPTU\n",
              "0                Quitinete       Copacabana        1  ...   1700       500.0    60.0\n",
              "1                     Casa  Jardim Botânico        2  ...   7000         NaN     NaN\n",
              "2  Conjunto Comercial/Sala  Barra da Tijuca        0  ...   5200      4020.0  1111.0\n",
              "3              Apartamento           Centro        1  ...    800       390.0    20.0\n",
              "4              Apartamento     Higienópolis        1  ...    800       230.0     NaN\n",
              "\n",
              "[5 rows x 9 columns]"
            ]
          },
          "metadata": {
            "tags": []
          },
          "execution_count": 5
        }
      ]
    },
    {
      "cell_type": "code",
      "metadata": {
        "id": "L9FyJz4lAW0n",
        "colab_type": "code",
        "outputId": "8cea1fda-fc3e-422d-c547-dde7e6b32f3d",
        "colab": {
          "base_uri": "https://localhost:8080/"
        }
      },
      "source": [
        "txt = open('/content/drive/My Drive/Colab Notebooks/extras/dados/aluguel.txt')\n",
        "print(txt.read())"
      ],
      "execution_count": 0,
      "outputs": [
        {
          "output_type": "stream",
          "text": [
            "Tipo\tBairro\tQuartos\tVagas\tSuites\tArea\tValor\tCondominio\tIPTU\n",
            "Quitinete\tCopacabana\t1\t0\t0\t40\t1700\t500\t60\n",
            "Casa\tJardim Botânico\t2\t0\t1\t100\t7000\t\t\n",
            "Conjunto Comercial/Sala\tBarra da Tijuca\t0\t4\t0\t150\t5200\t4020\t1111\n",
            "Apartamento\tCentro\t1\t0\t0\t15\t800\t390\t20\n",
            "Apartamento\tHigienópolis\t1\t0\t0\t48\t800\t230\t\n",
            "Apartamento\tVista Alegre\t3\t1\t0\t70\t1200\t\t\n",
            "Apartamento\tCachambi\t2\t0\t0\t50\t1300\t301\t17\n",
            "Casa de Condomínio\tBarra da Tijuca\t5\t4\t5\t750\t22000\t\t\n",
            "Casa de Condomínio\tRamos\t2\t2\t0\t65\t1000\t\t\n",
            "Conjunto Comercial/Sala\tCentro\t0\t3\t0\t695\t35000\t19193\t3030\n",
            "\n"
          ],
          "name": "stdout"
        }
      ]
    },
    {
      "cell_type": "code",
      "metadata": {
        "id": "hwY6r7sQAW0q",
        "colab_type": "code",
        "outputId": "f5be4e35-e55a-4909-d5cb-a89328e62fca",
        "colab": {
          "base_uri": "https://localhost:8080/"
        }
      },
      "source": [
        "dados_aluguel_txt = pd.read_table('/content/drive/My Drive/Colab Notebooks/extras/dados/aluguel.txt')\n",
        "dados_aluguel_txt"
      ],
      "execution_count": 0,
      "outputs": [
        {
          "output_type": "execute_result",
          "data": {
            "text/html": [
              "<div>\n",
              "<style scoped>\n",
              "    .dataframe tbody tr th:only-of-type {\n",
              "        vertical-align: middle;\n",
              "    }\n",
              "\n",
              "    .dataframe tbody tr th {\n",
              "        vertical-align: top;\n",
              "    }\n",
              "\n",
              "    .dataframe thead th {\n",
              "        text-align: right;\n",
              "    }\n",
              "</style>\n",
              "<table border=\"1\" class=\"dataframe\">\n",
              "  <thead>\n",
              "    <tr style=\"text-align: right;\">\n",
              "      <th></th>\n",
              "      <th>Tipo</th>\n",
              "      <th>Bairro</th>\n",
              "      <th>Quartos</th>\n",
              "      <th>Vagas</th>\n",
              "      <th>Suites</th>\n",
              "      <th>Area</th>\n",
              "      <th>Valor</th>\n",
              "      <th>Condominio</th>\n",
              "      <th>IPTU</th>\n",
              "    </tr>\n",
              "  </thead>\n",
              "  <tbody>\n",
              "    <tr>\n",
              "      <th>0</th>\n",
              "      <td>Quitinete</td>\n",
              "      <td>Copacabana</td>\n",
              "      <td>1</td>\n",
              "      <td>0</td>\n",
              "      <td>0</td>\n",
              "      <td>40</td>\n",
              "      <td>1700</td>\n",
              "      <td>500.0</td>\n",
              "      <td>60.0</td>\n",
              "    </tr>\n",
              "    <tr>\n",
              "      <th>1</th>\n",
              "      <td>Casa</td>\n",
              "      <td>Jardim Botânico</td>\n",
              "      <td>2</td>\n",
              "      <td>0</td>\n",
              "      <td>1</td>\n",
              "      <td>100</td>\n",
              "      <td>7000</td>\n",
              "      <td>NaN</td>\n",
              "      <td>NaN</td>\n",
              "    </tr>\n",
              "    <tr>\n",
              "      <th>2</th>\n",
              "      <td>Conjunto Comercial/Sala</td>\n",
              "      <td>Barra da Tijuca</td>\n",
              "      <td>0</td>\n",
              "      <td>4</td>\n",
              "      <td>0</td>\n",
              "      <td>150</td>\n",
              "      <td>5200</td>\n",
              "      <td>4020.0</td>\n",
              "      <td>1111.0</td>\n",
              "    </tr>\n",
              "    <tr>\n",
              "      <th>3</th>\n",
              "      <td>Apartamento</td>\n",
              "      <td>Centro</td>\n",
              "      <td>1</td>\n",
              "      <td>0</td>\n",
              "      <td>0</td>\n",
              "      <td>15</td>\n",
              "      <td>800</td>\n",
              "      <td>390.0</td>\n",
              "      <td>20.0</td>\n",
              "    </tr>\n",
              "    <tr>\n",
              "      <th>4</th>\n",
              "      <td>Apartamento</td>\n",
              "      <td>Higienópolis</td>\n",
              "      <td>1</td>\n",
              "      <td>0</td>\n",
              "      <td>0</td>\n",
              "      <td>48</td>\n",
              "      <td>800</td>\n",
              "      <td>230.0</td>\n",
              "      <td>NaN</td>\n",
              "    </tr>\n",
              "    <tr>\n",
              "      <th>5</th>\n",
              "      <td>Apartamento</td>\n",
              "      <td>Vista Alegre</td>\n",
              "      <td>3</td>\n",
              "      <td>1</td>\n",
              "      <td>0</td>\n",
              "      <td>70</td>\n",
              "      <td>1200</td>\n",
              "      <td>NaN</td>\n",
              "      <td>NaN</td>\n",
              "    </tr>\n",
              "    <tr>\n",
              "      <th>6</th>\n",
              "      <td>Apartamento</td>\n",
              "      <td>Cachambi</td>\n",
              "      <td>2</td>\n",
              "      <td>0</td>\n",
              "      <td>0</td>\n",
              "      <td>50</td>\n",
              "      <td>1300</td>\n",
              "      <td>301.0</td>\n",
              "      <td>17.0</td>\n",
              "    </tr>\n",
              "    <tr>\n",
              "      <th>7</th>\n",
              "      <td>Casa de Condomínio</td>\n",
              "      <td>Barra da Tijuca</td>\n",
              "      <td>5</td>\n",
              "      <td>4</td>\n",
              "      <td>5</td>\n",
              "      <td>750</td>\n",
              "      <td>22000</td>\n",
              "      <td>NaN</td>\n",
              "      <td>NaN</td>\n",
              "    </tr>\n",
              "    <tr>\n",
              "      <th>8</th>\n",
              "      <td>Casa de Condomínio</td>\n",
              "      <td>Ramos</td>\n",
              "      <td>2</td>\n",
              "      <td>2</td>\n",
              "      <td>0</td>\n",
              "      <td>65</td>\n",
              "      <td>1000</td>\n",
              "      <td>NaN</td>\n",
              "      <td>NaN</td>\n",
              "    </tr>\n",
              "    <tr>\n",
              "      <th>9</th>\n",
              "      <td>Conjunto Comercial/Sala</td>\n",
              "      <td>Centro</td>\n",
              "      <td>0</td>\n",
              "      <td>3</td>\n",
              "      <td>0</td>\n",
              "      <td>695</td>\n",
              "      <td>35000</td>\n",
              "      <td>19193.0</td>\n",
              "      <td>3030.0</td>\n",
              "    </tr>\n",
              "  </tbody>\n",
              "</table>\n",
              "</div>"
            ],
            "text/plain": [
              "                      Tipo           Bairro  Quartos  ...  Valor  Condominio    IPTU\n",
              "0                Quitinete       Copacabana        1  ...   1700       500.0    60.0\n",
              "1                     Casa  Jardim Botânico        2  ...   7000         NaN     NaN\n",
              "2  Conjunto Comercial/Sala  Barra da Tijuca        0  ...   5200      4020.0  1111.0\n",
              "3              Apartamento           Centro        1  ...    800       390.0    20.0\n",
              "4              Apartamento     Higienópolis        1  ...    800       230.0     NaN\n",
              "5              Apartamento     Vista Alegre        3  ...   1200         NaN     NaN\n",
              "6              Apartamento         Cachambi        2  ...   1300       301.0    17.0\n",
              "7       Casa de Condomínio  Barra da Tijuca        5  ...  22000         NaN     NaN\n",
              "8       Casa de Condomínio            Ramos        2  ...   1000         NaN     NaN\n",
              "9  Conjunto Comercial/Sala           Centro        0  ...  35000     19193.0  3030.0\n",
              "\n",
              "[10 rows x 9 columns]"
            ]
          },
          "metadata": {
            "tags": []
          },
          "execution_count": 7
        }
      ]
    },
    {
      "cell_type": "code",
      "metadata": {
        "id": "ljUraFP7AW0t",
        "colab_type": "code",
        "outputId": "793f9e23-58af-4cdb-cd08-fc83bbee3084",
        "colab": {
          "base_uri": "https://localhost:8080/"
        }
      },
      "source": [
        "dados_aluguel_xlsx = pd.read_excel('/content/drive/My Drive/Colab Notebooks/extras/dados/aluguel.xlsx')\n",
        "dados_aluguel_xlsx"
      ],
      "execution_count": 0,
      "outputs": [
        {
          "output_type": "execute_result",
          "data": {
            "text/html": [
              "<div>\n",
              "<style scoped>\n",
              "    .dataframe tbody tr th:only-of-type {\n",
              "        vertical-align: middle;\n",
              "    }\n",
              "\n",
              "    .dataframe tbody tr th {\n",
              "        vertical-align: top;\n",
              "    }\n",
              "\n",
              "    .dataframe thead th {\n",
              "        text-align: right;\n",
              "    }\n",
              "</style>\n",
              "<table border=\"1\" class=\"dataframe\">\n",
              "  <thead>\n",
              "    <tr style=\"text-align: right;\">\n",
              "      <th></th>\n",
              "      <th>Tipo</th>\n",
              "      <th>Bairro</th>\n",
              "      <th>Quartos</th>\n",
              "      <th>Vagas</th>\n",
              "      <th>Suites</th>\n",
              "      <th>Area</th>\n",
              "      <th>Valor</th>\n",
              "      <th>Condominio</th>\n",
              "      <th>IPTU</th>\n",
              "    </tr>\n",
              "  </thead>\n",
              "  <tbody>\n",
              "    <tr>\n",
              "      <th>0</th>\n",
              "      <td>Quitinete</td>\n",
              "      <td>Copacabana</td>\n",
              "      <td>1</td>\n",
              "      <td>0</td>\n",
              "      <td>0</td>\n",
              "      <td>40</td>\n",
              "      <td>1700</td>\n",
              "      <td>500.0</td>\n",
              "      <td>60.0</td>\n",
              "    </tr>\n",
              "    <tr>\n",
              "      <th>1</th>\n",
              "      <td>Casa</td>\n",
              "      <td>Jardim Botânico</td>\n",
              "      <td>2</td>\n",
              "      <td>0</td>\n",
              "      <td>1</td>\n",
              "      <td>100</td>\n",
              "      <td>7000</td>\n",
              "      <td>NaN</td>\n",
              "      <td>NaN</td>\n",
              "    </tr>\n",
              "    <tr>\n",
              "      <th>2</th>\n",
              "      <td>Conjunto Comercial/Sala</td>\n",
              "      <td>Barra da Tijuca</td>\n",
              "      <td>0</td>\n",
              "      <td>4</td>\n",
              "      <td>0</td>\n",
              "      <td>150</td>\n",
              "      <td>5200</td>\n",
              "      <td>4020.0</td>\n",
              "      <td>1111.0</td>\n",
              "    </tr>\n",
              "    <tr>\n",
              "      <th>3</th>\n",
              "      <td>Apartamento</td>\n",
              "      <td>Centro</td>\n",
              "      <td>1</td>\n",
              "      <td>0</td>\n",
              "      <td>0</td>\n",
              "      <td>15</td>\n",
              "      <td>800</td>\n",
              "      <td>390.0</td>\n",
              "      <td>20.0</td>\n",
              "    </tr>\n",
              "    <tr>\n",
              "      <th>4</th>\n",
              "      <td>Apartamento</td>\n",
              "      <td>Higienópolis</td>\n",
              "      <td>1</td>\n",
              "      <td>0</td>\n",
              "      <td>0</td>\n",
              "      <td>48</td>\n",
              "      <td>800</td>\n",
              "      <td>230.0</td>\n",
              "      <td>NaN</td>\n",
              "    </tr>\n",
              "    <tr>\n",
              "      <th>5</th>\n",
              "      <td>Apartamento</td>\n",
              "      <td>Vista Alegre</td>\n",
              "      <td>3</td>\n",
              "      <td>1</td>\n",
              "      <td>0</td>\n",
              "      <td>70</td>\n",
              "      <td>1200</td>\n",
              "      <td>NaN</td>\n",
              "      <td>NaN</td>\n",
              "    </tr>\n",
              "    <tr>\n",
              "      <th>6</th>\n",
              "      <td>Apartamento</td>\n",
              "      <td>Cachambi</td>\n",
              "      <td>2</td>\n",
              "      <td>0</td>\n",
              "      <td>0</td>\n",
              "      <td>50</td>\n",
              "      <td>1300</td>\n",
              "      <td>301.0</td>\n",
              "      <td>17.0</td>\n",
              "    </tr>\n",
              "    <tr>\n",
              "      <th>7</th>\n",
              "      <td>Casa de Condomínio</td>\n",
              "      <td>Barra da Tijuca</td>\n",
              "      <td>5</td>\n",
              "      <td>4</td>\n",
              "      <td>5</td>\n",
              "      <td>750</td>\n",
              "      <td>22000</td>\n",
              "      <td>NaN</td>\n",
              "      <td>NaN</td>\n",
              "    </tr>\n",
              "    <tr>\n",
              "      <th>8</th>\n",
              "      <td>Casa de Condomínio</td>\n",
              "      <td>Ramos</td>\n",
              "      <td>2</td>\n",
              "      <td>2</td>\n",
              "      <td>0</td>\n",
              "      <td>65</td>\n",
              "      <td>1000</td>\n",
              "      <td>NaN</td>\n",
              "      <td>NaN</td>\n",
              "    </tr>\n",
              "    <tr>\n",
              "      <th>9</th>\n",
              "      <td>Conjunto Comercial/Sala</td>\n",
              "      <td>Centro</td>\n",
              "      <td>0</td>\n",
              "      <td>3</td>\n",
              "      <td>0</td>\n",
              "      <td>695</td>\n",
              "      <td>35000</td>\n",
              "      <td>19193.0</td>\n",
              "      <td>3030.0</td>\n",
              "    </tr>\n",
              "  </tbody>\n",
              "</table>\n",
              "</div>"
            ],
            "text/plain": [
              "                      Tipo           Bairro  Quartos  ...  Valor  Condominio    IPTU\n",
              "0                Quitinete       Copacabana        1  ...   1700       500.0    60.0\n",
              "1                     Casa  Jardim Botânico        2  ...   7000         NaN     NaN\n",
              "2  Conjunto Comercial/Sala  Barra da Tijuca        0  ...   5200      4020.0  1111.0\n",
              "3              Apartamento           Centro        1  ...    800       390.0    20.0\n",
              "4              Apartamento     Higienópolis        1  ...    800       230.0     NaN\n",
              "5              Apartamento     Vista Alegre        3  ...   1200         NaN     NaN\n",
              "6              Apartamento         Cachambi        2  ...   1300       301.0    17.0\n",
              "7       Casa de Condomínio  Barra da Tijuca        5  ...  22000         NaN     NaN\n",
              "8       Casa de Condomínio            Ramos        2  ...   1000         NaN     NaN\n",
              "9  Conjunto Comercial/Sala           Centro        0  ...  35000     19193.0  3030.0\n",
              "\n",
              "[10 rows x 9 columns]"
            ]
          },
          "metadata": {
            "tags": []
          },
          "execution_count": 8
        }
      ]
    },
    {
      "cell_type": "code",
      "metadata": {
        "id": "BiBtNrhdAW0w",
        "colab_type": "code",
        "outputId": "9dc9d768-81ca-48cf-a397-274c3e890d2f",
        "colab": {
          "base_uri": "https://localhost:8080/"
        }
      },
      "source": [
        "dados_aluguel_html = pd.read_html('/content/drive/My Drive/Colab Notebooks/extras/dados/dados_html_1.html')\n",
        "#A gente usa esse indice pra indicar qual tabela da pagina html a gente quer transformar em data frame\n",
        "dados_aluguel_html[0]"
      ],
      "execution_count": 0,
      "outputs": [
        {
          "output_type": "execute_result",
          "data": {
            "text/html": [
              "<div>\n",
              "<style scoped>\n",
              "    .dataframe tbody tr th:only-of-type {\n",
              "        vertical-align: middle;\n",
              "    }\n",
              "\n",
              "    .dataframe tbody tr th {\n",
              "        vertical-align: top;\n",
              "    }\n",
              "\n",
              "    .dataframe thead th {\n",
              "        text-align: right;\n",
              "    }\n",
              "</style>\n",
              "<table border=\"1\" class=\"dataframe\">\n",
              "  <thead>\n",
              "    <tr style=\"text-align: right;\">\n",
              "      <th></th>\n",
              "      <th>FAIXA ETÁRIA</th>\n",
              "      <th>UNAFISCO SAÚDE SOFT II</th>\n",
              "      <th>SOFT PARTICIPATIVO</th>\n",
              "      <th>UNIQUE</th>\n",
              "    </tr>\n",
              "  </thead>\n",
              "  <tbody>\n",
              "    <tr>\n",
              "      <th>0</th>\n",
              "      <td>00 A 18</td>\n",
              "      <td>R$218,99</td>\n",
              "      <td>R$192,60</td>\n",
              "      <td>R$334,48</td>\n",
              "    </tr>\n",
              "    <tr>\n",
              "      <th>1</th>\n",
              "      <td>19 A 23</td>\n",
              "      <td>R$263,63</td>\n",
              "      <td>R$207,67</td>\n",
              "      <td>R$380,06</td>\n",
              "    </tr>\n",
              "    <tr>\n",
              "      <th>2</th>\n",
              "      <td>24 A 28</td>\n",
              "      <td>R$322,44</td>\n",
              "      <td>R$224,26</td>\n",
              "      <td>R$464,39</td>\n",
              "    </tr>\n",
              "    <tr>\n",
              "      <th>3</th>\n",
              "      <td>29 A 33</td>\n",
              "      <td>R$402,05</td>\n",
              "      <td>R$258,63</td>\n",
              "      <td>R$566,68</td>\n",
              "    </tr>\n",
              "    <tr>\n",
              "      <th>4</th>\n",
              "      <td>34 A 38</td>\n",
              "      <td>R$455,17</td>\n",
              "      <td>R$306,37</td>\n",
              "      <td>R$664,61</td>\n",
              "    </tr>\n",
              "    <tr>\n",
              "      <th>5</th>\n",
              "      <td>39 A 43</td>\n",
              "      <td>R$489,29</td>\n",
              "      <td>R$417,93</td>\n",
              "      <td>R$742,72</td>\n",
              "    </tr>\n",
              "    <tr>\n",
              "      <th>6</th>\n",
              "      <td>44 A 48</td>\n",
              "      <td>R$582,65</td>\n",
              "      <td>R$495,24</td>\n",
              "      <td>R$869,47</td>\n",
              "    </tr>\n",
              "    <tr>\n",
              "      <th>7</th>\n",
              "      <td>49 A 53</td>\n",
              "      <td>R$718,86</td>\n",
              "      <td>R$562,64</td>\n",
              "      <td>R$1.046,29</td>\n",
              "    </tr>\n",
              "    <tr>\n",
              "      <th>8</th>\n",
              "      <td>54 A 58</td>\n",
              "      <td>R$908,54</td>\n",
              "      <td>R$721,00</td>\n",
              "      <td>R$1.355,74</td>\n",
              "    </tr>\n",
              "    <tr>\n",
              "      <th>9</th>\n",
              "      <td>59 OU MAIS</td>\n",
              "      <td>R$1.244,50</td>\n",
              "      <td>R$1.151,62</td>\n",
              "      <td>R$2.003,53</td>\n",
              "    </tr>\n",
              "  </tbody>\n",
              "</table>\n",
              "</div>"
            ],
            "text/plain": [
              "  FAIXA ETÁRIA UNAFISCO SAÚDE SOFT II SOFT PARTICIPATIVO      UNIQUE\n",
              "0      00 A 18               R$218,99           R$192,60    R$334,48\n",
              "1      19 A 23               R$263,63           R$207,67    R$380,06\n",
              "2      24 A 28               R$322,44           R$224,26    R$464,39\n",
              "3      29 A 33               R$402,05           R$258,63    R$566,68\n",
              "4      34 A 38               R$455,17           R$306,37    R$664,61\n",
              "5      39 A 43               R$489,29           R$417,93    R$742,72\n",
              "6      44 A 48               R$582,65           R$495,24    R$869,47\n",
              "7      49 A 53               R$718,86           R$562,64  R$1.046,29\n",
              "8      54 A 58               R$908,54           R$721,00  R$1.355,74\n",
              "9   59 OU MAIS             R$1.244,50         R$1.151,62  R$2.003,53"
            ]
          },
          "metadata": {
            "tags": []
          },
          "execution_count": 9
        }
      ]
    },
    {
      "cell_type": "code",
      "metadata": {
        "id": "Got0afG4AW02",
        "colab_type": "code",
        "colab": {}
      },
      "source": [
        ""
      ],
      "execution_count": 0,
      "outputs": []
    },
    {
      "cell_type": "markdown",
      "metadata": {
        "id": "LVF8SzC77pRX",
        "colab_type": "text"
      },
      "source": [
        "# Criando Data Structures"
      ]
    },
    {
      "cell_type": "code",
      "metadata": {
        "id": "o6JGAP7R7uQa",
        "colab_type": "code",
        "outputId": "42919cd2-640b-44b4-9f6c-ea3c1e517967",
        "colab": {
          "base_uri": "https://localhost:8080/"
        }
      },
      "source": [
        "#Criando dicionario para criar pd.Series\n",
        "dicio = {'Linha' + str(i) : i + 1 for i in range(5)}\n",
        "dicio"
      ],
      "execution_count": 0,
      "outputs": [
        {
          "output_type": "execute_result",
          "data": {
            "text/plain": [
              "{'Linha0': 1, 'Linha1': 2, 'Linha2': 3, 'Linha3': 4, 'Linha4': 5}"
            ]
          },
          "metadata": {
            "tags": []
          },
          "execution_count": 10
        }
      ]
    },
    {
      "cell_type": "code",
      "metadata": {
        "id": "MWqvvVlkq21W",
        "colab_type": "code",
        "outputId": "10c25d17-700e-45ba-d11c-21cf9c4c3920",
        "colab": {
          "base_uri": "https://localhost:8080/"
        }
      },
      "source": [
        "serie = pd.Series(dicio)\n",
        "serie"
      ],
      "execution_count": 0,
      "outputs": [
        {
          "output_type": "execute_result",
          "data": {
            "text/plain": [
              "Linha0    1\n",
              "Linha1    2\n",
              "Linha2    3\n",
              "Linha3    4\n",
              "Linha4    5\n",
              "dtype: int64"
            ]
          },
          "metadata": {
            "tags": []
          },
          "execution_count": 11
        }
      ]
    },
    {
      "cell_type": "markdown",
      "metadata": {
        "id": "6IUmCac_rtr0",
        "colab_type": "text"
      },
      "source": [
        "DataFrame sem dicionario"
      ]
    },
    {
      "cell_type": "code",
      "metadata": {
        "id": "xrSPXEd0rwB7",
        "colab_type": "code",
        "outputId": "7d97f30f-aa63-47ef-da77-afc37ec68bd8",
        "colab": {
          "base_uri": "https://localhost:8080/"
        }
      },
      "source": [
        "data_f = [[1,9,5],\n",
        "          [4,8,7],\n",
        "          [2,0,2]]\n",
        "pd.DataFrame(data_f)\n"
      ],
      "execution_count": 0,
      "outputs": [
        {
          "output_type": "execute_result",
          "data": {
            "text/html": [
              "<div>\n",
              "<style scoped>\n",
              "    .dataframe tbody tr th:only-of-type {\n",
              "        vertical-align: middle;\n",
              "    }\n",
              "\n",
              "    .dataframe tbody tr th {\n",
              "        vertical-align: top;\n",
              "    }\n",
              "\n",
              "    .dataframe thead th {\n",
              "        text-align: right;\n",
              "    }\n",
              "</style>\n",
              "<table border=\"1\" class=\"dataframe\">\n",
              "  <thead>\n",
              "    <tr style=\"text-align: right;\">\n",
              "      <th></th>\n",
              "      <th>0</th>\n",
              "      <th>1</th>\n",
              "      <th>2</th>\n",
              "    </tr>\n",
              "  </thead>\n",
              "  <tbody>\n",
              "    <tr>\n",
              "      <th>0</th>\n",
              "      <td>1</td>\n",
              "      <td>9</td>\n",
              "      <td>5</td>\n",
              "    </tr>\n",
              "    <tr>\n",
              "      <th>1</th>\n",
              "      <td>4</td>\n",
              "      <td>8</td>\n",
              "      <td>7</td>\n",
              "    </tr>\n",
              "    <tr>\n",
              "      <th>2</th>\n",
              "      <td>2</td>\n",
              "      <td>0</td>\n",
              "      <td>2</td>\n",
              "    </tr>\n",
              "  </tbody>\n",
              "</table>\n",
              "</div>"
            ],
            "text/plain": [
              "   0  1  2\n",
              "0  1  9  5\n",
              "1  4  8  7\n",
              "2  2  0  2"
            ]
          },
          "metadata": {
            "tags": []
          },
          "execution_count": 12
        }
      ]
    },
    {
      "cell_type": "code",
      "metadata": {
        "id": "tike9I-isLL0",
        "colab_type": "code",
        "outputId": "300665eb-8775-4868-8cf8-82f322153ae9",
        "colab": {
          "base_uri": "https://localhost:8080/"
        }
      },
      "source": [
        "#Criando rotulo para linhas(classes)\n",
        "indexes = ['Linha' + str(i) for i in range(3)]\n",
        "pd.DataFrame(data = data_f, index = indexes)"
      ],
      "execution_count": 0,
      "outputs": [
        {
          "output_type": "execute_result",
          "data": {
            "text/html": [
              "<div>\n",
              "<style scoped>\n",
              "    .dataframe tbody tr th:only-of-type {\n",
              "        vertical-align: middle;\n",
              "    }\n",
              "\n",
              "    .dataframe tbody tr th {\n",
              "        vertical-align: top;\n",
              "    }\n",
              "\n",
              "    .dataframe thead th {\n",
              "        text-align: right;\n",
              "    }\n",
              "</style>\n",
              "<table border=\"1\" class=\"dataframe\">\n",
              "  <thead>\n",
              "    <tr style=\"text-align: right;\">\n",
              "      <th></th>\n",
              "      <th>0</th>\n",
              "      <th>1</th>\n",
              "      <th>2</th>\n",
              "    </tr>\n",
              "  </thead>\n",
              "  <tbody>\n",
              "    <tr>\n",
              "      <th>Linha0</th>\n",
              "      <td>1</td>\n",
              "      <td>9</td>\n",
              "      <td>5</td>\n",
              "    </tr>\n",
              "    <tr>\n",
              "      <th>Linha1</th>\n",
              "      <td>4</td>\n",
              "      <td>8</td>\n",
              "      <td>7</td>\n",
              "    </tr>\n",
              "    <tr>\n",
              "      <th>Linha2</th>\n",
              "      <td>2</td>\n",
              "      <td>0</td>\n",
              "      <td>2</td>\n",
              "    </tr>\n",
              "  </tbody>\n",
              "</table>\n",
              "</div>"
            ],
            "text/plain": [
              "        0  1  2\n",
              "Linha0  1  9  5\n",
              "Linha1  4  8  7\n",
              "Linha2  2  0  2"
            ]
          },
          "metadata": {
            "tags": []
          },
          "execution_count": 13
        }
      ]
    },
    {
      "cell_type": "code",
      "metadata": {
        "id": "sNxYieY0smMs",
        "colab_type": "code",
        "outputId": "023a8c51-4d6a-4b09-8cf9-0bdb9a0de487",
        "colab": {
          "base_uri": "https://localhost:8080/"
        }
      },
      "source": [
        "columns = ['Coluna' + str(i) for i in range(3)]\n",
        "pd.DataFrame(data = data_f, index = indexes, columns=columns)"
      ],
      "execution_count": 0,
      "outputs": [
        {
          "output_type": "execute_result",
          "data": {
            "text/html": [
              "<div>\n",
              "<style scoped>\n",
              "    .dataframe tbody tr th:only-of-type {\n",
              "        vertical-align: middle;\n",
              "    }\n",
              "\n",
              "    .dataframe tbody tr th {\n",
              "        vertical-align: top;\n",
              "    }\n",
              "\n",
              "    .dataframe thead th {\n",
              "        text-align: right;\n",
              "    }\n",
              "</style>\n",
              "<table border=\"1\" class=\"dataframe\">\n",
              "  <thead>\n",
              "    <tr style=\"text-align: right;\">\n",
              "      <th></th>\n",
              "      <th>Coluna0</th>\n",
              "      <th>Coluna1</th>\n",
              "      <th>Coluna2</th>\n",
              "    </tr>\n",
              "  </thead>\n",
              "  <tbody>\n",
              "    <tr>\n",
              "      <th>Linha0</th>\n",
              "      <td>1</td>\n",
              "      <td>9</td>\n",
              "      <td>5</td>\n",
              "    </tr>\n",
              "    <tr>\n",
              "      <th>Linha1</th>\n",
              "      <td>4</td>\n",
              "      <td>8</td>\n",
              "      <td>7</td>\n",
              "    </tr>\n",
              "    <tr>\n",
              "      <th>Linha2</th>\n",
              "      <td>2</td>\n",
              "      <td>0</td>\n",
              "      <td>2</td>\n",
              "    </tr>\n",
              "  </tbody>\n",
              "</table>\n",
              "</div>"
            ],
            "text/plain": [
              "        Coluna0  Coluna1  Coluna2\n",
              "Linha0        1        9        5\n",
              "Linha1        4        8        7\n",
              "Linha2        2        0        2"
            ]
          },
          "metadata": {
            "tags": []
          },
          "execution_count": 14
        }
      ]
    },
    {
      "cell_type": "markdown",
      "metadata": {
        "id": "2cxPlExitG1W",
        "colab_type": "text"
      },
      "source": [
        "Data Frame com Dicionario (much better!!!)"
      ]
    },
    {
      "cell_type": "code",
      "metadata": {
        "id": "Ins6CPtTs4uk",
        "colab_type": "code",
        "outputId": "f395595a-7705-4892-8851-f21cf73e986e",
        "colab": {
          "base_uri": "https://localhost:8080/"
        }
      },
      "source": [
        "data_f = {'Coluna0': {'Linha0': 1, 'Linha1': 4, 'Linha2': 7},\n",
        "        'Coluna1': {'Linha0': 2, 'Linha1': 5, 'Linha2': 8},\n",
        "        'Coluna2': {'Linha0': 3, 'Linha1': 6, 'Linha2': 9}}\n",
        "pd.DataFrame(data_f)"
      ],
      "execution_count": 0,
      "outputs": [
        {
          "output_type": "execute_result",
          "data": {
            "text/html": [
              "<div>\n",
              "<style scoped>\n",
              "    .dataframe tbody tr th:only-of-type {\n",
              "        vertical-align: middle;\n",
              "    }\n",
              "\n",
              "    .dataframe tbody tr th {\n",
              "        vertical-align: top;\n",
              "    }\n",
              "\n",
              "    .dataframe thead th {\n",
              "        text-align: right;\n",
              "    }\n",
              "</style>\n",
              "<table border=\"1\" class=\"dataframe\">\n",
              "  <thead>\n",
              "    <tr style=\"text-align: right;\">\n",
              "      <th></th>\n",
              "      <th>Coluna0</th>\n",
              "      <th>Coluna1</th>\n",
              "      <th>Coluna2</th>\n",
              "    </tr>\n",
              "  </thead>\n",
              "  <tbody>\n",
              "    <tr>\n",
              "      <th>Linha0</th>\n",
              "      <td>1</td>\n",
              "      <td>2</td>\n",
              "      <td>3</td>\n",
              "    </tr>\n",
              "    <tr>\n",
              "      <th>Linha1</th>\n",
              "      <td>4</td>\n",
              "      <td>5</td>\n",
              "      <td>6</td>\n",
              "    </tr>\n",
              "    <tr>\n",
              "      <th>Linha2</th>\n",
              "      <td>7</td>\n",
              "      <td>8</td>\n",
              "      <td>9</td>\n",
              "    </tr>\n",
              "  </tbody>\n",
              "</table>\n",
              "</div>"
            ],
            "text/plain": [
              "        Coluna0  Coluna1  Coluna2\n",
              "Linha0        1        2        3\n",
              "Linha1        4        5        6\n",
              "Linha2        7        8        9"
            ]
          },
          "metadata": {
            "tags": []
          },
          "execution_count": 15
        }
      ]
    },
    {
      "cell_type": "code",
      "metadata": {
        "id": "iuSQK5lMtDXE",
        "colab_type": "code",
        "colab": {}
      },
      "source": [
        "#Concatenação!!\n",
        "#conc = pd.concat([lista com os data frames] (se for colocar axis = 1 fica por linha))\n",
        "#Os data frames vao ficar empilhados\n"
      ],
      "execution_count": 0,
      "outputs": []
    },
    {
      "cell_type": "code",
      "metadata": {
        "id": "H5i9F9fHuo1e",
        "colab_type": "code",
        "colab": {}
      },
      "source": [
        ""
      ],
      "execution_count": 0,
      "outputs": []
    },
    {
      "cell_type": "markdown",
      "metadata": {
        "id": "2Uz7DJS7tbN5",
        "colab_type": "text"
      },
      "source": [
        "# Sort"
      ]
    },
    {
      "cell_type": "code",
      "metadata": {
        "id": "qk3M6fgAteV-",
        "colab_type": "code",
        "outputId": "9ed6348d-5b7a-47a2-967c-240e8d068b75",
        "colab": {
          "base_uri": "https://localhost:8080/"
        }
      },
      "source": [
        "data = [[1,2,3],\n",
        "        [4,5,6],\n",
        "        [7,8,9]]\n",
        "data"
      ],
      "execution_count": 0,
      "outputs": [
        {
          "output_type": "execute_result",
          "data": {
            "text/plain": [
              "[[1, 2, 3], [4, 5, 6], [7, 8, 9]]"
            ]
          },
          "metadata": {
            "tags": []
          },
          "execution_count": 16
        }
      ]
    },
    {
      "cell_type": "code",
      "metadata": {
        "id": "PSkpZhcwto8u",
        "colab_type": "code",
        "outputId": "47ce7a8a-ab1f-44ae-9197-25ad3c299cbf",
        "colab": {
          "base_uri": "https://localhost:8080/"
        }
      },
      "source": [
        "list(\"321\")"
      ],
      "execution_count": 0,
      "outputs": [
        {
          "output_type": "execute_result",
          "data": {
            "text/plain": [
              "['3', '2', '1']"
            ]
          },
          "metadata": {
            "tags": []
          },
          "execution_count": 17
        }
      ]
    },
    {
      "cell_type": "code",
      "metadata": {
        "id": "glgIZYNItud2",
        "colab_type": "code",
        "outputId": "9edcd5e6-7fd9-46e8-8abb-e5680b368580",
        "colab": {
          "base_uri": "https://localhost:8080/"
        }
      },
      "source": [
        "#Para gerar indices e colunas para o data frame... Faz uma lista pra cada\n",
        "df = pd.DataFrame(data, list(\"321\"), list(\"ZYX\"))\n",
        "df"
      ],
      "execution_count": 0,
      "outputs": [
        {
          "output_type": "execute_result",
          "data": {
            "text/html": [
              "<div>\n",
              "<style scoped>\n",
              "    .dataframe tbody tr th:only-of-type {\n",
              "        vertical-align: middle;\n",
              "    }\n",
              "\n",
              "    .dataframe tbody tr th {\n",
              "        vertical-align: top;\n",
              "    }\n",
              "\n",
              "    .dataframe thead th {\n",
              "        text-align: right;\n",
              "    }\n",
              "</style>\n",
              "<table border=\"1\" class=\"dataframe\">\n",
              "  <thead>\n",
              "    <tr style=\"text-align: right;\">\n",
              "      <th></th>\n",
              "      <th>Z</th>\n",
              "      <th>Y</th>\n",
              "      <th>X</th>\n",
              "    </tr>\n",
              "  </thead>\n",
              "  <tbody>\n",
              "    <tr>\n",
              "      <th>3</th>\n",
              "      <td>1</td>\n",
              "      <td>2</td>\n",
              "      <td>3</td>\n",
              "    </tr>\n",
              "    <tr>\n",
              "      <th>2</th>\n",
              "      <td>4</td>\n",
              "      <td>5</td>\n",
              "      <td>6</td>\n",
              "    </tr>\n",
              "    <tr>\n",
              "      <th>1</th>\n",
              "      <td>7</td>\n",
              "      <td>8</td>\n",
              "      <td>9</td>\n",
              "    </tr>\n",
              "  </tbody>\n",
              "</table>\n",
              "</div>"
            ],
            "text/plain": [
              "   Z  Y  X\n",
              "3  1  2  3\n",
              "2  4  5  6\n",
              "1  7  8  9"
            ]
          },
          "metadata": {
            "tags": []
          },
          "execution_count": 18
        }
      ]
    },
    {
      "cell_type": "code",
      "metadata": {
        "id": "lFjJuVzit8FW",
        "colab_type": "code",
        "outputId": "efe7f30e-27cb-4b1f-c48e-9e8dbe6fea91",
        "colab": {
          "base_uri": "https://localhost:8080/"
        }
      },
      "source": [
        "#Fazendo sort no index\n",
        "df.sort_index(inplace = True)\n",
        "df"
      ],
      "execution_count": 0,
      "outputs": [
        {
          "output_type": "execute_result",
          "data": {
            "text/html": [
              "<div>\n",
              "<style scoped>\n",
              "    .dataframe tbody tr th:only-of-type {\n",
              "        vertical-align: middle;\n",
              "    }\n",
              "\n",
              "    .dataframe tbody tr th {\n",
              "        vertical-align: top;\n",
              "    }\n",
              "\n",
              "    .dataframe thead th {\n",
              "        text-align: right;\n",
              "    }\n",
              "</style>\n",
              "<table border=\"1\" class=\"dataframe\">\n",
              "  <thead>\n",
              "    <tr style=\"text-align: right;\">\n",
              "      <th></th>\n",
              "      <th>Z</th>\n",
              "      <th>Y</th>\n",
              "      <th>X</th>\n",
              "    </tr>\n",
              "  </thead>\n",
              "  <tbody>\n",
              "    <tr>\n",
              "      <th>1</th>\n",
              "      <td>7</td>\n",
              "      <td>8</td>\n",
              "      <td>9</td>\n",
              "    </tr>\n",
              "    <tr>\n",
              "      <th>2</th>\n",
              "      <td>4</td>\n",
              "      <td>5</td>\n",
              "      <td>6</td>\n",
              "    </tr>\n",
              "    <tr>\n",
              "      <th>3</th>\n",
              "      <td>1</td>\n",
              "      <td>2</td>\n",
              "      <td>3</td>\n",
              "    </tr>\n",
              "  </tbody>\n",
              "</table>\n",
              "</div>"
            ],
            "text/plain": [
              "   Z  Y  X\n",
              "1  7  8  9\n",
              "2  4  5  6\n",
              "3  1  2  3"
            ]
          },
          "metadata": {
            "tags": []
          },
          "execution_count": 19
        }
      ]
    },
    {
      "cell_type": "code",
      "metadata": {
        "id": "-TzexMdauKmG",
        "colab_type": "code",
        "outputId": "183694ef-32ca-4c4a-b436-a3833b9e73c8",
        "colab": {
          "base_uri": "https://localhost:8080/"
        }
      },
      "source": [
        "#fazendo sort pela coluna\n",
        "df.sort_index(inplace = True, axis = 1)\n",
        "df"
      ],
      "execution_count": 0,
      "outputs": [
        {
          "output_type": "execute_result",
          "data": {
            "text/html": [
              "<div>\n",
              "<style scoped>\n",
              "    .dataframe tbody tr th:only-of-type {\n",
              "        vertical-align: middle;\n",
              "    }\n",
              "\n",
              "    .dataframe tbody tr th {\n",
              "        vertical-align: top;\n",
              "    }\n",
              "\n",
              "    .dataframe thead th {\n",
              "        text-align: right;\n",
              "    }\n",
              "</style>\n",
              "<table border=\"1\" class=\"dataframe\">\n",
              "  <thead>\n",
              "    <tr style=\"text-align: right;\">\n",
              "      <th></th>\n",
              "      <th>X</th>\n",
              "      <th>Y</th>\n",
              "      <th>Z</th>\n",
              "    </tr>\n",
              "  </thead>\n",
              "  <tbody>\n",
              "    <tr>\n",
              "      <th>1</th>\n",
              "      <td>9</td>\n",
              "      <td>8</td>\n",
              "      <td>7</td>\n",
              "    </tr>\n",
              "    <tr>\n",
              "      <th>2</th>\n",
              "      <td>6</td>\n",
              "      <td>5</td>\n",
              "      <td>4</td>\n",
              "    </tr>\n",
              "    <tr>\n",
              "      <th>3</th>\n",
              "      <td>3</td>\n",
              "      <td>2</td>\n",
              "      <td>1</td>\n",
              "    </tr>\n",
              "  </tbody>\n",
              "</table>\n",
              "</div>"
            ],
            "text/plain": [
              "   X  Y  Z\n",
              "1  9  8  7\n",
              "2  6  5  4\n",
              "3  3  2  1"
            ]
          },
          "metadata": {
            "tags": []
          },
          "execution_count": 20
        }
      ]
    },
    {
      "cell_type": "code",
      "metadata": {
        "id": "buhjJiRnueyp",
        "colab_type": "code",
        "outputId": "dff31157-7474-4015-eb96-b05197b108aa",
        "colab": {
          "base_uri": "https://localhost:8080/"
        }
      },
      "source": [
        "#Ordenando os elem da coluna X\n",
        "df.sort_values(by = \"X\")"
      ],
      "execution_count": 0,
      "outputs": [
        {
          "output_type": "execute_result",
          "data": {
            "text/html": [
              "<div>\n",
              "<style scoped>\n",
              "    .dataframe tbody tr th:only-of-type {\n",
              "        vertical-align: middle;\n",
              "    }\n",
              "\n",
              "    .dataframe tbody tr th {\n",
              "        vertical-align: top;\n",
              "    }\n",
              "\n",
              "    .dataframe thead th {\n",
              "        text-align: right;\n",
              "    }\n",
              "</style>\n",
              "<table border=\"1\" class=\"dataframe\">\n",
              "  <thead>\n",
              "    <tr style=\"text-align: right;\">\n",
              "      <th></th>\n",
              "      <th>X</th>\n",
              "      <th>Y</th>\n",
              "      <th>Z</th>\n",
              "    </tr>\n",
              "  </thead>\n",
              "  <tbody>\n",
              "    <tr>\n",
              "      <th>3</th>\n",
              "      <td>3</td>\n",
              "      <td>2</td>\n",
              "      <td>1</td>\n",
              "    </tr>\n",
              "    <tr>\n",
              "      <th>2</th>\n",
              "      <td>6</td>\n",
              "      <td>5</td>\n",
              "      <td>4</td>\n",
              "    </tr>\n",
              "    <tr>\n",
              "      <th>1</th>\n",
              "      <td>9</td>\n",
              "      <td>8</td>\n",
              "      <td>7</td>\n",
              "    </tr>\n",
              "  </tbody>\n",
              "</table>\n",
              "</div>"
            ],
            "text/plain": [
              "   X  Y  Z\n",
              "3  3  2  1\n",
              "2  6  5  4\n",
              "1  9  8  7"
            ]
          },
          "metadata": {
            "tags": []
          },
          "execution_count": 21
        }
      ]
    },
    {
      "cell_type": "code",
      "metadata": {
        "id": "IA7AMBLWuwye",
        "colab_type": "code",
        "outputId": "ed17cc02-74c4-4ffd-9792-a27cb033320b",
        "colab": {
          "base_uri": "https://localhost:8080/"
        }
      },
      "source": [
        "#Ordenando os elem de todas as colunas\n",
        "df.sort_values(by = [\"X\", \"Y\", \"Z\"])"
      ],
      "execution_count": 0,
      "outputs": [
        {
          "output_type": "execute_result",
          "data": {
            "text/html": [
              "<div>\n",
              "<style scoped>\n",
              "    .dataframe tbody tr th:only-of-type {\n",
              "        vertical-align: middle;\n",
              "    }\n",
              "\n",
              "    .dataframe tbody tr th {\n",
              "        vertical-align: top;\n",
              "    }\n",
              "\n",
              "    .dataframe thead th {\n",
              "        text-align: right;\n",
              "    }\n",
              "</style>\n",
              "<table border=\"1\" class=\"dataframe\">\n",
              "  <thead>\n",
              "    <tr style=\"text-align: right;\">\n",
              "      <th></th>\n",
              "      <th>X</th>\n",
              "      <th>Y</th>\n",
              "      <th>Z</th>\n",
              "    </tr>\n",
              "  </thead>\n",
              "  <tbody>\n",
              "    <tr>\n",
              "      <th>3</th>\n",
              "      <td>3</td>\n",
              "      <td>2</td>\n",
              "      <td>1</td>\n",
              "    </tr>\n",
              "    <tr>\n",
              "      <th>2</th>\n",
              "      <td>6</td>\n",
              "      <td>5</td>\n",
              "      <td>4</td>\n",
              "    </tr>\n",
              "    <tr>\n",
              "      <th>1</th>\n",
              "      <td>9</td>\n",
              "      <td>8</td>\n",
              "      <td>7</td>\n",
              "    </tr>\n",
              "  </tbody>\n",
              "</table>\n",
              "</div>"
            ],
            "text/plain": [
              "   X  Y  Z\n",
              "3  3  2  1\n",
              "2  6  5  4\n",
              "1  9  8  7"
            ]
          },
          "metadata": {
            "tags": []
          },
          "execution_count": 22
        }
      ]
    },
    {
      "cell_type": "code",
      "metadata": {
        "id": "OR3c6kcrvL4R",
        "colab_type": "code",
        "outputId": "8176face-94ee-4f20-e66a-f3c9d1d0a3f5",
        "colab": {
          "base_uri": "https://localhost:8080/"
        }
      },
      "source": [
        "data = [[\"ary\", \"m\", 21],\n",
        "        ['catia', 'f', 19],\n",
        "        [\"carlos\", 'm', 50],\n",
        "        [\"beto\", \"m\", 29],\n",
        "        [\"bruna\", \"f\", 31],\n",
        "        [\"ana\", \"f\", 42]]\n",
        "df_A = pd.DataFrame(data, list(range(6)), [\"Nome\", \"Sexo\", \"Idade\"])\n",
        "df_A"
      ],
      "execution_count": 0,
      "outputs": [
        {
          "output_type": "execute_result",
          "data": {
            "text/html": [
              "<div>\n",
              "<style scoped>\n",
              "    .dataframe tbody tr th:only-of-type {\n",
              "        vertical-align: middle;\n",
              "    }\n",
              "\n",
              "    .dataframe tbody tr th {\n",
              "        vertical-align: top;\n",
              "    }\n",
              "\n",
              "    .dataframe thead th {\n",
              "        text-align: right;\n",
              "    }\n",
              "</style>\n",
              "<table border=\"1\" class=\"dataframe\">\n",
              "  <thead>\n",
              "    <tr style=\"text-align: right;\">\n",
              "      <th></th>\n",
              "      <th>Nome</th>\n",
              "      <th>Sexo</th>\n",
              "      <th>Idade</th>\n",
              "    </tr>\n",
              "  </thead>\n",
              "  <tbody>\n",
              "    <tr>\n",
              "      <th>0</th>\n",
              "      <td>ary</td>\n",
              "      <td>m</td>\n",
              "      <td>21</td>\n",
              "    </tr>\n",
              "    <tr>\n",
              "      <th>1</th>\n",
              "      <td>catia</td>\n",
              "      <td>f</td>\n",
              "      <td>19</td>\n",
              "    </tr>\n",
              "    <tr>\n",
              "      <th>2</th>\n",
              "      <td>carlos</td>\n",
              "      <td>m</td>\n",
              "      <td>50</td>\n",
              "    </tr>\n",
              "    <tr>\n",
              "      <th>3</th>\n",
              "      <td>beto</td>\n",
              "      <td>m</td>\n",
              "      <td>29</td>\n",
              "    </tr>\n",
              "    <tr>\n",
              "      <th>4</th>\n",
              "      <td>bruna</td>\n",
              "      <td>f</td>\n",
              "      <td>31</td>\n",
              "    </tr>\n",
              "    <tr>\n",
              "      <th>5</th>\n",
              "      <td>ana</td>\n",
              "      <td>f</td>\n",
              "      <td>42</td>\n",
              "    </tr>\n",
              "  </tbody>\n",
              "</table>\n",
              "</div>"
            ],
            "text/plain": [
              "     Nome Sexo  Idade\n",
              "0     ary    m     21\n",
              "1   catia    f     19\n",
              "2  carlos    m     50\n",
              "3    beto    m     29\n",
              "4   bruna    f     31\n",
              "5     ana    f     42"
            ]
          },
          "metadata": {
            "tags": []
          },
          "execution_count": 23
        }
      ]
    },
    {
      "cell_type": "code",
      "metadata": {
        "id": "JRqZxyDJyvSb",
        "colab_type": "code",
        "outputId": "b8d96ec7-d48d-44b1-a79a-f13cd1f99c24",
        "colab": {
          "base_uri": "https://localhost:8080/"
        }
      },
      "source": [
        "df_A.sort_values(by = ['Sexo', 'Nome'])"
      ],
      "execution_count": 0,
      "outputs": [
        {
          "output_type": "execute_result",
          "data": {
            "text/html": [
              "<div>\n",
              "<style scoped>\n",
              "    .dataframe tbody tr th:only-of-type {\n",
              "        vertical-align: middle;\n",
              "    }\n",
              "\n",
              "    .dataframe tbody tr th {\n",
              "        vertical-align: top;\n",
              "    }\n",
              "\n",
              "    .dataframe thead th {\n",
              "        text-align: right;\n",
              "    }\n",
              "</style>\n",
              "<table border=\"1\" class=\"dataframe\">\n",
              "  <thead>\n",
              "    <tr style=\"text-align: right;\">\n",
              "      <th></th>\n",
              "      <th>Nome</th>\n",
              "      <th>Sexo</th>\n",
              "      <th>Idade</th>\n",
              "    </tr>\n",
              "  </thead>\n",
              "  <tbody>\n",
              "    <tr>\n",
              "      <th>5</th>\n",
              "      <td>ana</td>\n",
              "      <td>f</td>\n",
              "      <td>42</td>\n",
              "    </tr>\n",
              "    <tr>\n",
              "      <th>4</th>\n",
              "      <td>bruna</td>\n",
              "      <td>f</td>\n",
              "      <td>31</td>\n",
              "    </tr>\n",
              "    <tr>\n",
              "      <th>1</th>\n",
              "      <td>catia</td>\n",
              "      <td>f</td>\n",
              "      <td>19</td>\n",
              "    </tr>\n",
              "    <tr>\n",
              "      <th>0</th>\n",
              "      <td>ary</td>\n",
              "      <td>m</td>\n",
              "      <td>21</td>\n",
              "    </tr>\n",
              "    <tr>\n",
              "      <th>3</th>\n",
              "      <td>beto</td>\n",
              "      <td>m</td>\n",
              "      <td>29</td>\n",
              "    </tr>\n",
              "    <tr>\n",
              "      <th>2</th>\n",
              "      <td>carlos</td>\n",
              "      <td>m</td>\n",
              "      <td>50</td>\n",
              "    </tr>\n",
              "  </tbody>\n",
              "</table>\n",
              "</div>"
            ],
            "text/plain": [
              "     Nome Sexo  Idade\n",
              "5     ana    f     42\n",
              "4   bruna    f     31\n",
              "1   catia    f     19\n",
              "0     ary    m     21\n",
              "3    beto    m     29\n",
              "2  carlos    m     50"
            ]
          },
          "metadata": {
            "tags": []
          },
          "execution_count": 24
        }
      ]
    },
    {
      "cell_type": "code",
      "metadata": {
        "id": "qJjuGGS5zS7i",
        "colab_type": "code",
        "colab": {}
      },
      "source": [
        ""
      ],
      "execution_count": 0,
      "outputs": []
    },
    {
      "cell_type": "markdown",
      "metadata": {
        "id": "ZgJEbMqGwRoC",
        "colab_type": "text"
      },
      "source": [
        "# Formas de selecao"
      ]
    },
    {
      "cell_type": "code",
      "metadata": {
        "id": "OaGIA9-swYxE",
        "colab_type": "code",
        "outputId": "b4263368-d686-4804-a658-0936c7708fd1",
        "colab": {
          "base_uri": "https://localhost:8080/"
        }
      },
      "source": [
        "data = [(1,2,3,4),\n",
        "        (5,6,7,8),\n",
        "        (9,10,11,12),\n",
        "        (13,14,15,16)]\n",
        "df = pd.DataFrame(data, 'L1,L2,L3,L4'.split(','), 'C1,C2,C3,C4'.split(','))\n",
        "df"
      ],
      "execution_count": 0,
      "outputs": [
        {
          "output_type": "execute_result",
          "data": {
            "text/html": [
              "<div>\n",
              "<style scoped>\n",
              "    .dataframe tbody tr th:only-of-type {\n",
              "        vertical-align: middle;\n",
              "    }\n",
              "\n",
              "    .dataframe tbody tr th {\n",
              "        vertical-align: top;\n",
              "    }\n",
              "\n",
              "    .dataframe thead th {\n",
              "        text-align: right;\n",
              "    }\n",
              "</style>\n",
              "<table border=\"1\" class=\"dataframe\">\n",
              "  <thead>\n",
              "    <tr style=\"text-align: right;\">\n",
              "      <th></th>\n",
              "      <th>C1</th>\n",
              "      <th>C2</th>\n",
              "      <th>C3</th>\n",
              "      <th>C4</th>\n",
              "    </tr>\n",
              "  </thead>\n",
              "  <tbody>\n",
              "    <tr>\n",
              "      <th>L1</th>\n",
              "      <td>1</td>\n",
              "      <td>2</td>\n",
              "      <td>3</td>\n",
              "      <td>4</td>\n",
              "    </tr>\n",
              "    <tr>\n",
              "      <th>L2</th>\n",
              "      <td>5</td>\n",
              "      <td>6</td>\n",
              "      <td>7</td>\n",
              "      <td>8</td>\n",
              "    </tr>\n",
              "    <tr>\n",
              "      <th>L3</th>\n",
              "      <td>9</td>\n",
              "      <td>10</td>\n",
              "      <td>11</td>\n",
              "      <td>12</td>\n",
              "    </tr>\n",
              "    <tr>\n",
              "      <th>L4</th>\n",
              "      <td>13</td>\n",
              "      <td>14</td>\n",
              "      <td>15</td>\n",
              "      <td>16</td>\n",
              "    </tr>\n",
              "  </tbody>\n",
              "</table>\n",
              "</div>"
            ],
            "text/plain": [
              "    C1  C2  C3  C4\n",
              "L1   1   2   3   4\n",
              "L2   5   6   7   8\n",
              "L3   9  10  11  12\n",
              "L4  13  14  15  16"
            ]
          },
          "metadata": {
            "tags": []
          },
          "execution_count": 25
        }
      ]
    },
    {
      "cell_type": "code",
      "metadata": {
        "id": "lUJv8NE0w_0E",
        "colab_type": "code",
        "outputId": "3ac428c7-77f3-4609-d224-f245ebfb1da5",
        "colab": {
          "base_uri": "https://localhost:8080/"
        }
      },
      "source": [
        "#Passando so a coluna\n",
        "df['C1']"
      ],
      "execution_count": 0,
      "outputs": [
        {
          "output_type": "execute_result",
          "data": {
            "text/plain": [
              "L1     1\n",
              "L2     5\n",
              "L3     9\n",
              "L4    13\n",
              "Name: C1, dtype: int64"
            ]
          },
          "metadata": {
            "tags": []
          },
          "execution_count": 26
        }
      ]
    },
    {
      "cell_type": "code",
      "metadata": {
        "id": "sHMp2N87xLeF",
        "colab_type": "code",
        "outputId": "5e19f170-0d75-4974-931d-734252ef262b",
        "colab": {
          "base_uri": "https://localhost:8080/"
        }
      },
      "source": [
        "#Passando o range dos indices das linhas (neste exemplo estou pegando do indice 1 pra frente)\n",
        "df[1:]"
      ],
      "execution_count": 0,
      "outputs": [
        {
          "output_type": "execute_result",
          "data": {
            "text/html": [
              "<div>\n",
              "<style scoped>\n",
              "    .dataframe tbody tr th:only-of-type {\n",
              "        vertical-align: middle;\n",
              "    }\n",
              "\n",
              "    .dataframe tbody tr th {\n",
              "        vertical-align: top;\n",
              "    }\n",
              "\n",
              "    .dataframe thead th {\n",
              "        text-align: right;\n",
              "    }\n",
              "</style>\n",
              "<table border=\"1\" class=\"dataframe\">\n",
              "  <thead>\n",
              "    <tr style=\"text-align: right;\">\n",
              "      <th></th>\n",
              "      <th>C1</th>\n",
              "      <th>C2</th>\n",
              "      <th>C3</th>\n",
              "      <th>C4</th>\n",
              "    </tr>\n",
              "  </thead>\n",
              "  <tbody>\n",
              "    <tr>\n",
              "      <th>L2</th>\n",
              "      <td>5</td>\n",
              "      <td>6</td>\n",
              "      <td>7</td>\n",
              "      <td>8</td>\n",
              "    </tr>\n",
              "    <tr>\n",
              "      <th>L3</th>\n",
              "      <td>9</td>\n",
              "      <td>10</td>\n",
              "      <td>11</td>\n",
              "      <td>12</td>\n",
              "    </tr>\n",
              "    <tr>\n",
              "      <th>L4</th>\n",
              "      <td>13</td>\n",
              "      <td>14</td>\n",
              "      <td>15</td>\n",
              "      <td>16</td>\n",
              "    </tr>\n",
              "  </tbody>\n",
              "</table>\n",
              "</div>"
            ],
            "text/plain": [
              "    C1  C2  C3  C4\n",
              "L2   5   6   7   8\n",
              "L3   9  10  11  12\n",
              "L4  13  14  15  16"
            ]
          },
          "metadata": {
            "tags": []
          },
          "execution_count": 27
        }
      ]
    },
    {
      "cell_type": "code",
      "metadata": {
        "id": "SwDwQy35xuWI",
        "colab_type": "code",
        "outputId": "4785f198-ae83-4edb-ecce-e85a246f6c3e",
        "colab": {
          "base_uri": "https://localhost:8080/"
        }
      },
      "source": [
        "#loc pega as linhas pelo rotulo\n",
        "df.loc['L4']"
      ],
      "execution_count": 0,
      "outputs": [
        {
          "output_type": "execute_result",
          "data": {
            "text/plain": [
              "C1    13\n",
              "C2    14\n",
              "C3    15\n",
              "C4    16\n",
              "Name: L4, dtype: int64"
            ]
          },
          "metadata": {
            "tags": []
          },
          "execution_count": 28
        }
      ]
    },
    {
      "cell_type": "code",
      "metadata": {
        "id": "qenpb5hGx_EV",
        "colab_type": "code",
        "outputId": "4480a14a-ef62-4561-e103-e2281704e367",
        "colab": {
          "base_uri": "https://localhost:8080/"
        }
      },
      "source": [
        "df.loc[['L1', 'L4']]"
      ],
      "execution_count": 0,
      "outputs": [
        {
          "output_type": "execute_result",
          "data": {
            "text/html": [
              "<div>\n",
              "<style scoped>\n",
              "    .dataframe tbody tr th:only-of-type {\n",
              "        vertical-align: middle;\n",
              "    }\n",
              "\n",
              "    .dataframe tbody tr th {\n",
              "        vertical-align: top;\n",
              "    }\n",
              "\n",
              "    .dataframe thead th {\n",
              "        text-align: right;\n",
              "    }\n",
              "</style>\n",
              "<table border=\"1\" class=\"dataframe\">\n",
              "  <thead>\n",
              "    <tr style=\"text-align: right;\">\n",
              "      <th></th>\n",
              "      <th>C1</th>\n",
              "      <th>C2</th>\n",
              "      <th>C3</th>\n",
              "      <th>C4</th>\n",
              "    </tr>\n",
              "  </thead>\n",
              "  <tbody>\n",
              "    <tr>\n",
              "      <th>L1</th>\n",
              "      <td>1</td>\n",
              "      <td>2</td>\n",
              "      <td>3</td>\n",
              "      <td>4</td>\n",
              "    </tr>\n",
              "    <tr>\n",
              "      <th>L4</th>\n",
              "      <td>13</td>\n",
              "      <td>14</td>\n",
              "      <td>15</td>\n",
              "      <td>16</td>\n",
              "    </tr>\n",
              "  </tbody>\n",
              "</table>\n",
              "</div>"
            ],
            "text/plain": [
              "    C1  C2  C3  C4\n",
              "L1   1   2   3   4\n",
              "L4  13  14  15  16"
            ]
          },
          "metadata": {
            "tags": []
          },
          "execution_count": 29
        }
      ]
    },
    {
      "cell_type": "code",
      "metadata": {
        "id": "G5VVXKrzyIjt",
        "colab_type": "code",
        "outputId": "0adbace0-4472-464e-a03a-5410d0b2ecd0",
        "colab": {
          "base_uri": "https://localhost:8080/"
        }
      },
      "source": [
        "#Eu acho o valor que ta naquela linha naquela coluna, estilo matriz (batalha naval)\n",
        "df.loc['L1', 'C2']"
      ],
      "execution_count": 0,
      "outputs": [
        {
          "output_type": "execute_result",
          "data": {
            "text/plain": [
              "2"
            ]
          },
          "metadata": {
            "tags": []
          },
          "execution_count": 30
        }
      ]
    },
    {
      "cell_type": "code",
      "metadata": {
        "id": "KVmgTHVfyVct",
        "colab_type": "code",
        "outputId": "654af686-a636-4d33-edbe-cb32ca8a5089",
        "colab": {
          "base_uri": "https://localhost:8080/"
        }
      },
      "source": [
        "#Pega pelos indices\n",
        "df.iloc[0]"
      ],
      "execution_count": 0,
      "outputs": [
        {
          "output_type": "execute_result",
          "data": {
            "text/plain": [
              "C1    1\n",
              "C2    2\n",
              "C3    3\n",
              "C4    4\n",
              "Name: L1, dtype: int64"
            ]
          },
          "metadata": {
            "tags": []
          },
          "execution_count": 31
        }
      ]
    },
    {
      "cell_type": "code",
      "metadata": {
        "id": "RaalU7EEyism",
        "colab_type": "code",
        "outputId": "43cc30ca-68c4-4e16-cec6-5bb945fe7c57",
        "colab": {
          "base_uri": "https://localhost:8080/"
        }
      },
      "source": [
        "#Linha indice 0, coluna indice 3\n",
        "df.iloc[0, 3]"
      ],
      "execution_count": 0,
      "outputs": [
        {
          "output_type": "execute_result",
          "data": {
            "text/plain": [
              "4"
            ]
          },
          "metadata": {
            "tags": []
          },
          "execution_count": 32
        }
      ]
    },
    {
      "cell_type": "code",
      "metadata": {
        "id": "7WqabAp4ytL9",
        "colab_type": "code",
        "outputId": "2111614d-7653-4969-be91-589bc2be05fc",
        "colab": {
          "base_uri": "https://localhost:8080/"
        }
      },
      "source": [
        "#Construindo data frame so com loc\n",
        "df.loc[['L2', 'L1'], ['C4', 'C1']]"
      ],
      "execution_count": 0,
      "outputs": [
        {
          "output_type": "execute_result",
          "data": {
            "text/html": [
              "<div>\n",
              "<style scoped>\n",
              "    .dataframe tbody tr th:only-of-type {\n",
              "        vertical-align: middle;\n",
              "    }\n",
              "\n",
              "    .dataframe tbody tr th {\n",
              "        vertical-align: top;\n",
              "    }\n",
              "\n",
              "    .dataframe thead th {\n",
              "        text-align: right;\n",
              "    }\n",
              "</style>\n",
              "<table border=\"1\" class=\"dataframe\">\n",
              "  <thead>\n",
              "    <tr style=\"text-align: right;\">\n",
              "      <th></th>\n",
              "      <th>C4</th>\n",
              "      <th>C1</th>\n",
              "    </tr>\n",
              "  </thead>\n",
              "  <tbody>\n",
              "    <tr>\n",
              "      <th>L2</th>\n",
              "      <td>8</td>\n",
              "      <td>5</td>\n",
              "    </tr>\n",
              "    <tr>\n",
              "      <th>L1</th>\n",
              "      <td>4</td>\n",
              "      <td>1</td>\n",
              "    </tr>\n",
              "  </tbody>\n",
              "</table>\n",
              "</div>"
            ],
            "text/plain": [
              "    C4  C1\n",
              "L2   8   5\n",
              "L1   4   1"
            ]
          },
          "metadata": {
            "tags": []
          },
          "execution_count": 33
        }
      ]
    },
    {
      "cell_type": "markdown",
      "metadata": {
        "id": "jHHjazvj7AZ8",
        "colab_type": "text"
      },
      "source": [
        "# Metodos de Interpolação"
      ]
    },
    {
      "cell_type": "code",
      "metadata": {
        "id": "QQdDl1-szD1N",
        "colab_type": "code",
        "outputId": "8a72af72-f2cb-4457-b983-6e2f82709eba",
        "colab": {
          "base_uri": "https://localhost:8080/"
        }
      },
      "source": [
        "data = [0.5, None, None, 0.52, 0.54, None, None, 0.59, 0.6, None, 0.7]\n",
        "data = pd.Series(data)\n",
        "data"
      ],
      "execution_count": 0,
      "outputs": [
        {
          "output_type": "execute_result",
          "data": {
            "text/plain": [
              "0     0.50\n",
              "1      NaN\n",
              "2      NaN\n",
              "3     0.52\n",
              "4     0.54\n",
              "5      NaN\n",
              "6      NaN\n",
              "7     0.59\n",
              "8     0.60\n",
              "9      NaN\n",
              "10    0.70\n",
              "dtype: float64"
            ]
          },
          "metadata": {
            "tags": []
          },
          "execution_count": 34
        }
      ]
    },
    {
      "cell_type": "code",
      "metadata": {
        "id": "KeatWOJw7ZtA",
        "colab_type": "code",
        "outputId": "8faf74b3-2f98-4a29-98b8-0c79499427b9",
        "colab": {
          "base_uri": "https://localhost:8080/"
        }
      },
      "source": [
        "data.fillna(0)"
      ],
      "execution_count": 0,
      "outputs": [
        {
          "output_type": "execute_result",
          "data": {
            "text/plain": [
              "0     0.50\n",
              "1     0.00\n",
              "2     0.00\n",
              "3     0.52\n",
              "4     0.54\n",
              "5     0.00\n",
              "6     0.00\n",
              "7     0.59\n",
              "8     0.60\n",
              "9     0.00\n",
              "10    0.70\n",
              "dtype: float64"
            ]
          },
          "metadata": {
            "tags": []
          },
          "execution_count": 35
        }
      ]
    },
    {
      "cell_type": "code",
      "metadata": {
        "id": "_zCfLB-s7em1",
        "colab_type": "code",
        "outputId": "326c9288-8d2c-4de6-e420-88e5f662a95e",
        "colab": {
          "base_uri": "https://localhost:8080/"
        }
      },
      "source": [
        "#Pega o anterior e joga no nan\n",
        "data.fillna(method = 'ffill')"
      ],
      "execution_count": 0,
      "outputs": [
        {
          "output_type": "execute_result",
          "data": {
            "text/plain": [
              "0     0.50\n",
              "1     0.50\n",
              "2     0.50\n",
              "3     0.52\n",
              "4     0.54\n",
              "5     0.54\n",
              "6     0.54\n",
              "7     0.59\n",
              "8     0.60\n",
              "9     0.60\n",
              "10    0.70\n",
              "dtype: float64"
            ]
          },
          "metadata": {
            "tags": []
          },
          "execution_count": 36
        }
      ]
    },
    {
      "cell_type": "code",
      "metadata": {
        "id": "5Hd_ujWy7lW1",
        "colab_type": "code",
        "outputId": "aa7c6f3d-43ba-497a-b5d4-0ab8f4a294cc",
        "colab": {
          "base_uri": "https://localhost:8080/"
        }
      },
      "source": [
        "#Faz o oposto\n",
        "data.fillna(method='bfill')"
      ],
      "execution_count": 0,
      "outputs": [
        {
          "output_type": "execute_result",
          "data": {
            "text/plain": [
              "0     0.50\n",
              "1     0.52\n",
              "2     0.52\n",
              "3     0.52\n",
              "4     0.54\n",
              "5     0.59\n",
              "6     0.59\n",
              "7     0.59\n",
              "8     0.60\n",
              "9     0.70\n",
              "10    0.70\n",
              "dtype: float64"
            ]
          },
          "metadata": {
            "tags": []
          },
          "execution_count": 37
        }
      ]
    },
    {
      "cell_type": "code",
      "metadata": {
        "id": "GtyusKlh747b",
        "colab_type": "code",
        "outputId": "a1830575-6c85-4418-ba5b-60cdca6494a1",
        "colab": {
          "base_uri": "https://localhost:8080/"
        }
      },
      "source": [
        "#Preenche com media\n",
        "data.fillna(data.mean())"
      ],
      "execution_count": 0,
      "outputs": [
        {
          "output_type": "execute_result",
          "data": {
            "text/plain": [
              "0     0.500\n",
              "1     0.575\n",
              "2     0.575\n",
              "3     0.520\n",
              "4     0.540\n",
              "5     0.575\n",
              "6     0.575\n",
              "7     0.590\n",
              "8     0.600\n",
              "9     0.575\n",
              "10    0.700\n",
              "dtype: float64"
            ]
          },
          "metadata": {
            "tags": []
          },
          "execution_count": 38
        }
      ]
    },
    {
      "cell_type": "markdown",
      "metadata": {
        "id": "vqhOxz-bohM8",
        "colab_type": "text"
      },
      "source": [
        "# Contadores"
      ]
    },
    {
      "cell_type": "code",
      "metadata": {
        "id": "l8kOuwrZ8DdL",
        "colab_type": "code",
        "outputId": "ab59c962-3514-46f9-c70e-038ea542bad4",
        "colab": {
          "base_uri": "https://localhost:8080/",
          "height": 442
        }
      },
      "source": [
        "data = pd.Series(list('dkajwdalfcanflewdfawkxca'))\n",
        "data"
      ],
      "execution_count": 0,
      "outputs": [
        {
          "output_type": "execute_result",
          "data": {
            "text/plain": [
              "0     d\n",
              "1     k\n",
              "2     a\n",
              "3     j\n",
              "4     w\n",
              "5     d\n",
              "6     a\n",
              "7     l\n",
              "8     f\n",
              "9     c\n",
              "10    a\n",
              "11    n\n",
              "12    f\n",
              "13    l\n",
              "14    e\n",
              "15    w\n",
              "16    d\n",
              "17    f\n",
              "18    a\n",
              "19    w\n",
              "20    k\n",
              "21    x\n",
              "22    c\n",
              "23    a\n",
              "dtype: object"
            ]
          },
          "metadata": {
            "tags": []
          },
          "execution_count": 39
        }
      ]
    },
    {
      "cell_type": "code",
      "metadata": {
        "id": "9P3meZEEovXb",
        "colab_type": "code",
        "outputId": "c53bbb86-d6a5-489c-95f4-2ac5e28dce55",
        "colab": {
          "base_uri": "https://localhost:8080/",
          "height": 51
        }
      },
      "source": [
        "data.unique()"
      ],
      "execution_count": 0,
      "outputs": [
        {
          "output_type": "execute_result",
          "data": {
            "text/plain": [
              "array(['d', 'k', 'a', 'j', 'w', 'l', 'f', 'c', 'n', 'e', 'x'],\n",
              "      dtype=object)"
            ]
          },
          "metadata": {
            "tags": []
          },
          "execution_count": 40
        }
      ]
    },
    {
      "cell_type": "code",
      "metadata": {
        "id": "leiHxEKpo1UE",
        "colab_type": "code",
        "outputId": "e4cba9ff-76e4-46d6-d688-c3c216118d97",
        "colab": {
          "base_uri": "https://localhost:8080/",
          "height": 221
        }
      },
      "source": [
        "data.value_counts()"
      ],
      "execution_count": 0,
      "outputs": [
        {
          "output_type": "execute_result",
          "data": {
            "text/plain": [
              "a    5\n",
              "d    3\n",
              "f    3\n",
              "w    3\n",
              "l    2\n",
              "c    2\n",
              "k    2\n",
              "j    1\n",
              "n    1\n",
              "e    1\n",
              "x    1\n",
              "dtype: int64"
            ]
          },
          "metadata": {
            "tags": []
          },
          "execution_count": 41
        }
      ]
    },
    {
      "cell_type": "code",
      "metadata": {
        "id": "kC1gAwrro5n1",
        "colab_type": "code",
        "colab": {}
      },
      "source": [
        ""
      ],
      "execution_count": 0,
      "outputs": []
    },
    {
      "cell_type": "markdown",
      "metadata": {
        "id": "U8whbgd1a6YY",
        "colab_type": "text"
      },
      "source": [
        "# Criando faixas de valores"
      ]
    },
    {
      "cell_type": "code",
      "metadata": {
        "id": "La1z3fCza8w0",
        "colab_type": "code",
        "outputId": "7b6b8cb5-aae1-47e9-c52c-9340c826fd1f",
        "colab": {
          "base_uri": "https://localhost:8080/",
          "height": 204
        }
      },
      "source": [
        "dados_aluguel_json.head()"
      ],
      "execution_count": 0,
      "outputs": [
        {
          "output_type": "execute_result",
          "data": {
            "text/html": [
              "<div>\n",
              "<style scoped>\n",
              "    .dataframe tbody tr th:only-of-type {\n",
              "        vertical-align: middle;\n",
              "    }\n",
              "\n",
              "    .dataframe tbody tr th {\n",
              "        vertical-align: top;\n",
              "    }\n",
              "\n",
              "    .dataframe thead th {\n",
              "        text-align: right;\n",
              "    }\n",
              "</style>\n",
              "<table border=\"1\" class=\"dataframe\">\n",
              "  <thead>\n",
              "    <tr style=\"text-align: right;\">\n",
              "      <th></th>\n",
              "      <th>Tipo</th>\n",
              "      <th>Bairro</th>\n",
              "      <th>Quartos</th>\n",
              "      <th>Vagas</th>\n",
              "      <th>Suites</th>\n",
              "      <th>Area</th>\n",
              "      <th>Valor</th>\n",
              "      <th>Condominio</th>\n",
              "      <th>IPTU</th>\n",
              "    </tr>\n",
              "  </thead>\n",
              "  <tbody>\n",
              "    <tr>\n",
              "      <th>0</th>\n",
              "      <td>Quitinete</td>\n",
              "      <td>Copacabana</td>\n",
              "      <td>1</td>\n",
              "      <td>0</td>\n",
              "      <td>0</td>\n",
              "      <td>40</td>\n",
              "      <td>1700</td>\n",
              "      <td>500.0</td>\n",
              "      <td>60.0</td>\n",
              "    </tr>\n",
              "    <tr>\n",
              "      <th>1</th>\n",
              "      <td>Casa</td>\n",
              "      <td>Jardim Botânico</td>\n",
              "      <td>2</td>\n",
              "      <td>0</td>\n",
              "      <td>1</td>\n",
              "      <td>100</td>\n",
              "      <td>7000</td>\n",
              "      <td>NaN</td>\n",
              "      <td>NaN</td>\n",
              "    </tr>\n",
              "    <tr>\n",
              "      <th>2</th>\n",
              "      <td>Conjunto Comercial/Sala</td>\n",
              "      <td>Barra da Tijuca</td>\n",
              "      <td>0</td>\n",
              "      <td>4</td>\n",
              "      <td>0</td>\n",
              "      <td>150</td>\n",
              "      <td>5200</td>\n",
              "      <td>4020.0</td>\n",
              "      <td>1111.0</td>\n",
              "    </tr>\n",
              "    <tr>\n",
              "      <th>3</th>\n",
              "      <td>Apartamento</td>\n",
              "      <td>Centro</td>\n",
              "      <td>1</td>\n",
              "      <td>0</td>\n",
              "      <td>0</td>\n",
              "      <td>15</td>\n",
              "      <td>800</td>\n",
              "      <td>390.0</td>\n",
              "      <td>20.0</td>\n",
              "    </tr>\n",
              "    <tr>\n",
              "      <th>4</th>\n",
              "      <td>Apartamento</td>\n",
              "      <td>Higienópolis</td>\n",
              "      <td>1</td>\n",
              "      <td>0</td>\n",
              "      <td>0</td>\n",
              "      <td>48</td>\n",
              "      <td>800</td>\n",
              "      <td>230.0</td>\n",
              "      <td>NaN</td>\n",
              "    </tr>\n",
              "  </tbody>\n",
              "</table>\n",
              "</div>"
            ],
            "text/plain": [
              "                      Tipo           Bairro  Quartos  ...  Valor  Condominio    IPTU\n",
              "0                Quitinete       Copacabana        1  ...   1700       500.0    60.0\n",
              "1                     Casa  Jardim Botânico        2  ...   7000         NaN     NaN\n",
              "2  Conjunto Comercial/Sala  Barra da Tijuca        0  ...   5200      4020.0  1111.0\n",
              "3              Apartamento           Centro        1  ...    800       390.0    20.0\n",
              "4              Apartamento     Higienópolis        1  ...    800       230.0     NaN\n",
              "\n",
              "[5 rows x 9 columns]"
            ]
          },
          "metadata": {
            "tags": []
          },
          "execution_count": 42
        }
      ]
    },
    {
      "cell_type": "code",
      "metadata": {
        "id": "EH9d83btbWrO",
        "colab_type": "code",
        "colab": {}
      },
      "source": [
        "#Classes com quartos de 1 |- 2\n",
        "# 3 |- 4\n",
        "# 5 |- 6\n",
        "# 7 ou mais\n",
        "\n",
        "classes = [0, 2, 4, 6, 100]\n",
        "quartos = pd.cut(dados_aluguel_json.Quartos, classes)"
      ],
      "execution_count": 0,
      "outputs": []
    },
    {
      "cell_type": "code",
      "metadata": {
        "id": "rRTN17yGcEgI",
        "colab_type": "code",
        "outputId": "7d8c6291-1be3-42f3-f832-ad13763a8ee7",
        "colab": {
          "base_uri": "https://localhost:8080/",
          "height": 221
        }
      },
      "source": [
        "quartos"
      ],
      "execution_count": 0,
      "outputs": [
        {
          "output_type": "execute_result",
          "data": {
            "text/plain": [
              "0    (0.0, 2.0]\n",
              "1    (0.0, 2.0]\n",
              "2           NaN\n",
              "3    (0.0, 2.0]\n",
              "4    (0.0, 2.0]\n",
              "5    (2.0, 4.0]\n",
              "6    (0.0, 2.0]\n",
              "7    (4.0, 6.0]\n",
              "8    (0.0, 2.0]\n",
              "9           NaN\n",
              "Name: Quartos, dtype: category\n",
              "Categories (4, interval[int64]): [(0, 2] < (2, 4] < (4, 6] < (6, 100]]"
            ]
          },
          "metadata": {
            "tags": []
          },
          "execution_count": 44
        }
      ]
    },
    {
      "cell_type": "code",
      "metadata": {
        "id": "EbqR0_BIcHDk",
        "colab_type": "code",
        "outputId": "506c635b-cbf0-45d1-b39e-10528cfcd1da",
        "colab": {
          "base_uri": "https://localhost:8080/",
          "height": 102
        }
      },
      "source": [
        "pd.value_counts(quartos)"
      ],
      "execution_count": 0,
      "outputs": [
        {
          "output_type": "execute_result",
          "data": {
            "text/plain": [
              "(0, 2]      6\n",
              "(4, 6]      1\n",
              "(2, 4]      1\n",
              "(6, 100]    0\n",
              "Name: Quartos, dtype: int64"
            ]
          },
          "metadata": {
            "tags": []
          },
          "execution_count": 45
        }
      ]
    },
    {
      "cell_type": "code",
      "metadata": {
        "id": "tXyRfqZrciwc",
        "colab_type": "code",
        "outputId": "8c5bb1c3-e75e-4c14-934d-4b089a37eb52",
        "colab": {
          "base_uri": "https://localhost:8080/",
          "height": 102
        }
      },
      "source": [
        "labels = ['1 e 2 quartos', '3 e 4 quartos', '5 e 6 quartos', '7 quartos acima']\n",
        "quartos = pd.cut(dados_aluguel_json.Quartos, classes, labels = labels, include_lowest=True)\n",
        "pd.value_counts(quartos)"
      ],
      "execution_count": 0,
      "outputs": [
        {
          "output_type": "execute_result",
          "data": {
            "text/plain": [
              "1 e 2 quartos      8\n",
              "5 e 6 quartos      1\n",
              "3 e 4 quartos      1\n",
              "7 quartos acima    0\n",
              "Name: Quartos, dtype: int64"
            ]
          },
          "metadata": {
            "tags": []
          },
          "execution_count": 46
        }
      ]
    },
    {
      "cell_type": "code",
      "metadata": {
        "id": "beKqDyPQdHZ1",
        "colab_type": "code",
        "colab": {}
      },
      "source": [
        ""
      ],
      "execution_count": 0,
      "outputs": []
    },
    {
      "cell_type": "markdown",
      "metadata": {
        "id": "wLuFRFFfn1dT",
        "colab_type": "text"
      },
      "source": [
        "# Mais Gráficos"
      ]
    },
    {
      "cell_type": "code",
      "metadata": {
        "id": "U0fcoVaZn4FH",
        "colab_type": "code",
        "outputId": "8a7b21ab-0124-4708-d58b-39cda7c99b5d",
        "colab": {
          "base_uri": "https://localhost:8080/",
          "height": 359
        }
      },
      "source": [
        "import matplotlib.pyplot as plt\n",
        "\n",
        "dados_aluguel_json"
      ],
      "execution_count": 0,
      "outputs": [
        {
          "output_type": "execute_result",
          "data": {
            "text/html": [
              "<div>\n",
              "<style scoped>\n",
              "    .dataframe tbody tr th:only-of-type {\n",
              "        vertical-align: middle;\n",
              "    }\n",
              "\n",
              "    .dataframe tbody tr th {\n",
              "        vertical-align: top;\n",
              "    }\n",
              "\n",
              "    .dataframe thead th {\n",
              "        text-align: right;\n",
              "    }\n",
              "</style>\n",
              "<table border=\"1\" class=\"dataframe\">\n",
              "  <thead>\n",
              "    <tr style=\"text-align: right;\">\n",
              "      <th></th>\n",
              "      <th>Tipo</th>\n",
              "      <th>Bairro</th>\n",
              "      <th>Quartos</th>\n",
              "      <th>Vagas</th>\n",
              "      <th>Suites</th>\n",
              "      <th>Area</th>\n",
              "      <th>Valor</th>\n",
              "      <th>Condominio</th>\n",
              "      <th>IPTU</th>\n",
              "    </tr>\n",
              "  </thead>\n",
              "  <tbody>\n",
              "    <tr>\n",
              "      <th>0</th>\n",
              "      <td>Quitinete</td>\n",
              "      <td>Copacabana</td>\n",
              "      <td>1</td>\n",
              "      <td>0</td>\n",
              "      <td>0</td>\n",
              "      <td>40</td>\n",
              "      <td>1700</td>\n",
              "      <td>500.0</td>\n",
              "      <td>60.0</td>\n",
              "    </tr>\n",
              "    <tr>\n",
              "      <th>1</th>\n",
              "      <td>Casa</td>\n",
              "      <td>Jardim Botânico</td>\n",
              "      <td>2</td>\n",
              "      <td>0</td>\n",
              "      <td>1</td>\n",
              "      <td>100</td>\n",
              "      <td>7000</td>\n",
              "      <td>NaN</td>\n",
              "      <td>NaN</td>\n",
              "    </tr>\n",
              "    <tr>\n",
              "      <th>2</th>\n",
              "      <td>Conjunto Comercial/Sala</td>\n",
              "      <td>Barra da Tijuca</td>\n",
              "      <td>0</td>\n",
              "      <td>4</td>\n",
              "      <td>0</td>\n",
              "      <td>150</td>\n",
              "      <td>5200</td>\n",
              "      <td>4020.0</td>\n",
              "      <td>1111.0</td>\n",
              "    </tr>\n",
              "    <tr>\n",
              "      <th>3</th>\n",
              "      <td>Apartamento</td>\n",
              "      <td>Centro</td>\n",
              "      <td>1</td>\n",
              "      <td>0</td>\n",
              "      <td>0</td>\n",
              "      <td>15</td>\n",
              "      <td>800</td>\n",
              "      <td>390.0</td>\n",
              "      <td>20.0</td>\n",
              "    </tr>\n",
              "    <tr>\n",
              "      <th>4</th>\n",
              "      <td>Apartamento</td>\n",
              "      <td>Higienópolis</td>\n",
              "      <td>1</td>\n",
              "      <td>0</td>\n",
              "      <td>0</td>\n",
              "      <td>48</td>\n",
              "      <td>800</td>\n",
              "      <td>230.0</td>\n",
              "      <td>NaN</td>\n",
              "    </tr>\n",
              "    <tr>\n",
              "      <th>5</th>\n",
              "      <td>Apartamento</td>\n",
              "      <td>Vista Alegre</td>\n",
              "      <td>3</td>\n",
              "      <td>1</td>\n",
              "      <td>0</td>\n",
              "      <td>70</td>\n",
              "      <td>1200</td>\n",
              "      <td>NaN</td>\n",
              "      <td>NaN</td>\n",
              "    </tr>\n",
              "    <tr>\n",
              "      <th>6</th>\n",
              "      <td>Apartamento</td>\n",
              "      <td>Cachambi</td>\n",
              "      <td>2</td>\n",
              "      <td>0</td>\n",
              "      <td>0</td>\n",
              "      <td>50</td>\n",
              "      <td>1300</td>\n",
              "      <td>301.0</td>\n",
              "      <td>17.0</td>\n",
              "    </tr>\n",
              "    <tr>\n",
              "      <th>7</th>\n",
              "      <td>Casa de Condomínio</td>\n",
              "      <td>Barra da Tijuca</td>\n",
              "      <td>5</td>\n",
              "      <td>4</td>\n",
              "      <td>5</td>\n",
              "      <td>750</td>\n",
              "      <td>22000</td>\n",
              "      <td>NaN</td>\n",
              "      <td>NaN</td>\n",
              "    </tr>\n",
              "    <tr>\n",
              "      <th>8</th>\n",
              "      <td>Casa de Condomínio</td>\n",
              "      <td>Ramos</td>\n",
              "      <td>2</td>\n",
              "      <td>2</td>\n",
              "      <td>0</td>\n",
              "      <td>65</td>\n",
              "      <td>1000</td>\n",
              "      <td>NaN</td>\n",
              "      <td>NaN</td>\n",
              "    </tr>\n",
              "    <tr>\n",
              "      <th>9</th>\n",
              "      <td>Conjunto Comercial/Sala</td>\n",
              "      <td>Centro</td>\n",
              "      <td>0</td>\n",
              "      <td>3</td>\n",
              "      <td>0</td>\n",
              "      <td>695</td>\n",
              "      <td>35000</td>\n",
              "      <td>19193.0</td>\n",
              "      <td>3030.0</td>\n",
              "    </tr>\n",
              "  </tbody>\n",
              "</table>\n",
              "</div>"
            ],
            "text/plain": [
              "                      Tipo           Bairro  Quartos  ...  Valor  Condominio    IPTU\n",
              "0                Quitinete       Copacabana        1  ...   1700       500.0    60.0\n",
              "1                     Casa  Jardim Botânico        2  ...   7000         NaN     NaN\n",
              "2  Conjunto Comercial/Sala  Barra da Tijuca        0  ...   5200      4020.0  1111.0\n",
              "3              Apartamento           Centro        1  ...    800       390.0    20.0\n",
              "4              Apartamento     Higienópolis        1  ...    800       230.0     NaN\n",
              "5              Apartamento     Vista Alegre        3  ...   1200         NaN     NaN\n",
              "6              Apartamento         Cachambi        2  ...   1300       301.0    17.0\n",
              "7       Casa de Condomínio  Barra da Tijuca        5  ...  22000         NaN     NaN\n",
              "8       Casa de Condomínio            Ramos        2  ...   1000         NaN     NaN\n",
              "9  Conjunto Comercial/Sala           Centro        0  ...  35000     19193.0  3030.0\n",
              "\n",
              "[10 rows x 9 columns]"
            ]
          },
          "metadata": {
            "tags": []
          },
          "execution_count": 59
        }
      ]
    },
    {
      "cell_type": "code",
      "metadata": {
        "id": "Mto8v0GJoKUQ",
        "colab_type": "code",
        "outputId": "d284795e-6eee-471d-e1f5-030c72c2f13c",
        "colab": {
          "base_uri": "https://localhost:8080/",
          "height": 34
        }
      },
      "source": [
        "area = plt.figure(figsize= (15,10))"
      ],
      "execution_count": 0,
      "outputs": [
        {
          "output_type": "display_data",
          "data": {
            "text/plain": [
              "<Figure size 1080x720 with 0 Axes>"
            ]
          },
          "metadata": {
            "tags": []
          }
        }
      ]
    },
    {
      "cell_type": "code",
      "metadata": {
        "id": "UNGIKb9AoNuv",
        "colab_type": "code",
        "colab": {}
      },
      "source": [
        "#(2,2,1) Grafico vai ter tamanho 4, 2 linhas, 2 colunas e esse grafico vai ficar na posicao 1\n",
        "g1 = area.add_subplot(2,2,1)\n",
        "g2 = area.add_subplot(2,2,2)\n",
        "g3 = area.add_subplot(2,2,3)\n",
        "g4 = area.add_subplot(2,2,4)\n"
      ],
      "execution_count": 0,
      "outputs": []
    },
    {
      "cell_type": "code",
      "metadata": {
        "id": "nWJHwLgLorUZ",
        "colab_type": "code",
        "outputId": "c07d5245-5653-4e45-e465-07d3f8e3fbf2",
        "colab": {
          "base_uri": "https://localhost:8080/",
          "height": 34
        }
      },
      "source": [
        "g1.scatter(dados_aluguel_json['Valor'], dados_aluguel_json['Area'])\n",
        "g1.set_title(\"Valor x Area\")\n",
        "g2.hist(dados_aluguel_json[\"Valor\"])\n",
        "g2.set_title(\"Histograma\")\n",
        "#Sample é amostra, to pegando so uma amostra\n",
        "dados_g3 = dados_aluguel_json[\"Valor\"].sample(5)\n",
        "dados_g3.index = range(dados_g3.shape[0])\n",
        "g3.plot(dados_g3)\n",
        "g3.set_title(\"Amostra (valor)\")\n",
        "#Agrupando e pegando a media do valor por tipo\n",
        "grupo = dados_aluguel_json.groupby(\"Tipo\")[\"Valor\"]\n",
        "label = grupo.mean().index\n",
        "valores = grupo.mean().values\n",
        "g4.bar(label, valores)\n",
        "g4.set_title(\"Valor Medio por Tipo\")"
      ],
      "execution_count": 0,
      "outputs": [
        {
          "output_type": "execute_result",
          "data": {
            "text/plain": [
              "Text(0.5, 1.0, 'Valor Medio por Tipo')"
            ]
          },
          "metadata": {
            "tags": []
          },
          "execution_count": 72
        }
      ]
    },
    {
      "cell_type": "code",
      "metadata": {
        "id": "tfGpefnCpEKI",
        "colab_type": "code",
        "outputId": "1e208188-29dc-4b7d-9672-1681d8f01536",
        "colab": {
          "base_uri": "https://localhost:8080/",
          "height": 607
        }
      },
      "source": [
        "area"
      ],
      "execution_count": 0,
      "outputs": [
        {
          "output_type": "execute_result",
          "data": {
            "image/png": "[encoded data removed]",
            "text/plain": [
              "<Figure size 1080x720 with 4 Axes>"
            ]
          },
          "metadata": {
            "tags": []
          },
          "execution_count": 73
        }
      ]
    },
    {
      "cell_type": "code",
      "metadata": {
        "id": "Lv-SAbrvrKOS",
        "colab_type": "code",
        "colab": {}
      },
      "source": [
        "area.savefig('grafico.png', dpi = 300, bbox_inches = 'tight')"
      ],
      "execution_count": 0,
      "outputs": []
    },
    {
      "cell_type": "code",
      "metadata": {
        "id": "p3JcRSqqsIiT",
        "colab_type": "code",
        "colab": {}
      },
      "source": [
        ""
      ],
      "execution_count": 0,
      "outputs": []
    }
  ]
}