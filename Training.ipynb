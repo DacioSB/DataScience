{
  "nbformat": 4,
  "nbformat_minor": 0,
  "metadata": {
    "colab": {
      "name": "Training.ipynb",
      "provenance": [],
      "collapsed_sections": [
        "hHX3CquYtKdy"
      ],
      "authorship_tag": "ABX9TyNpo35bSY0NdCnMp0+H3bW5",
      "include_colab_link": true
    },
    "kernelspec": {
      "name": "python3",
      "display_name": "Python 3"
    }
  },
  "cells": [
    {
      "cell_type": "markdown",
      "metadata": {
        "id": "view-in-github",
        "colab_type": "text"
      },
      "source": [
        "<a href=\"https://colab.research.google.com/github/DacioSB/DataScience/blob/master/Training.ipynb\" target=\"_parent\"><img src=\"https://colab.research.google.com/assets/colab-badge.svg\" alt=\"Open In Colab\"/></a>"
      ]
    },
    {
      "cell_type": "markdown",
      "metadata": {
        "id": "hHX3CquYtKdy",
        "colab_type": "text"
      },
      "source": [
        "# Training for chapter one of the statistics book"
      ]
    },
    {
      "cell_type": "code",
      "metadata": {
        "id": "4fSgyIUCuJtw",
        "colab_type": "code",
        "outputId": "6062e5ec-62c9-4a64-c20a-24c7c285ac51",
        "colab": {
          "base_uri": "https://localhost:8080/",
          "height": 204
        }
      },
      "source": [
        "import pandas as pd\n",
        "\n",
        "tabela = pd.read_csv(\"tabela.csv\", sep = \";\")\n",
        "tabela.head()"
      ],
      "execution_count": 0,
      "outputs": [
        {
          "output_type": "execute_result",
          "data": {
            "text/html": [
              "<div>\n",
              "<style scoped>\n",
              "    .dataframe tbody tr th:only-of-type {\n",
              "        vertical-align: middle;\n",
              "    }\n",
              "\n",
              "    .dataframe tbody tr th {\n",
              "        vertical-align: top;\n",
              "    }\n",
              "\n",
              "    .dataframe thead th {\n",
              "        text-align: right;\n",
              "    }\n",
              "</style>\n",
              "<table border=\"1\" class=\"dataframe\">\n",
              "  <thead>\n",
              "    <tr style=\"text-align: right;\">\n",
              "      <th></th>\n",
              "      <th>N</th>\n",
              "      <th>estado_civil</th>\n",
              "      <th>grau_instrucao</th>\n",
              "      <th>n_filhos</th>\n",
              "      <th>salario</th>\n",
              "      <th>idade_anos</th>\n",
              "      <th>idade_meses</th>\n",
              "      <th>reg_procedencia</th>\n",
              "    </tr>\n",
              "  </thead>\n",
              "  <tbody>\n",
              "    <tr>\n",
              "      <th>0</th>\n",
              "      <td>1</td>\n",
              "      <td>solteiro</td>\n",
              "      <td>ensino fundamental</td>\n",
              "      <td>NaN</td>\n",
              "      <td>4.00</td>\n",
              "      <td>26</td>\n",
              "      <td>3</td>\n",
              "      <td>interior</td>\n",
              "    </tr>\n",
              "    <tr>\n",
              "      <th>1</th>\n",
              "      <td>2</td>\n",
              "      <td>casado</td>\n",
              "      <td>ensino fundamental</td>\n",
              "      <td>1.0</td>\n",
              "      <td>4.56</td>\n",
              "      <td>32</td>\n",
              "      <td>10</td>\n",
              "      <td>capital</td>\n",
              "    </tr>\n",
              "    <tr>\n",
              "      <th>2</th>\n",
              "      <td>3</td>\n",
              "      <td>casado</td>\n",
              "      <td>ensino fundamental</td>\n",
              "      <td>2.0</td>\n",
              "      <td>5.25</td>\n",
              "      <td>36</td>\n",
              "      <td>5</td>\n",
              "      <td>capital</td>\n",
              "    </tr>\n",
              "    <tr>\n",
              "      <th>3</th>\n",
              "      <td>4</td>\n",
              "      <td>solteiro</td>\n",
              "      <td>ensino médio</td>\n",
              "      <td>NaN</td>\n",
              "      <td>5.73</td>\n",
              "      <td>20</td>\n",
              "      <td>10</td>\n",
              "      <td>outra</td>\n",
              "    </tr>\n",
              "    <tr>\n",
              "      <th>4</th>\n",
              "      <td>5</td>\n",
              "      <td>solteiro</td>\n",
              "      <td>ensino fundamental</td>\n",
              "      <td>NaN</td>\n",
              "      <td>6.26</td>\n",
              "      <td>40</td>\n",
              "      <td>7</td>\n",
              "      <td>outra</td>\n",
              "    </tr>\n",
              "  </tbody>\n",
              "</table>\n",
              "</div>"
            ],
            "text/plain": [
              "   N estado_civil      grau_instrucao  ...  idade_anos  idade_meses  reg_procedencia\n",
              "0  1     solteiro  ensino fundamental  ...          26            3         interior\n",
              "1  2       casado  ensino fundamental  ...          32           10          capital\n",
              "2  3       casado  ensino fundamental  ...          36            5          capital\n",
              "3  4     solteiro        ensino médio  ...          20           10            outra\n",
              "4  5     solteiro  ensino fundamental  ...          40            7            outra\n",
              "\n",
              "[5 rows x 8 columns]"
            ]
          },
          "metadata": {
            "tags": []
          },
          "execution_count": 5
        }
      ]
    },
    {
      "cell_type": "code",
      "metadata": {
        "id": "O1Y6HyNtuuv-",
        "colab_type": "code",
        "outputId": "49b1a587-f138-4f64-83a3-c89b23d391ef",
        "colab": {
          "base_uri": "https://localhost:8080/",
          "height": 34
        }
      },
      "source": [
        "tabela['n_filhos'].unique()"
      ],
      "execution_count": 0,
      "outputs": [
        {
          "output_type": "execute_result",
          "data": {
            "text/plain": [
              "array([nan,  1.,  2.,  0.,  3.,  5.])"
            ]
          },
          "metadata": {
            "tags": []
          },
          "execution_count": 6
        }
      ]
    },
    {
      "cell_type": "code",
      "metadata": {
        "id": "QZ2q5E9CvE9k",
        "colab_type": "code",
        "outputId": "f995491d-a8a0-4154-9091-4f57d43d9fcd",
        "colab": {
          "base_uri": "https://localhost:8080/",
          "height": 119
        }
      },
      "source": [
        "tabela['n_filhos'].value_counts()"
      ],
      "execution_count": 0,
      "outputs": [
        {
          "output_type": "execute_result",
          "data": {
            "text/plain": [
              "2.0    7\n",
              "1.0    5\n",
              "0.0    4\n",
              "3.0    3\n",
              "5.0    1\n",
              "Name: n_filhos, dtype: int64"
            ]
          },
          "metadata": {
            "tags": []
          },
          "execution_count": 7
        }
      ]
    },
    {
      "cell_type": "code",
      "metadata": {
        "id": "0ca1TFarvNBc",
        "colab_type": "code",
        "outputId": "b16277ce-ac7e-4339-8e67-07d3df0d4bbb",
        "colab": {
          "base_uri": "https://localhost:8080/",
          "height": 34
        }
      },
      "source": [
        "tabela['n_filhos'].mean()"
      ],
      "execution_count": 0,
      "outputs": [
        {
          "output_type": "execute_result",
          "data": {
            "text/plain": [
              "1.65"
            ]
          },
          "metadata": {
            "tags": []
          },
          "execution_count": 8
        }
      ]
    },
    {
      "cell_type": "code",
      "metadata": {
        "id": "km19QzYRvW7T",
        "colab_type": "code",
        "outputId": "7217c076-b310-4201-ac55-699e7fdfb6fa",
        "colab": {
          "base_uri": "https://localhost:8080/",
          "height": 282
        }
      },
      "source": [
        "tabela.n_filhos.plot(kind = \"hist\")"
      ],
      "execution_count": 0,
      "outputs": [
        {
          "output_type": "execute_result",
          "data": {
            "text/plain": [
              "<matplotlib.axes._subplots.AxesSubplot at 0x7f8b3ec78470>"
            ]
          },
          "metadata": {
            "tags": []
          },
          "execution_count": 9
        },
        {
          "output_type": "display_data",
          "data": {
            "image/png": "[encoded data removed]",
            "text/plain": [
              "<Figure size 432x288 with 1 Axes>"
            ]
          },
          "metadata": {
            "tags": [],
            "needs_background": "light"
          }
        }
      ]
    },
    {
      "cell_type": "code",
      "metadata": {
        "id": "LH0wH4WUvihE",
        "colab_type": "code",
        "outputId": "2ff7dac3-d3a1-4191-a3d9-07be5306df7b",
        "colab": {
          "base_uri": "https://localhost:8080/",
          "height": 170
        }
      },
      "source": [
        "tabela.n_filhos.describe()"
      ],
      "execution_count": 0,
      "outputs": [
        {
          "output_type": "execute_result",
          "data": {
            "text/plain": [
              "count    20.000000\n",
              "mean      1.650000\n",
              "std       1.268028\n",
              "min       0.000000\n",
              "25%       1.000000\n",
              "50%       2.000000\n",
              "75%       2.000000\n",
              "max       5.000000\n",
              "Name: n_filhos, dtype: float64"
            ]
          },
          "metadata": {
            "tags": []
          },
          "execution_count": 10
        }
      ]
    },
    {
      "cell_type": "code",
      "metadata": {
        "id": "bALep_gwvtg0",
        "colab_type": "code",
        "outputId": "e3910432-2fd6-482b-d3d3-c2bcfbdf07e1",
        "colab": {
          "base_uri": "https://localhost:8080/",
          "height": 351
        }
      },
      "source": [
        "import seaborn as sns\n",
        "sns.boxplot(tabela.n_filhos)"
      ],
      "execution_count": 0,
      "outputs": [
        {
          "output_type": "stream",
          "text": [
            "/usr/local/lib/python3.6/dist-packages/statsmodels/tools/_testing.py:19: FutureWarning: pandas.util.testing is deprecated. Use the functions in the public API at pandas.testing instead.\n",
            "  import pandas.util.testing as tm\n"
          ],
          "name": "stderr"
        },
        {
          "output_type": "execute_result",
          "data": {
            "text/plain": [
              "<matplotlib.axes._subplots.AxesSubplot at 0x7f8b33db6320>"
            ]
          },
          "metadata": {
            "tags": []
          },
          "execution_count": 11
        },
        {
          "output_type": "display_data",
          "data": {
            "image/png": "[encoded data removed]",
            "text/plain": [
              "<Figure size 432x288 with 1 Axes>"
            ]
          },
          "metadata": {
            "tags": [],
            "needs_background": "light"
          }
        }
      ]
    },
    {
      "cell_type": "code",
      "metadata": {
        "id": "sqLIIuBgwLRU",
        "colab_type": "code",
        "outputId": "694c7f98-ba07-4095-c700-d229d2085b36",
        "colab": {
          "base_uri": "https://localhost:8080/",
          "height": 34
        }
      },
      "source": [
        "#Vou fazer uma query\n",
        "#Quero saber o salario medio de quem tem ensino fundamental\n",
        "tabela.query(\"grau_instrucao == 'ensino fundamental'\").salario.mean()\n"
      ],
      "execution_count": 0,
      "outputs": [
        {
          "output_type": "execute_result",
          "data": {
            "text/plain": [
              "7.836666666666666"
            ]
          },
          "metadata": {
            "tags": []
          },
          "execution_count": 12
        }
      ]
    },
    {
      "cell_type": "code",
      "metadata": {
        "id": "QwGGNPViw6Zk",
        "colab_type": "code",
        "outputId": "86d0bc99-2838-45d6-cb55-fa345557676e",
        "colab": {
          "base_uri": "https://localhost:8080/",
          "height": 34
        }
      },
      "source": [
        "tabela.query(\"grau_instrucao == 'ensino médio'\").salario.mean()"
      ],
      "execution_count": 0,
      "outputs": [
        {
          "output_type": "execute_result",
          "data": {
            "text/plain": [
              "11.528333333333334"
            ]
          },
          "metadata": {
            "tags": []
          },
          "execution_count": 13
        }
      ]
    },
    {
      "cell_type": "code",
      "metadata": {
        "id": "LmTwNAg5QFhE",
        "colab_type": "code",
        "outputId": "0ca37fcd-9541-4c62-ed6e-d5bb9fecd046",
        "colab": {
          "base_uri": "https://localhost:8080/",
          "height": 34
        }
      },
      "source": [
        "tabela.query(\"grau_instrucao == 'superior'\").salario.mean()"
      ],
      "execution_count": 0,
      "outputs": [
        {
          "output_type": "execute_result",
          "data": {
            "text/plain": [
              "16.474999999999998"
            ]
          },
          "metadata": {
            "tags": []
          },
          "execution_count": 14
        }
      ]
    },
    {
      "cell_type": "code",
      "metadata": {
        "id": "rZqbCH_JQPRr",
        "colab_type": "code",
        "outputId": "a3b09a3f-77c4-4123-c247-00de92468b56",
        "colab": {
          "base_uri": "https://localhost:8080/",
          "height": 102
        }
      },
      "source": [
        "#media de salario por grau de instrucao... Agrupa por grau de instrucao e tira a media desse agrupamento\n",
        "media_salarios = tabela.groupby(\"grau_instrucao\").mean()[\"salario\"]\n",
        "media_salarios"
      ],
      "execution_count": 0,
      "outputs": [
        {
          "output_type": "execute_result",
          "data": {
            "text/plain": [
              "grau_instrucao\n",
              "ensino fundamental     7.836667\n",
              "ensino médio          11.528333\n",
              "superior              16.475000\n",
              "Name: salario, dtype: float64"
            ]
          },
          "metadata": {
            "tags": []
          },
          "execution_count": 15
        }
      ]
    },
    {
      "cell_type": "code",
      "metadata": {
        "id": "3JpQXl6nRCLR",
        "colab_type": "code",
        "outputId": "b0164d22-70db-424a-de32-afcefe5d612b",
        "colab": {
          "base_uri": "https://localhost:8080/",
          "height": 269
        }
      },
      "source": [
        "import matplotlib.pyplot as plt\n",
        "\n",
        "sns.boxplot(y = media_salarios)\n",
        "#boxplot como funciona? Linha de cima e linha de baixo sao o maior e menor valor que tenho em meus dados\n",
        "#A linha no meio da caixa representa a mediana\n",
        "#A linha de cima da caixa é a mediana dos valores maiores e iguais a mediana do centro ((16.48 + 11.53)/2)\n",
        "#A linha de baixo da caixa é a medianada dos valores menores e iguais a mediana do centro ((7.84 + 11.53)/2)\n",
        "#1o quartil, 2o quartil, 3o quartil, 4o quartil"
      ],
      "execution_count": 0,
      "outputs": [
        {
          "output_type": "execute_result",
          "data": {
            "text/plain": [
              "<matplotlib.axes._subplots.AxesSubplot at 0x7f8b33a98d30>"
            ]
          },
          "metadata": {
            "tags": []
          },
          "execution_count": 16
        },
        {
          "output_type": "display_data",
          "data": {
            "image/png": "[encoded data removed]",
            "text/plain": [
              "<Figure size 432x288 with 1 Axes>"
            ]
          },
          "metadata": {
            "tags": [],
            "needs_background": "light"
          }
        }
      ]
    },
    {
      "cell_type": "code",
      "metadata": {
        "id": "pcbnVu_PRWob",
        "colab_type": "code",
        "outputId": "820304bb-8353-4b30-9552-006340e7da29",
        "colab": {
          "base_uri": "https://localhost:8080/",
          "height": 204
        }
      },
      "source": [
        "#Quero fazer analise de frequencia apenas para a coluna n_filhos\n",
        "conta_filhos = tabela.n_filhos.value_counts().to_frame().reset_index()\n",
        "conta_filhos.columns = [\"num_filhos\", \"frequency\"]\n",
        "conta_filhos"
      ],
      "execution_count": 0,
      "outputs": [
        {
          "output_type": "execute_result",
          "data": {
            "text/html": [
              "<div>\n",
              "<style scoped>\n",
              "    .dataframe tbody tr th:only-of-type {\n",
              "        vertical-align: middle;\n",
              "    }\n",
              "\n",
              "    .dataframe tbody tr th {\n",
              "        vertical-align: top;\n",
              "    }\n",
              "\n",
              "    .dataframe thead th {\n",
              "        text-align: right;\n",
              "    }\n",
              "</style>\n",
              "<table border=\"1\" class=\"dataframe\">\n",
              "  <thead>\n",
              "    <tr style=\"text-align: right;\">\n",
              "      <th></th>\n",
              "      <th>num_filhos</th>\n",
              "      <th>frequency</th>\n",
              "    </tr>\n",
              "  </thead>\n",
              "  <tbody>\n",
              "    <tr>\n",
              "      <th>0</th>\n",
              "      <td>2.0</td>\n",
              "      <td>7</td>\n",
              "    </tr>\n",
              "    <tr>\n",
              "      <th>1</th>\n",
              "      <td>1.0</td>\n",
              "      <td>5</td>\n",
              "    </tr>\n",
              "    <tr>\n",
              "      <th>2</th>\n",
              "      <td>0.0</td>\n",
              "      <td>4</td>\n",
              "    </tr>\n",
              "    <tr>\n",
              "      <th>3</th>\n",
              "      <td>3.0</td>\n",
              "      <td>3</td>\n",
              "    </tr>\n",
              "    <tr>\n",
              "      <th>4</th>\n",
              "      <td>5.0</td>\n",
              "      <td>1</td>\n",
              "    </tr>\n",
              "  </tbody>\n",
              "</table>\n",
              "</div>"
            ],
            "text/plain": [
              "   num_filhos  frequency\n",
              "0         2.0          7\n",
              "1         1.0          5\n",
              "2         0.0          4\n",
              "3         3.0          3\n",
              "4         5.0          1"
            ]
          },
          "metadata": {
            "tags": []
          },
          "execution_count": 17
        }
      ]
    },
    {
      "cell_type": "code",
      "metadata": {
        "id": "5blCJiybYd2R",
        "colab_type": "code",
        "outputId": "616c65a6-52d2-4959-a581-52d06097de6b",
        "colab": {
          "base_uri": "https://localhost:8080/",
          "height": 297
        }
      },
      "source": [
        "sns.barplot(x = \"num_filhos\", y = \"frequency\", data=conta_filhos)"
      ],
      "execution_count": 0,
      "outputs": [
        {
          "output_type": "execute_result",
          "data": {
            "text/plain": [
              "<matplotlib.axes._subplots.AxesSubplot at 0x7f8b32a93278>"
            ]
          },
          "metadata": {
            "tags": []
          },
          "execution_count": 18
        },
        {
          "output_type": "display_data",
          "data": {
            "image/png": "[encoded data removed]",
            "text/plain": [
              "<Figure size 432x288 with 1 Axes>"
            ]
          },
          "metadata": {
            "tags": [],
            "needs_background": "light"
          }
        }
      ]
    },
    {
      "cell_type": "code",
      "metadata": {
        "id": "wGc-4ZjjYxbm",
        "colab_type": "code",
        "outputId": "bc995303-a550-4c8f-d8ca-ee4867df3d2d",
        "colab": {
          "base_uri": "https://localhost:8080/",
          "height": 386
        }
      },
      "source": [
        "#Meio complicado esse barplot ne verdade?\n",
        "#Existe o catplot pra facilitar nossa vida\n",
        "#So preciso passar a categoria que quero contar, no caso, n_filhos\n",
        "\n",
        "sns.catplot(x = \"n_filhos\", kind = \"count\", data=tabela)"
      ],
      "execution_count": 0,
      "outputs": [
        {
          "output_type": "execute_result",
          "data": {
            "text/plain": [
              "<seaborn.axisgrid.FacetGrid at 0x7f8b3ec09390>"
            ]
          },
          "metadata": {
            "tags": []
          },
          "execution_count": 19
        },
        {
          "output_type": "display_data",
          "data": {
            "image/png": "[encoded data removed]",
            "text/plain": [
              "<Figure size 360x360 with 1 Axes>"
            ]
          },
          "metadata": {
            "tags": [],
            "needs_background": "light"
          }
        }
      ]
    },
    {
      "cell_type": "code",
      "metadata": {
        "id": "8SmxM55HaElR",
        "colab_type": "code",
        "outputId": "62720ffd-ed83-41d5-e8be-823ffd60ecda",
        "colab": {
          "base_uri": "https://localhost:8080/",
          "height": 418
        }
      },
      "source": [
        "plt.pie(conta_filhos[\"frequency\"], labels = conta_filhos[\"num_filhos\"])\n",
        "#Lembrando que eu estou trabalhando em cima daquele frame: conta_filhos = tabela.n_filhos.value_counts().to_frame().reset_index()"
      ],
      "execution_count": 0,
      "outputs": [
        {
          "output_type": "execute_result",
          "data": {
            "text/plain": [
              "([<matplotlib.patches.Wedge at 0x7f8b30141390>,\n",
              "  <matplotlib.patches.Wedge at 0x7f8b30141940>,\n",
              "  <matplotlib.patches.Wedge at 0x7f8b30141eb8>,\n",
              "  <matplotlib.patches.Wedge at 0x7f8b3014c470>,\n",
              "  <matplotlib.patches.Wedge at 0x7f8b3014c9e8>],\n",
              " [Text(0.4993895680663529, 0.9801071672559597, '2.0'),\n",
              "  Text(-1.086457168210212, 0.17207795223283895, '1.0'),\n",
              "  Text(-0.33991872319707345, -1.046162158377023, '0.0'),\n",
              "  Text(0.7778174593052022, -0.7778174593052025, '3.0'),\n",
              "  Text(1.086457178279648, -0.17207788865692558, '5.0')])"
            ]
          },
          "metadata": {
            "tags": []
          },
          "execution_count": 20
        },
        {
          "output_type": "display_data",
          "data": {
            "image/png": "[encoded data removed]",
            "text/plain": [
              "<Figure size 432x288 with 1 Axes>"
            ]
          },
          "metadata": {
            "tags": []
          }
        }
      ]
    },
    {
      "cell_type": "code",
      "metadata": {
        "id": "5AScfYykQPgs",
        "colab_type": "code",
        "colab": {}
      },
      "source": [
        "#Agora quero categorizar nao em 5 grupos... Mas apenas em 2... Quem tem 0.0 filhos e quem nao tem 0.0 filhos\n",
        "#1 pego e agrupo as contagens gerais\n",
        "total_por_n_filhos = tabela['n_filhos'].value_counts()\n",
        "#2 pego so quem tem 0 filhos ***loc[] => localiza\n",
        "total_0_filhos = total_por_n_filhos.loc[0.0]\n",
        "#3 total geral (que vai dar 20)\n",
        "total_geral = total_por_n_filhos.sum()\n",
        "\n",
        "total_resto = total_geral-total_0_filhos"
      ],
      "execution_count": 0,
      "outputs": []
    },
    {
      "cell_type": "code",
      "metadata": {
        "id": "whAQqfuJRP4m",
        "colab_type": "code",
        "outputId": "5f50f9af-25ec-41f1-c18b-9f7c210e0ea6",
        "colab": {
          "base_uri": "https://localhost:8080/",
          "height": 111
        }
      },
      "source": [
        "#Faz um dicionario passando os dois rotulos n_filhos e total\n",
        "dados = {\n",
        "    'n_filhos': ['sem filhos', 'com filhos'],\n",
        "    'total' : [total_0_filhos, total_resto]\n",
        "}\n",
        "\n",
        "pd.DataFrame(dados)"
      ],
      "execution_count": 0,
      "outputs": [
        {
          "output_type": "execute_result",
          "data": {
            "text/html": [
              "<div>\n",
              "<style scoped>\n",
              "    .dataframe tbody tr th:only-of-type {\n",
              "        vertical-align: middle;\n",
              "    }\n",
              "\n",
              "    .dataframe tbody tr th {\n",
              "        vertical-align: top;\n",
              "    }\n",
              "\n",
              "    .dataframe thead th {\n",
              "        text-align: right;\n",
              "    }\n",
              "</style>\n",
              "<table border=\"1\" class=\"dataframe\">\n",
              "  <thead>\n",
              "    <tr style=\"text-align: right;\">\n",
              "      <th></th>\n",
              "      <th>n_filhos</th>\n",
              "      <th>total</th>\n",
              "    </tr>\n",
              "  </thead>\n",
              "  <tbody>\n",
              "    <tr>\n",
              "      <th>0</th>\n",
              "      <td>sem filhos</td>\n",
              "      <td>4</td>\n",
              "    </tr>\n",
              "    <tr>\n",
              "      <th>1</th>\n",
              "      <td>com filhos</td>\n",
              "      <td>16</td>\n",
              "    </tr>\n",
              "  </tbody>\n",
              "</table>\n",
              "</div>"
            ],
            "text/plain": [
              "     n_filhos  total\n",
              "0  sem filhos      4\n",
              "1  com filhos     16"
            ]
          },
          "metadata": {
            "tags": []
          },
          "execution_count": 22
        }
      ]
    },
    {
      "cell_type": "code",
      "metadata": {
        "id": "lhvy6yBIS_VX",
        "colab_type": "code",
        "outputId": "6d38d3f4-5f43-4357-a8c6-f81e9d043b3c",
        "colab": {
          "base_uri": "https://localhost:8080/",
          "height": 316
        }
      },
      "source": [
        "#Dai a gente pode fazer um barplot ou um pie plot\n",
        "\n",
        "#sns.barplot(x = 'n_filhos', y = 'total', data = dados)\n",
        "colors = ['yellowgreen', 'magenta']\n",
        "plt.pie(dados['total'], labels= dados['n_filhos'], colors = colors)"
      ],
      "execution_count": 0,
      "outputs": [
        {
          "output_type": "execute_result",
          "data": {
            "text/plain": [
              "([<matplotlib.patches.Wedge at 0x7f8b3009a6a0>,\n",
              "  <matplotlib.patches.Wedge at 0x7f8b3009abe0>],\n",
              " [Text(0.8899186877588753, 0.6465637858537406, 'sem filhos'),\n",
              "  Text(-0.8899186574910393, -0.6465638275138399, 'com filhos')])"
            ]
          },
          "metadata": {
            "tags": []
          },
          "execution_count": 23
        },
        {
          "output_type": "display_data",
          "data": {
            "image/png": "[encoded data removed]",
            "text/plain": [
              "<Figure size 432x288 with 1 Axes>"
            ]
          },
          "metadata": {
            "tags": []
          }
        }
      ]
    },
    {
      "cell_type": "code",
      "metadata": {
        "id": "xtPBtaa-Tku8",
        "colab_type": "code",
        "outputId": "f4b0c7ed-34ac-452d-82b2-c17e7f09125b",
        "colab": {
          "base_uri": "https://localhost:8080/",
          "height": 34
        }
      },
      "source": [
        "#Quero o standard deviation do salario das pessoas que possuem ensino medio e ensino fundamental\n",
        "#Pelo grafico vemos a diferença entre salarios\n",
        "salarios_ef = tabela.query(\"grau_instrucao == 'ensino fundamental'\")\n",
        "salarios_em = tabela.query(\"grau_instrucao == 'ensino médio'\")\n",
        "print (len(salarios_ef), len(salarios_em))"
      ],
      "execution_count": 0,
      "outputs": [
        {
          "output_type": "stream",
          "text": [
            "12 18\n"
          ],
          "name": "stdout"
        }
      ]
    },
    {
      "cell_type": "code",
      "metadata": {
        "id": "rXTxHpVw3k-V",
        "colab_type": "code",
        "outputId": "f0419b21-a4f5-427b-e56c-418d12eeaae2",
        "colab": {
          "base_uri": "https://localhost:8080/",
          "height": 34
        }
      },
      "source": [
        "salarios_ef.salario.mean()"
      ],
      "execution_count": 0,
      "outputs": [
        {
          "output_type": "execute_result",
          "data": {
            "text/plain": [
              "7.836666666666666"
            ]
          },
          "metadata": {
            "tags": []
          },
          "execution_count": 25
        }
      ]
    },
    {
      "cell_type": "code",
      "metadata": {
        "id": "gdszdsNJ3ut6",
        "colab_type": "code",
        "outputId": "8d9c49eb-0aa6-477c-ef7c-57e8dd0aed68",
        "colab": {
          "base_uri": "https://localhost:8080/",
          "height": 34
        }
      },
      "source": [
        "salarios_em.salario.mean()"
      ],
      "execution_count": 0,
      "outputs": [
        {
          "output_type": "execute_result",
          "data": {
            "text/plain": [
              "11.528333333333334"
            ]
          },
          "metadata": {
            "tags": []
          },
          "execution_count": 26
        }
      ]
    },
    {
      "cell_type": "code",
      "metadata": {
        "id": "7RSe2SoO3xqB",
        "colab_type": "code",
        "outputId": "ec4ceb77-a445-4e05-e704-a3ea3754d1e7",
        "colab": {
          "base_uri": "https://localhost:8080/",
          "height": 522
        }
      },
      "source": [
        "plt.boxplot([salarios_ef.salario, salarios_em.salario])"
      ],
      "execution_count": 0,
      "outputs": [
        {
          "output_type": "execute_result",
          "data": {
            "text/plain": [
              "{'boxes': [<matplotlib.lines.Line2D at 0x7f8b30058eb8>,\n",
              "  <matplotlib.lines.Line2D at 0x7f8b300726d8>],\n",
              " 'caps': [<matplotlib.lines.Line2D at 0x7f8b300688d0>,\n",
              "  <matplotlib.lines.Line2D at 0x7f8b30068c50>,\n",
              "  <matplotlib.lines.Line2D at 0x7f8b3007d1d0>,\n",
              "  <matplotlib.lines.Line2D at 0x7f8b3007d550>],\n",
              " 'fliers': [<matplotlib.lines.Line2D at 0x7f8b30072390>,\n",
              "  <matplotlib.lines.Line2D at 0x7f8b3007dc50>],\n",
              " 'means': [],\n",
              " 'medians': [<matplotlib.lines.Line2D at 0x7f8b30068fd0>,\n",
              "  <matplotlib.lines.Line2D at 0x7f8b3007d8d0>],\n",
              " 'whiskers': [<matplotlib.lines.Line2D at 0x7f8b300681d0>,\n",
              "  <matplotlib.lines.Line2D at 0x7f8b30068550>,\n",
              "  <matplotlib.lines.Line2D at 0x7f8b30072a90>,\n",
              "  <matplotlib.lines.Line2D at 0x7f8b30072e10>]}"
            ]
          },
          "metadata": {
            "tags": []
          },
          "execution_count": 27
        },
        {
          "output_type": "display_data",
          "data": {
            "image/png": "[encoded data removed]",
            "text/plain": [
              "<Figure size 432x288 with 1 Axes>"
            ]
          },
          "metadata": {
            "tags": [],
            "needs_background": "light"
          }
        }
      ]
    },
    {
      "cell_type": "code",
      "metadata": {
        "id": "NHGC8ZBp34Fa",
        "colab_type": "code",
        "outputId": "2005adb3-9a5f-4c90-d0e9-3635b0e5b01e",
        "colab": {
          "base_uri": "https://localhost:8080/",
          "height": 34
        }
      },
      "source": [
        "salarios_ef.salario.std()"
      ],
      "execution_count": 0,
      "outputs": [
        {
          "output_type": "execute_result",
          "data": {
            "text/plain": [
              "2.956463899302474"
            ]
          },
          "metadata": {
            "tags": []
          },
          "execution_count": 28
        }
      ]
    },
    {
      "cell_type": "code",
      "metadata": {
        "id": "KqBV5uqJ4h1i",
        "colab_type": "code",
        "outputId": "4e01481e-f105-4d2a-8ba2-4e63cff9d55d",
        "colab": {
          "base_uri": "https://localhost:8080/",
          "height": 34
        }
      },
      "source": [
        "salarios_em.salario.std()"
      ],
      "execution_count": 0,
      "outputs": [
        {
          "output_type": "execute_result",
          "data": {
            "text/plain": [
              "3.7151442850612852"
            ]
          },
          "metadata": {
            "tags": []
          },
          "execution_count": 29
        }
      ]
    },
    {
      "cell_type": "code",
      "metadata": {
        "id": "Y3tYWASD5k1b",
        "colab_type": "code",
        "colab": {}
      },
      "source": [
        "#salario da galera do ensino fundamental tem uma standard deviation menor"
      ],
      "execution_count": 0,
      "outputs": []
    },
    {
      "cell_type": "markdown",
      "metadata": {
        "id": "18rv4rfx52d-",
        "colab_type": "text"
      },
      "source": [
        "Treino de NUMPY agora"
      ]
    },
    {
      "cell_type": "code",
      "metadata": {
        "id": "YgYh31li6B2L",
        "colab_type": "code",
        "colab": {}
      },
      "source": [
        "import numpy as np\n",
        "from numpy import genfromtxt\n",
        "\n",
        "table = genfromtxt('tabela.csv', delimiter = ';')"
      ],
      "execution_count": 0,
      "outputs": []
    },
    {
      "cell_type": "code",
      "metadata": {
        "id": "0gE3yd-D68g3",
        "colab_type": "code",
        "outputId": "0484e04e-65c0-4697-89e6-b43913d4e833",
        "colab": {
          "base_uri": "https://localhost:8080/",
          "height": 646
        }
      },
      "source": [
        "table"
      ],
      "execution_count": 0,
      "outputs": [
        {
          "output_type": "execute_result",
          "data": {
            "text/plain": [
              "array([[  nan,   nan,   nan,   nan,   nan,   nan,   nan,   nan],\n",
              "       [ 1.  ,   nan,   nan,   nan,  4.  , 26.  ,  3.  ,   nan],\n",
              "       [ 2.  ,   nan,   nan,  1.  ,  4.56, 32.  , 10.  ,   nan],\n",
              "       [ 3.  ,   nan,   nan,  2.  ,  5.25, 36.  ,  5.  ,   nan],\n",
              "       [ 4.  ,   nan,   nan,   nan,  5.73, 20.  , 10.  ,   nan],\n",
              "       [ 5.  ,   nan,   nan,   nan,  6.26, 40.  ,  7.  ,   nan],\n",
              "       [ 6.  ,   nan,   nan,  0.  ,  6.66, 28.  ,  0.  ,   nan],\n",
              "       [ 7.  ,   nan,   nan,   nan,  6.86, 41.  ,  0.  ,   nan],\n",
              "       [ 8.  ,   nan,   nan,   nan,  7.39, 43.  ,  4.  ,   nan],\n",
              "       [ 9.  ,   nan,   nan,  1.  ,  7.59, 34.  , 10.  ,   nan],\n",
              "       [10.  ,   nan,   nan,   nan,  7.44, 23.  ,  6.  ,   nan],\n",
              "       [11.  ,   nan,   nan,  2.  ,  8.12, 33.  ,  6.  ,   nan],\n",
              "       [12.  ,   nan,   nan,   nan,  8.46, 27.  , 11.  ,   nan],\n",
              "       [13.  ,   nan,   nan,   nan,  8.74, 37.  ,  5.  ,   nan],\n",
              "       [14.  ,   nan,   nan,  3.  ,  8.95, 44.  ,  2.  ,   nan],\n",
              "       [15.  ,   nan,   nan,  0.  ,  9.13, 30.  ,  5.  ,   nan],\n",
              "       [16.  ,   nan,   nan,   nan,  9.35, 38.  ,  8.  ,   nan],\n",
              "       [17.  ,   nan,   nan,  1.  ,  9.77, 31.  ,  7.  ,   nan],\n",
              "       [18.  ,   nan,   nan,  2.  ,  9.8 , 39.  ,  7.  ,   nan],\n",
              "       [19.  ,   nan,   nan,   nan, 10.53, 25.  ,  8.  ,   nan],\n",
              "       [20.  ,   nan,   nan,   nan, 10.76, 37.  ,  4.  ,   nan],\n",
              "       [21.  ,   nan,   nan,  1.  , 11.06, 30.  ,  9.  ,   nan],\n",
              "       [22.  ,   nan,   nan,   nan, 11.59, 34.  ,  2.  ,   nan],\n",
              "       [23.  ,   nan,   nan,   nan, 12.  , 41.  ,  0.  ,   nan],\n",
              "       [24.  ,   nan,   nan,  0.  , 12.79, 26.  ,  1.  ,   nan],\n",
              "       [25.  ,   nan,   nan,  2.  , 13.23, 32.  ,  5.  ,   nan],\n",
              "       [26.  ,   nan,   nan,  2.  , 13.6 , 35.  ,  0.  ,   nan],\n",
              "       [27.  ,   nan,   nan,   nan, 13.85, 46.  ,  7.  ,   nan],\n",
              "       [28.  ,   nan,   nan,  0.  , 14.69, 29.  ,  8.  ,   nan],\n",
              "       [29.  ,   nan,   nan,  5.  , 14.71, 40.  ,  6.  ,   nan],\n",
              "       [30.  ,   nan,   nan,  2.  , 15.99, 35.  , 10.  ,   nan],\n",
              "       [31.  ,   nan,   nan,   nan, 16.22, 31.  ,  5.  ,   nan],\n",
              "       [32.  ,   nan,   nan,  1.  , 16.61, 36.  ,  4.  ,   nan],\n",
              "       [33.  ,   nan,   nan,  3.  , 17.26, 43.  ,  7.  ,   nan],\n",
              "       [34.  ,   nan,   nan,   nan, 18.75, 33.  ,  7.  ,   nan],\n",
              "       [35.  ,   nan,   nan,  2.  , 19.4 , 48.  , 11.  ,   nan],\n",
              "       [36.  ,   nan,   nan,  3.  , 23.3 , 42.  ,  2.  ,   nan]])"
            ]
          },
          "metadata": {
            "tags": []
          },
          "execution_count": 32
        }
      ]
    },
    {
      "cell_type": "code",
      "metadata": {
        "id": "a_gQZy9E7Bek",
        "colab_type": "code",
        "outputId": "bc2ecafc-27e0-473a-dbb7-9c68a2b80edd",
        "colab": {
          "base_uri": "https://localhost:8080/",
          "height": 34
        }
      },
      "source": [
        "table.shape"
      ],
      "execution_count": 0,
      "outputs": [
        {
          "output_type": "execute_result",
          "data": {
            "text/plain": [
              "(37, 8)"
            ]
          },
          "metadata": {
            "tags": []
          },
          "execution_count": 33
        }
      ]
    },
    {
      "cell_type": "code",
      "metadata": {
        "id": "kCobi2Dh7-Pr",
        "colab_type": "code",
        "outputId": "95c64e1c-ec5a-4642-9eb3-d7c1cdf51e74",
        "colab": {
          "base_uri": "https://localhost:8080/",
          "height": 51
        }
      },
      "source": [
        "%time for i in range(1000000): table"
      ],
      "execution_count": 0,
      "outputs": [
        {
          "output_type": "stream",
          "text": [
            "CPU times: user 64.7 ms, sys: 1.7 ms, total: 66.4 ms\n",
            "Wall time: 72.2 ms\n"
          ],
          "name": "stdout"
        }
      ]
    },
    {
      "cell_type": "code",
      "metadata": {
        "id": "g7sJXTTr8W_T",
        "colab_type": "code",
        "outputId": "69908d8d-8afa-4a05-ef3b-c31daf71d880",
        "colab": {
          "base_uri": "https://localhost:8080/",
          "height": 51
        }
      },
      "source": [
        "py_list = list(range(37))\n",
        "%time for i in range(1000000): py_list"
      ],
      "execution_count": 0,
      "outputs": [
        {
          "output_type": "stream",
          "text": [
            "CPU times: user 54 ms, sys: 636 µs, total: 54.6 ms\n",
            "Wall time: 55.2 ms\n"
          ],
          "name": "stdout"
        }
      ]
    },
    {
      "cell_type": "code",
      "metadata": {
        "id": "cYp5GUhO8vsj",
        "colab_type": "code",
        "outputId": "410b1513-b435-4fa4-f7c4-681a28700df9",
        "colab": {
          "base_uri": "https://localhost:8080/",
          "height": 34
        }
      },
      "source": [
        "#dimensoes do array numpy\n",
        "table.ndim"
      ],
      "execution_count": 0,
      "outputs": [
        {
          "output_type": "execute_result",
          "data": {
            "text/plain": [
              "2"
            ]
          },
          "metadata": {
            "tags": []
          },
          "execution_count": 36
        }
      ]
    },
    {
      "cell_type": "code",
      "metadata": {
        "id": "GfW9UN_H9VNr",
        "colab_type": "code",
        "outputId": "b4b92379-99aa-419e-fab2-ad06b194ce87",
        "colab": {
          "base_uri": "https://localhost:8080/",
          "height": 34
        }
      },
      "source": [
        "#qtd de elementos na tabela\n",
        "table.size"
      ],
      "execution_count": 0,
      "outputs": [
        {
          "output_type": "execute_result",
          "data": {
            "text/plain": [
              "296"
            ]
          },
          "metadata": {
            "tags": []
          },
          "execution_count": 37
        }
      ]
    },
    {
      "cell_type": "code",
      "metadata": {
        "id": "upQkag_H9Y5r",
        "colab_type": "code",
        "outputId": "30adef4e-c63c-49eb-8c7b-5f5e47f5f954",
        "colab": {
          "base_uri": "https://localhost:8080/",
          "height": 697
        }
      },
      "source": [
        "table.T"
      ],
      "execution_count": 0,
      "outputs": [
        {
          "output_type": "execute_result",
          "data": {
            "text/plain": [
              "array([[  nan,  1.  ,  2.  ,  3.  ,  4.  ,  5.  ,  6.  ,  7.  ,  8.  ,\n",
              "         9.  , 10.  , 11.  , 12.  , 13.  , 14.  , 15.  , 16.  , 17.  ,\n",
              "        18.  , 19.  , 20.  , 21.  , 22.  , 23.  , 24.  , 25.  , 26.  ,\n",
              "        27.  , 28.  , 29.  , 30.  , 31.  , 32.  , 33.  , 34.  , 35.  ,\n",
              "        36.  ],\n",
              "       [  nan,   nan,   nan,   nan,   nan,   nan,   nan,   nan,   nan,\n",
              "          nan,   nan,   nan,   nan,   nan,   nan,   nan,   nan,   nan,\n",
              "          nan,   nan,   nan,   nan,   nan,   nan,   nan,   nan,   nan,\n",
              "          nan,   nan,   nan,   nan,   nan,   nan,   nan,   nan,   nan,\n",
              "          nan],\n",
              "       [  nan,   nan,   nan,   nan,   nan,   nan,   nan,   nan,   nan,\n",
              "          nan,   nan,   nan,   nan,   nan,   nan,   nan,   nan,   nan,\n",
              "          nan,   nan,   nan,   nan,   nan,   nan,   nan,   nan,   nan,\n",
              "          nan,   nan,   nan,   nan,   nan,   nan,   nan,   nan,   nan,\n",
              "          nan],\n",
              "       [  nan,   nan,  1.  ,  2.  ,   nan,   nan,  0.  ,   nan,   nan,\n",
              "         1.  ,   nan,  2.  ,   nan,   nan,  3.  ,  0.  ,   nan,  1.  ,\n",
              "         2.  ,   nan,   nan,  1.  ,   nan,   nan,  0.  ,  2.  ,  2.  ,\n",
              "          nan,  0.  ,  5.  ,  2.  ,   nan,  1.  ,  3.  ,   nan,  2.  ,\n",
              "         3.  ],\n",
              "       [  nan,  4.  ,  4.56,  5.25,  5.73,  6.26,  6.66,  6.86,  7.39,\n",
              "         7.59,  7.44,  8.12,  8.46,  8.74,  8.95,  9.13,  9.35,  9.77,\n",
              "         9.8 , 10.53, 10.76, 11.06, 11.59, 12.  , 12.79, 13.23, 13.6 ,\n",
              "        13.85, 14.69, 14.71, 15.99, 16.22, 16.61, 17.26, 18.75, 19.4 ,\n",
              "        23.3 ],\n",
              "       [  nan, 26.  , 32.  , 36.  , 20.  , 40.  , 28.  , 41.  , 43.  ,\n",
              "        34.  , 23.  , 33.  , 27.  , 37.  , 44.  , 30.  , 38.  , 31.  ,\n",
              "        39.  , 25.  , 37.  , 30.  , 34.  , 41.  , 26.  , 32.  , 35.  ,\n",
              "        46.  , 29.  , 40.  , 35.  , 31.  , 36.  , 43.  , 33.  , 48.  ,\n",
              "        42.  ],\n",
              "       [  nan,  3.  , 10.  ,  5.  , 10.  ,  7.  ,  0.  ,  0.  ,  4.  ,\n",
              "        10.  ,  6.  ,  6.  , 11.  ,  5.  ,  2.  ,  5.  ,  8.  ,  7.  ,\n",
              "         7.  ,  8.  ,  4.  ,  9.  ,  2.  ,  0.  ,  1.  ,  5.  ,  0.  ,\n",
              "         7.  ,  8.  ,  6.  , 10.  ,  5.  ,  4.  ,  7.  ,  7.  , 11.  ,\n",
              "         2.  ],\n",
              "       [  nan,   nan,   nan,   nan,   nan,   nan,   nan,   nan,   nan,\n",
              "          nan,   nan,   nan,   nan,   nan,   nan,   nan,   nan,   nan,\n",
              "          nan,   nan,   nan,   nan,   nan,   nan,   nan,   nan,   nan,\n",
              "          nan,   nan,   nan,   nan,   nan,   nan,   nan,   nan,   nan,\n",
              "          nan]])"
            ]
          },
          "metadata": {
            "tags": []
          },
          "execution_count": 38
        }
      ]
    },
    {
      "cell_type": "code",
      "metadata": {
        "id": "b8U1KKxL9nrh",
        "colab_type": "code",
        "outputId": "124e204e-5b20-4a65-e55d-bb33ec9adefa",
        "colab": {
          "base_uri": "https://localhost:8080/",
          "height": 646
        }
      },
      "source": [
        "table.tolist()"
      ],
      "execution_count": 0,
      "outputs": [
        {
          "output_type": "execute_result",
          "data": {
            "text/plain": [
              "[[nan, nan, nan, nan, nan, nan, nan, nan],\n",
              " [1.0, nan, nan, nan, 4.0, 26.0, 3.0, nan],\n",
              " [2.0, nan, nan, 1.0, 4.56, 32.0, 10.0, nan],\n",
              " [3.0, nan, nan, 2.0, 5.25, 36.0, 5.0, nan],\n",
              " [4.0, nan, nan, nan, 5.73, 20.0, 10.0, nan],\n",
              " [5.0, nan, nan, nan, 6.26, 40.0, 7.0, nan],\n",
              " [6.0, nan, nan, 0.0, 6.66, 28.0, 0.0, nan],\n",
              " [7.0, nan, nan, nan, 6.86, 41.0, 0.0, nan],\n",
              " [8.0, nan, nan, nan, 7.39, 43.0, 4.0, nan],\n",
              " [9.0, nan, nan, 1.0, 7.59, 34.0, 10.0, nan],\n",
              " [10.0, nan, nan, nan, 7.44, 23.0, 6.0, nan],\n",
              " [11.0, nan, nan, 2.0, 8.12, 33.0, 6.0, nan],\n",
              " [12.0, nan, nan, nan, 8.46, 27.0, 11.0, nan],\n",
              " [13.0, nan, nan, nan, 8.74, 37.0, 5.0, nan],\n",
              " [14.0, nan, nan, 3.0, 8.95, 44.0, 2.0, nan],\n",
              " [15.0, nan, nan, 0.0, 9.13, 30.0, 5.0, nan],\n",
              " [16.0, nan, nan, nan, 9.35, 38.0, 8.0, nan],\n",
              " [17.0, nan, nan, 1.0, 9.77, 31.0, 7.0, nan],\n",
              " [18.0, nan, nan, 2.0, 9.8, 39.0, 7.0, nan],\n",
              " [19.0, nan, nan, nan, 10.53, 25.0, 8.0, nan],\n",
              " [20.0, nan, nan, nan, 10.76, 37.0, 4.0, nan],\n",
              " [21.0, nan, nan, 1.0, 11.06, 30.0, 9.0, nan],\n",
              " [22.0, nan, nan, nan, 11.59, 34.0, 2.0, nan],\n",
              " [23.0, nan, nan, nan, 12.0, 41.0, 0.0, nan],\n",
              " [24.0, nan, nan, 0.0, 12.79, 26.0, 1.0, nan],\n",
              " [25.0, nan, nan, 2.0, 13.23, 32.0, 5.0, nan],\n",
              " [26.0, nan, nan, 2.0, 13.6, 35.0, 0.0, nan],\n",
              " [27.0, nan, nan, nan, 13.85, 46.0, 7.0, nan],\n",
              " [28.0, nan, nan, 0.0, 14.69, 29.0, 8.0, nan],\n",
              " [29.0, nan, nan, 5.0, 14.71, 40.0, 6.0, nan],\n",
              " [30.0, nan, nan, 2.0, 15.99, 35.0, 10.0, nan],\n",
              " [31.0, nan, nan, nan, 16.22, 31.0, 5.0, nan],\n",
              " [32.0, nan, nan, 1.0, 16.61, 36.0, 4.0, nan],\n",
              " [33.0, nan, nan, 3.0, 17.26, 43.0, 7.0, nan],\n",
              " [34.0, nan, nan, nan, 18.75, 33.0, 7.0, nan],\n",
              " [35.0, nan, nan, 2.0, 19.4, 48.0, 11.0, nan],\n",
              " [36.0, nan, nan, 3.0, 23.3, 42.0, 2.0, nan]]"
            ]
          },
          "metadata": {
            "tags": []
          },
          "execution_count": 39
        }
      ]
    },
    {
      "cell_type": "code",
      "metadata": {
        "id": "txMn8P0n9usM",
        "colab_type": "code",
        "colab": {}
      },
      "source": [
        "#dataset = np.column_stack((anos, km, valor))\n",
        "#sao tres files diferentes mas da pra fazer um unnico narray com eles"
      ],
      "execution_count": 0,
      "outputs": []
    },
    {
      "cell_type": "code",
      "metadata": {
        "id": "x6mLcp2b-hKU",
        "colab_type": "code",
        "outputId": "7e92c601-8fdb-44dd-f603-e62ead092b62",
        "colab": {
          "base_uri": "https://localhost:8080/",
          "height": 34
        }
      },
      "source": [
        "np.mean(table, axis = 0)"
      ],
      "execution_count": 0,
      "outputs": [
        {
          "output_type": "execute_result",
          "data": {
            "text/plain": [
              "array([nan, nan, nan, nan, nan, nan, nan, nan])"
            ]
          },
          "metadata": {
            "tags": []
          },
          "execution_count": 41
        }
      ]
    },
    {
      "cell_type": "code",
      "metadata": {
        "id": "p0VsPrLo_JHU",
        "colab_type": "code",
        "outputId": "db11dd66-4a8f-4853-ffbe-2317a77bbe8c",
        "colab": {
          "base_uri": "https://localhost:8080/",
          "height": 34
        }
      },
      "source": [
        "#To pegando a media da seguinte coluna:\n",
        "#a partir do primeiro subarray (ou seja nao pego o array so com nan)\n",
        "#e pego o resto de 1 pra frente(slice)\n",
        "#E dentro desses subarrays eu quero apenas os valores na posicao 6\n",
        "media_array_6 = np.mean(table[1:, 6])\n",
        "media_array_6"
      ],
      "execution_count": 0,
      "outputs": [
        {
          "output_type": "execute_result",
          "data": {
            "text/plain": [
              "5.611111111111111"
            ]
          },
          "metadata": {
            "tags": []
          },
          "execution_count": 42
        }
      ]
    },
    {
      "cell_type": "code",
      "metadata": {
        "id": "RgNLOjzXAPSN",
        "colab_type": "code",
        "outputId": "63b08a62-52a1-48d0-e23f-da762a25a096",
        "colab": {
          "base_uri": "https://localhost:8080/",
          "height": 34
        }
      },
      "source": [
        "std_dev_6 = np.std(table[1:, 6])\n",
        "std_dev_6"
      ],
      "execution_count": 0,
      "outputs": [
        {
          "output_type": "execute_result",
          "data": {
            "text/plain": [
              "3.24275069944722"
            ]
          },
          "metadata": {
            "tags": []
          },
          "execution_count": 43
        }
      ]
    },
    {
      "cell_type": "code",
      "metadata": {
        "id": "I8sF2JOOBRWW",
        "colab_type": "code",
        "outputId": "26d53343-6f91-48e6-f453-aee707b38c28",
        "colab": {
          "base_uri": "https://localhost:8080/",
          "height": 34
        }
      },
      "source": [
        "media_array_5 = np.mean(table[1:, 5])\n",
        "media_array_5"
      ],
      "execution_count": 0,
      "outputs": [
        {
          "output_type": "execute_result",
          "data": {
            "text/plain": [
              "34.583333333333336"
            ]
          },
          "metadata": {
            "tags": []
          },
          "execution_count": 44
        }
      ]
    },
    {
      "cell_type": "code",
      "metadata": {
        "id": "GpbAlX09BsQf",
        "colab_type": "code",
        "outputId": "7f3e1cb6-a5d6-4d5d-9586-f6db444f403e",
        "colab": {
          "base_uri": "https://localhost:8080/",
          "height": 34
        }
      },
      "source": [
        "std_dev_5 = np.std(table[1:, 5])\n",
        "std_dev_5"
      ],
      "execution_count": 0,
      "outputs": [
        {
          "output_type": "execute_result",
          "data": {
            "text/plain": [
              "6.643187822457261"
            ]
          },
          "metadata": {
            "tags": []
          },
          "execution_count": 45
        }
      ]
    },
    {
      "cell_type": "code",
      "metadata": {
        "id": "2wOeS9zfBznN",
        "colab_type": "code",
        "outputId": "bfc0beee-0061-40c0-b39a-59c0fe0e9304",
        "colab": {
          "base_uri": "https://localhost:8080/",
          "height": 170
        }
      },
      "source": [
        "tabela.dtypes"
      ],
      "execution_count": 0,
      "outputs": [
        {
          "output_type": "execute_result",
          "data": {
            "text/plain": [
              "N                    int64\n",
              "estado_civil        object\n",
              "grau_instrucao      object\n",
              "n_filhos           float64\n",
              "salario            float64\n",
              "idade_anos           int64\n",
              "idade_meses          int64\n",
              "reg_procedencia     object\n",
              "dtype: object"
            ]
          },
          "metadata": {
            "tags": []
          },
          "execution_count": 47
        }
      ]
    },
    {
      "cell_type": "markdown",
      "metadata": {
        "id": "rSYh1S_ntqgb",
        "colab_type": "text"
      },
      "source": [
        "# AAPL"
      ]
    },
    {
      "cell_type": "code",
      "metadata": {
        "id": "XTPDR17o9ide",
        "colab_type": "code",
        "colab": {}
      },
      "source": [
        "import pandas as pd\n",
        "import numpy as np\n",
        "from datetime import datetime\n",
        "import matplotlib.pyplot as plt\n",
        "plt.style.use(\"fivethirtyeight\")"
      ],
      "execution_count": 0,
      "outputs": []
    },
    {
      "cell_type": "code",
      "metadata": {
        "id": "0PzPnop9iygX",
        "colab_type": "code",
        "colab": {
          "resources": {
            "http://localhost:8080/nbextensions/google.colab/files.js": {
              "data": "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",
              "ok": true,
              "headers": [
                [
                  "content-type",
                  "application/javascript"
                ]
              ],
              "status": 200,
              "status_text": ""
            }
          },
          "base_uri": "https://localhost:8080/",
          "height": 74
        },
        "outputId": "acdbe2a0-afe5-42b5-a6d1-2fc8042c85fd"
      },
      "source": [
        "from google.colab import files\n",
        "uploaded = files.upload()\n"
      ],
      "execution_count": 12,
      "outputs": [
        {
          "output_type": "display_data",
          "data": {
            "text/html": [
              "\n",
              "     <input type=\"file\" id=\"files-d3a9ec16-073d-44e6-b235-d90c8a952ea1\" name=\"files[]\" multiple disabled />\n",
              "     <output id=\"result-d3a9ec16-073d-44e6-b235-d90c8a952ea1\">\n",
              "      Upload widget is only available when the cell has been executed in the\n",
              "      current browser session. Please rerun this cell to enable.\n",
              "      </output>\n",
              "      <script src=\"/nbextensions/google.colab/files.js\"></script> "
            ],
            "text/plain": [
              "<IPython.core.display.HTML object>"
            ]
          },
          "metadata": {
            "tags": []
          }
        },
        {
          "output_type": "stream",
          "text": [
            "Saving aapl3.csv to aapl3.csv\n"
          ],
          "name": "stdout"
        }
      ]
    },
    {
      "cell_type": "code",
      "metadata": {
        "id": "4Jui3VJTi-vr",
        "colab_type": "code",
        "colab": {
          "base_uri": "https://localhost:8080/",
          "height": 419
        },
        "outputId": "3c312b1b-6b9c-4d16-c84e-4c47977bb5ad"
      },
      "source": [
        "#Store the data\n",
        "AAPL = pd.read_csv(\"aapl3.csv\")\n",
        "AAPL"
      ],
      "execution_count": 13,
      "outputs": [
        {
          "output_type": "execute_result",
          "data": {
            "text/html": [
              "<div>\n",
              "<style scoped>\n",
              "    .dataframe tbody tr th:only-of-type {\n",
              "        vertical-align: middle;\n",
              "    }\n",
              "\n",
              "    .dataframe tbody tr th {\n",
              "        vertical-align: top;\n",
              "    }\n",
              "\n",
              "    .dataframe thead th {\n",
              "        text-align: right;\n",
              "    }\n",
              "</style>\n",
              "<table border=\"1\" class=\"dataframe\">\n",
              "  <thead>\n",
              "    <tr style=\"text-align: right;\">\n",
              "      <th></th>\n",
              "      <th>Date</th>\n",
              "      <th>Open</th>\n",
              "      <th>High</th>\n",
              "      <th>Low</th>\n",
              "      <th>Close</th>\n",
              "      <th>Adj Close</th>\n",
              "      <th>Volume</th>\n",
              "    </tr>\n",
              "  </thead>\n",
              "  <tbody>\n",
              "    <tr>\n",
              "      <th>0</th>\n",
              "      <td>2015-01-27</td>\n",
              "      <td>112.419998</td>\n",
              "      <td>112.480003</td>\n",
              "      <td>109.029999</td>\n",
              "      <td>109.139999</td>\n",
              "      <td>99.772209</td>\n",
              "      <td>95568700</td>\n",
              "    </tr>\n",
              "    <tr>\n",
              "      <th>1</th>\n",
              "      <td>2015-01-28</td>\n",
              "      <td>117.629997</td>\n",
              "      <td>118.120003</td>\n",
              "      <td>115.309998</td>\n",
              "      <td>115.309998</td>\n",
              "      <td>105.412628</td>\n",
              "      <td>146477100</td>\n",
              "    </tr>\n",
              "    <tr>\n",
              "      <th>2</th>\n",
              "      <td>2015-01-29</td>\n",
              "      <td>116.320000</td>\n",
              "      <td>119.190002</td>\n",
              "      <td>115.559998</td>\n",
              "      <td>118.900002</td>\n",
              "      <td>108.694481</td>\n",
              "      <td>84436400</td>\n",
              "    </tr>\n",
              "    <tr>\n",
              "      <th>3</th>\n",
              "      <td>2015-01-30</td>\n",
              "      <td>118.400002</td>\n",
              "      <td>120.000000</td>\n",
              "      <td>116.849998</td>\n",
              "      <td>117.160004</td>\n",
              "      <td>107.103836</td>\n",
              "      <td>83745500</td>\n",
              "    </tr>\n",
              "    <tr>\n",
              "      <th>4</th>\n",
              "      <td>2015-02-02</td>\n",
              "      <td>118.050003</td>\n",
              "      <td>119.169998</td>\n",
              "      <td>116.080002</td>\n",
              "      <td>118.629997</td>\n",
              "      <td>108.447662</td>\n",
              "      <td>62739100</td>\n",
              "    </tr>\n",
              "    <tr>\n",
              "      <th>...</th>\n",
              "      <td>...</td>\n",
              "      <td>...</td>\n",
              "      <td>...</td>\n",
              "      <td>...</td>\n",
              "      <td>...</td>\n",
              "      <td>...</td>\n",
              "      <td>...</td>\n",
              "    </tr>\n",
              "    <tr>\n",
              "      <th>1337</th>\n",
              "      <td>2020-05-19</td>\n",
              "      <td>315.029999</td>\n",
              "      <td>318.519989</td>\n",
              "      <td>313.010010</td>\n",
              "      <td>313.140015</td>\n",
              "      <td>313.140015</td>\n",
              "      <td>25432400</td>\n",
              "    </tr>\n",
              "    <tr>\n",
              "      <th>1338</th>\n",
              "      <td>2020-05-20</td>\n",
              "      <td>316.679993</td>\n",
              "      <td>319.519989</td>\n",
              "      <td>316.519989</td>\n",
              "      <td>319.230011</td>\n",
              "      <td>319.230011</td>\n",
              "      <td>27876200</td>\n",
              "    </tr>\n",
              "    <tr>\n",
              "      <th>1339</th>\n",
              "      <td>2020-05-21</td>\n",
              "      <td>318.660004</td>\n",
              "      <td>320.890015</td>\n",
              "      <td>315.869995</td>\n",
              "      <td>316.850006</td>\n",
              "      <td>316.850006</td>\n",
              "      <td>25672200</td>\n",
              "    </tr>\n",
              "    <tr>\n",
              "      <th>1340</th>\n",
              "      <td>2020-05-22</td>\n",
              "      <td>315.769989</td>\n",
              "      <td>319.230011</td>\n",
              "      <td>315.350006</td>\n",
              "      <td>318.890015</td>\n",
              "      <td>318.890015</td>\n",
              "      <td>20450800</td>\n",
              "    </tr>\n",
              "    <tr>\n",
              "      <th>1341</th>\n",
              "      <td>2020-05-26</td>\n",
              "      <td>323.500000</td>\n",
              "      <td>324.239990</td>\n",
              "      <td>316.500000</td>\n",
              "      <td>316.730011</td>\n",
              "      <td>316.730011</td>\n",
              "      <td>31380500</td>\n",
              "    </tr>\n",
              "  </tbody>\n",
              "</table>\n",
              "<p>1342 rows × 7 columns</p>\n",
              "</div>"
            ],
            "text/plain": [
              "            Date        Open        High  ...       Close   Adj Close     Volume\n",
              "0     2015-01-27  112.419998  112.480003  ...  109.139999   99.772209   95568700\n",
              "1     2015-01-28  117.629997  118.120003  ...  115.309998  105.412628  146477100\n",
              "2     2015-01-29  116.320000  119.190002  ...  118.900002  108.694481   84436400\n",
              "3     2015-01-30  118.400002  120.000000  ...  117.160004  107.103836   83745500\n",
              "4     2015-02-02  118.050003  119.169998  ...  118.629997  108.447662   62739100\n",
              "...          ...         ...         ...  ...         ...         ...        ...\n",
              "1337  2020-05-19  315.029999  318.519989  ...  313.140015  313.140015   25432400\n",
              "1338  2020-05-20  316.679993  319.519989  ...  319.230011  319.230011   27876200\n",
              "1339  2020-05-21  318.660004  320.890015  ...  316.850006  316.850006   25672200\n",
              "1340  2020-05-22  315.769989  319.230011  ...  318.890015  318.890015   20450800\n",
              "1341  2020-05-26  323.500000  324.239990  ...  316.730011  316.730011   31380500\n",
              "\n",
              "[1342 rows x 7 columns]"
            ]
          },
          "metadata": {
            "tags": []
          },
          "execution_count": 13
        }
      ]
    },
    {
      "cell_type": "code",
      "metadata": {
        "id": "p0bkx0c5jQAx",
        "colab_type": "code",
        "colab": {
          "base_uri": "https://localhost:8080/",
          "height": 354
        },
        "outputId": "ac6e8743-4d40-4043-c44b-bbb4a775fbd3"
      },
      "source": [
        "#Visualize\n",
        "plt.figure(figsize=(12.5, 4.5))\n",
        "plt.plot(AAPL[\"Adj Close\"], label = \"AAPL\")\n",
        "plt.title(\"Apple Adj. Close Price History\")\n",
        "plt.xlabel(\"Sept. 09, 2014 - Mar. 29, 2018\")\n",
        "plt.ylabel(\"Adj. Close USD ($)\")\n",
        "plt.legend(loc=\"upper left\")\n",
        "plt.show()"
      ],
      "execution_count": 16,
      "outputs": [
        {
          "output_type": "display_data",
          "data": {
            "image/png": "[encoded data removed]",
            "text/plain": [
              "<Figure size 900x324 with 1 Axes>"
            ]
          },
          "metadata": {
            "tags": []
          }
        }
      ]
    },
    {
      "cell_type": "code",
      "metadata": {
        "id": "f0CSyAFjkWPG",
        "colab_type": "code",
        "colab": {
          "base_uri": "https://localhost:8080/",
          "height": 51
        },
        "outputId": "f36b452a-6d18-4a81-d4bb-95ac47d0987a"
      },
      "source": [
        "#Create the simple moving average with a 30 day window\n",
        "SMA30 = pd.DataFrame()\n",
        "SMA30[\"Adj Close\"] = AAPL[\"Adj Close\"].rolling(window = 30).mean()\n",
        "SMA30.head(31).mean()\n"
      ],
      "execution_count": 21,
      "outputs": [
        {
          "output_type": "execute_result",
          "data": {
            "text/plain": [
              "Adj Close    114.382965\n",
              "dtype: float64"
            ]
          },
          "metadata": {
            "tags": []
          },
          "execution_count": 21
        }
      ]
    },
    {
      "cell_type": "code",
      "metadata": {
        "id": "aSR34jq9o7Ez",
        "colab_type": "code",
        "colab": {
          "base_uri": "https://localhost:8080/",
          "height": 1000
        },
        "outputId": "eccef760-ccba-4c34-bbc8-3257a29e9719"
      },
      "source": [
        "SMA30.head(31)"
      ],
      "execution_count": 20,
      "outputs": [
        {
          "output_type": "execute_result",
          "data": {
            "text/html": [
              "<div>\n",
              "<style scoped>\n",
              "    .dataframe tbody tr th:only-of-type {\n",
              "        vertical-align: middle;\n",
              "    }\n",
              "\n",
              "    .dataframe tbody tr th {\n",
              "        vertical-align: top;\n",
              "    }\n",
              "\n",
              "    .dataframe thead th {\n",
              "        text-align: right;\n",
              "    }\n",
              "</style>\n",
              "<table border=\"1\" class=\"dataframe\">\n",
              "  <thead>\n",
              "    <tr style=\"text-align: right;\">\n",
              "      <th></th>\n",
              "      <th>Adj Close</th>\n",
              "    </tr>\n",
              "  </thead>\n",
              "  <tbody>\n",
              "    <tr>\n",
              "      <th>0</th>\n",
              "      <td>NaN</td>\n",
              "    </tr>\n",
              "    <tr>\n",
              "      <th>1</th>\n",
              "      <td>NaN</td>\n",
              "    </tr>\n",
              "    <tr>\n",
              "      <th>2</th>\n",
              "      <td>NaN</td>\n",
              "    </tr>\n",
              "    <tr>\n",
              "      <th>3</th>\n",
              "      <td>NaN</td>\n",
              "    </tr>\n",
              "    <tr>\n",
              "      <th>4</th>\n",
              "      <td>NaN</td>\n",
              "    </tr>\n",
              "    <tr>\n",
              "      <th>5</th>\n",
              "      <td>NaN</td>\n",
              "    </tr>\n",
              "    <tr>\n",
              "      <th>6</th>\n",
              "      <td>NaN</td>\n",
              "    </tr>\n",
              "    <tr>\n",
              "      <th>7</th>\n",
              "      <td>NaN</td>\n",
              "    </tr>\n",
              "    <tr>\n",
              "      <th>8</th>\n",
              "      <td>NaN</td>\n",
              "    </tr>\n",
              "    <tr>\n",
              "      <th>9</th>\n",
              "      <td>NaN</td>\n",
              "    </tr>\n",
              "    <tr>\n",
              "      <th>10</th>\n",
              "      <td>NaN</td>\n",
              "    </tr>\n",
              "    <tr>\n",
              "      <th>11</th>\n",
              "      <td>NaN</td>\n",
              "    </tr>\n",
              "    <tr>\n",
              "      <th>12</th>\n",
              "      <td>NaN</td>\n",
              "    </tr>\n",
              "    <tr>\n",
              "      <th>13</th>\n",
              "      <td>NaN</td>\n",
              "    </tr>\n",
              "    <tr>\n",
              "      <th>14</th>\n",
              "      <td>NaN</td>\n",
              "    </tr>\n",
              "    <tr>\n",
              "      <th>15</th>\n",
              "      <td>NaN</td>\n",
              "    </tr>\n",
              "    <tr>\n",
              "      <th>16</th>\n",
              "      <td>NaN</td>\n",
              "    </tr>\n",
              "    <tr>\n",
              "      <th>17</th>\n",
              "      <td>NaN</td>\n",
              "    </tr>\n",
              "    <tr>\n",
              "      <th>18</th>\n",
              "      <td>NaN</td>\n",
              "    </tr>\n",
              "    <tr>\n",
              "      <th>19</th>\n",
              "      <td>NaN</td>\n",
              "    </tr>\n",
              "    <tr>\n",
              "      <th>20</th>\n",
              "      <td>NaN</td>\n",
              "    </tr>\n",
              "    <tr>\n",
              "      <th>21</th>\n",
              "      <td>NaN</td>\n",
              "    </tr>\n",
              "    <tr>\n",
              "      <th>22</th>\n",
              "      <td>NaN</td>\n",
              "    </tr>\n",
              "    <tr>\n",
              "      <th>23</th>\n",
              "      <td>NaN</td>\n",
              "    </tr>\n",
              "    <tr>\n",
              "      <th>24</th>\n",
              "      <td>NaN</td>\n",
              "    </tr>\n",
              "    <tr>\n",
              "      <th>25</th>\n",
              "      <td>NaN</td>\n",
              "    </tr>\n",
              "    <tr>\n",
              "      <th>26</th>\n",
              "      <td>NaN</td>\n",
              "    </tr>\n",
              "    <tr>\n",
              "      <th>27</th>\n",
              "      <td>NaN</td>\n",
              "    </tr>\n",
              "    <tr>\n",
              "      <th>28</th>\n",
              "      <td>NaN</td>\n",
              "    </tr>\n",
              "    <tr>\n",
              "      <th>29</th>\n",
              "      <td>114.176021</td>\n",
              "    </tr>\n",
              "    <tr>\n",
              "      <th>30</th>\n",
              "      <td>114.589909</td>\n",
              "    </tr>\n",
              "  </tbody>\n",
              "</table>\n",
              "</div>"
            ],
            "text/plain": [
              "     Adj Close\n",
              "0          NaN\n",
              "1          NaN\n",
              "2          NaN\n",
              "3          NaN\n",
              "4          NaN\n",
              "5          NaN\n",
              "6          NaN\n",
              "7          NaN\n",
              "8          NaN\n",
              "9          NaN\n",
              "10         NaN\n",
              "11         NaN\n",
              "12         NaN\n",
              "13         NaN\n",
              "14         NaN\n",
              "15         NaN\n",
              "16         NaN\n",
              "17         NaN\n",
              "18         NaN\n",
              "19         NaN\n",
              "20         NaN\n",
              "21         NaN\n",
              "22         NaN\n",
              "23         NaN\n",
              "24         NaN\n",
              "25         NaN\n",
              "26         NaN\n",
              "27         NaN\n",
              "28         NaN\n",
              "29  114.176021\n",
              "30  114.589909"
            ]
          },
          "metadata": {
            "tags": []
          },
          "execution_count": 20
        }
      ]
    },
    {
      "cell_type": "code",
      "metadata": {
        "id": "eghjCZlXqkJL",
        "colab_type": "code",
        "colab": {
          "base_uri": "https://localhost:8080/",
          "height": 419
        },
        "outputId": "1d7132f5-6cbe-4d1d-b57e-6522d73a6e59"
      },
      "source": [
        "#Create simple moving 100 day average\n",
        "SMA100 = pd.DataFrame()\n",
        "SMA100[\"Adj Close\"] = AAPL[\"Adj Close\"].rolling(window = 100).mean()\n",
        "SMA100"
      ],
      "execution_count": 25,
      "outputs": [
        {
          "output_type": "execute_result",
          "data": {
            "text/html": [
              "<div>\n",
              "<style scoped>\n",
              "    .dataframe tbody tr th:only-of-type {\n",
              "        vertical-align: middle;\n",
              "    }\n",
              "\n",
              "    .dataframe tbody tr th {\n",
              "        vertical-align: top;\n",
              "    }\n",
              "\n",
              "    .dataframe thead th {\n",
              "        text-align: right;\n",
              "    }\n",
              "</style>\n",
              "<table border=\"1\" class=\"dataframe\">\n",
              "  <thead>\n",
              "    <tr style=\"text-align: right;\">\n",
              "      <th></th>\n",
              "      <th>Adj Close</th>\n",
              "    </tr>\n",
              "  </thead>\n",
              "  <tbody>\n",
              "    <tr>\n",
              "      <th>0</th>\n",
              "      <td>NaN</td>\n",
              "    </tr>\n",
              "    <tr>\n",
              "      <th>1</th>\n",
              "      <td>NaN</td>\n",
              "    </tr>\n",
              "    <tr>\n",
              "      <th>2</th>\n",
              "      <td>NaN</td>\n",
              "    </tr>\n",
              "    <tr>\n",
              "      <th>3</th>\n",
              "      <td>NaN</td>\n",
              "    </tr>\n",
              "    <tr>\n",
              "      <th>4</th>\n",
              "      <td>NaN</td>\n",
              "    </tr>\n",
              "    <tr>\n",
              "      <th>...</th>\n",
              "      <td>...</td>\n",
              "    </tr>\n",
              "    <tr>\n",
              "      <th>1337</th>\n",
              "      <td>290.037927</td>\n",
              "    </tr>\n",
              "    <tr>\n",
              "      <th>1338</th>\n",
              "      <td>290.345799</td>\n",
              "    </tr>\n",
              "    <tr>\n",
              "      <th>1339</th>\n",
              "      <td>290.630966</td>\n",
              "    </tr>\n",
              "    <tr>\n",
              "      <th>1340</th>\n",
              "      <td>290.919420</td>\n",
              "    </tr>\n",
              "    <tr>\n",
              "      <th>1341</th>\n",
              "      <td>291.165082</td>\n",
              "    </tr>\n",
              "  </tbody>\n",
              "</table>\n",
              "<p>1342 rows × 1 columns</p>\n",
              "</div>"
            ],
            "text/plain": [
              "       Adj Close\n",
              "0            NaN\n",
              "1            NaN\n",
              "2            NaN\n",
              "3            NaN\n",
              "4            NaN\n",
              "...          ...\n",
              "1337  290.037927\n",
              "1338  290.345799\n",
              "1339  290.630966\n",
              "1340  290.919420\n",
              "1341  291.165082\n",
              "\n",
              "[1342 rows x 1 columns]"
            ]
          },
          "metadata": {
            "tags": []
          },
          "execution_count": 25
        }
      ]
    },
    {
      "cell_type": "code",
      "metadata": {
        "id": "zVTAwv8mqzGr",
        "colab_type": "code",
        "colab": {
          "base_uri": "https://localhost:8080/",
          "height": 354
        },
        "outputId": "99ebcebc-6978-4e90-96e8-580baaa0a08f"
      },
      "source": [
        "#Visualize\n",
        "plt.figure(figsize=(12.5, 4.5))\n",
        "plt.plot(AAPL[\"Adj Close\"], label = \"AAPL\")\n",
        "plt.plot(SMA30[\"Adj Close\"], label = \"SMA 30\")\n",
        "plt.plot(SMA100[\"Adj Close\"], label = \"SMA 100\")\n",
        "plt.title(\"Apple Adj. Close Price History\")\n",
        "plt.xlabel(\"Sept. 09, 2014 - Mar. 29, 2018\")\n",
        "plt.ylabel(\"Adj. Close USD ($)\")\n",
        "plt.legend(loc=\"upper left\")\n",
        "plt.show()"
      ],
      "execution_count": 26,
      "outputs": [
        {
          "output_type": "display_data",
          "data": {
            "image/png": "[encoded data removed]",
            "text/plain": [
              "<Figure size 900x324 with 1 Axes>"
            ]
          },
          "metadata": {
            "tags": []
          }
        }
      ]
    },
    {
      "cell_type": "code",
      "metadata": {
        "id": "YG3UbMNkrRqD",
        "colab_type": "code",
        "colab": {
          "base_uri": "https://localhost:8080/",
          "height": 419
        },
        "outputId": "26834aab-4c3f-4b8b-de67-87cfa1f4b824"
      },
      "source": [
        "#Strategy is buy any time the short-term average crosses the long-term average\n",
        "#Every time the SMA30 Crosses the SMA100\n",
        "#Orange (short term) down the yellow (long term) and it crosses\n",
        "#The sell is the same but inverted\n",
        "\n",
        "data = pd.DataFrame()\n",
        "data[\"AAPL\"] = AAPL[\"Adj Close\"]\n",
        "data[\"SMA30\"] = SMA30[\"Adj Close\"]\n",
        "data[\"SMA100\"] = SMA100[\"Adj Close\"]\n",
        "data\n"
      ],
      "execution_count": 27,
      "outputs": [
        {
          "output_type": "execute_result",
          "data": {
            "text/html": [
              "<div>\n",
              "<style scoped>\n",
              "    .dataframe tbody tr th:only-of-type {\n",
              "        vertical-align: middle;\n",
              "    }\n",
              "\n",
              "    .dataframe tbody tr th {\n",
              "        vertical-align: top;\n",
              "    }\n",
              "\n",
              "    .dataframe thead th {\n",
              "        text-align: right;\n",
              "    }\n",
              "</style>\n",
              "<table border=\"1\" class=\"dataframe\">\n",
              "  <thead>\n",
              "    <tr style=\"text-align: right;\">\n",
              "      <th></th>\n",
              "      <th>AAPL</th>\n",
              "      <th>SMA30</th>\n",
              "      <th>SMA100</th>\n",
              "    </tr>\n",
              "  </thead>\n",
              "  <tbody>\n",
              "    <tr>\n",
              "      <th>0</th>\n",
              "      <td>99.772209</td>\n",
              "      <td>NaN</td>\n",
              "      <td>NaN</td>\n",
              "    </tr>\n",
              "    <tr>\n",
              "      <th>1</th>\n",
              "      <td>105.412628</td>\n",
              "      <td>NaN</td>\n",
              "      <td>NaN</td>\n",
              "    </tr>\n",
              "    <tr>\n",
              "      <th>2</th>\n",
              "      <td>108.694481</td>\n",
              "      <td>NaN</td>\n",
              "      <td>NaN</td>\n",
              "    </tr>\n",
              "    <tr>\n",
              "      <th>3</th>\n",
              "      <td>107.103836</td>\n",
              "      <td>NaN</td>\n",
              "      <td>NaN</td>\n",
              "    </tr>\n",
              "    <tr>\n",
              "      <th>4</th>\n",
              "      <td>108.447662</td>\n",
              "      <td>NaN</td>\n",
              "      <td>NaN</td>\n",
              "    </tr>\n",
              "    <tr>\n",
              "      <th>...</th>\n",
              "      <td>...</td>\n",
              "      <td>...</td>\n",
              "      <td>...</td>\n",
              "    </tr>\n",
              "    <tr>\n",
              "      <th>1337</th>\n",
              "      <td>313.140015</td>\n",
              "      <td>289.577426</td>\n",
              "      <td>290.037927</td>\n",
              "    </tr>\n",
              "    <tr>\n",
              "      <th>1338</th>\n",
              "      <td>319.230011</td>\n",
              "      <td>291.594106</td>\n",
              "      <td>290.345799</td>\n",
              "    </tr>\n",
              "    <tr>\n",
              "      <th>1339</th>\n",
              "      <td>316.850006</td>\n",
              "      <td>293.310716</td>\n",
              "      <td>290.630966</td>\n",
              "    </tr>\n",
              "    <tr>\n",
              "      <th>1340</th>\n",
              "      <td>318.890015</td>\n",
              "      <td>295.031499</td>\n",
              "      <td>290.919420</td>\n",
              "    </tr>\n",
              "    <tr>\n",
              "      <th>1341</th>\n",
              "      <td>316.730011</td>\n",
              "      <td>296.505422</td>\n",
              "      <td>291.165082</td>\n",
              "    </tr>\n",
              "  </tbody>\n",
              "</table>\n",
              "<p>1342 rows × 3 columns</p>\n",
              "</div>"
            ],
            "text/plain": [
              "            AAPL       SMA30      SMA100\n",
              "0      99.772209         NaN         NaN\n",
              "1     105.412628         NaN         NaN\n",
              "2     108.694481         NaN         NaN\n",
              "3     107.103836         NaN         NaN\n",
              "4     108.447662         NaN         NaN\n",
              "...          ...         ...         ...\n",
              "1337  313.140015  289.577426  290.037927\n",
              "1338  319.230011  291.594106  290.345799\n",
              "1339  316.850006  293.310716  290.630966\n",
              "1340  318.890015  295.031499  290.919420\n",
              "1341  316.730011  296.505422  291.165082\n",
              "\n",
              "[1342 rows x 3 columns]"
            ]
          },
          "metadata": {
            "tags": []
          },
          "execution_count": 27
        }
      ]
    },
    {
      "cell_type": "code",
      "metadata": {
        "id": "IWyq4wtFs2rc",
        "colab_type": "code",
        "colab": {}
      },
      "source": [
        "#When buy and when to sell the asset/stock\n",
        "def buy_sell(data):\n",
        "  sig_price_buy = []\n",
        "  sig_price_sell = []\n",
        "  flag = -1\n",
        "\n",
        "  for i in range(len(data)):\n",
        "    if data[\"SMA30\"][i] > data[\"SMA100\"][i]:\n",
        "      if flag != 1:\n",
        "        sig_price_buy.append(data[\"AAPL\"][i])\n",
        "        sig_price_sell.append(np.nan)\n",
        "        flag = 1\n",
        "      else:\n",
        "        sig_price_buy.append(np.nan)\n",
        "        sig_price_sell.append(np.nan)\n",
        "    elif data[\"SMA30\"][i] < data[\"SMA100\"][i]:\n",
        "      if flag != 0:\n",
        "        sig_price_buy.append(np.nan)\n",
        "        sig_price_sell.append(data[\"AAPL\"][i])\n",
        "        flag = 0\n",
        "      else:\n",
        "        sig_price_buy.append(np.nan)\n",
        "        sig_price_sell.append(np.nan)\n",
        "    else:\n",
        "      sig_price_buy.append(np.nan)\n",
        "      sig_price_sell.append(np.nan)\n",
        "  return (sig_price_buy, sig_price_sell)\n",
        "      "
      ],
      "execution_count": 0,
      "outputs": []
    },
    {
      "cell_type": "code",
      "metadata": {
        "id": "vxFzM1WJwHPR",
        "colab_type": "code",
        "colab": {
          "base_uri": "https://localhost:8080/",
          "height": 419
        },
        "outputId": "9171039b-a03a-4b7a-aae1-5dad6b5ee67d"
      },
      "source": [
        "#Store buy and sell into a variable\n",
        "buy_sell = buy_sell(data)\n",
        "data[\"Buy_Signal_Price\"] = buy_sell[0]\n",
        "data[\"Sell_Signal_Price\"] = buy_sell[1]\n",
        "data"
      ],
      "execution_count": 30,
      "outputs": [
        {
          "output_type": "execute_result",
          "data": {
            "text/html": [
              "<div>\n",
              "<style scoped>\n",
              "    .dataframe tbody tr th:only-of-type {\n",
              "        vertical-align: middle;\n",
              "    }\n",
              "\n",
              "    .dataframe tbody tr th {\n",
              "        vertical-align: top;\n",
              "    }\n",
              "\n",
              "    .dataframe thead th {\n",
              "        text-align: right;\n",
              "    }\n",
              "</style>\n",
              "<table border=\"1\" class=\"dataframe\">\n",
              "  <thead>\n",
              "    <tr style=\"text-align: right;\">\n",
              "      <th></th>\n",
              "      <th>AAPL</th>\n",
              "      <th>SMA30</th>\n",
              "      <th>SMA100</th>\n",
              "      <th>Buy_Signal_Price</th>\n",
              "      <th>Sell_Signal_Price</th>\n",
              "    </tr>\n",
              "  </thead>\n",
              "  <tbody>\n",
              "    <tr>\n",
              "      <th>0</th>\n",
              "      <td>99.772209</td>\n",
              "      <td>NaN</td>\n",
              "      <td>NaN</td>\n",
              "      <td>NaN</td>\n",
              "      <td>NaN</td>\n",
              "    </tr>\n",
              "    <tr>\n",
              "      <th>1</th>\n",
              "      <td>105.412628</td>\n",
              "      <td>NaN</td>\n",
              "      <td>NaN</td>\n",
              "      <td>NaN</td>\n",
              "      <td>NaN</td>\n",
              "    </tr>\n",
              "    <tr>\n",
              "      <th>2</th>\n",
              "      <td>108.694481</td>\n",
              "      <td>NaN</td>\n",
              "      <td>NaN</td>\n",
              "      <td>NaN</td>\n",
              "      <td>NaN</td>\n",
              "    </tr>\n",
              "    <tr>\n",
              "      <th>3</th>\n",
              "      <td>107.103836</td>\n",
              "      <td>NaN</td>\n",
              "      <td>NaN</td>\n",
              "      <td>NaN</td>\n",
              "      <td>NaN</td>\n",
              "    </tr>\n",
              "    <tr>\n",
              "      <th>4</th>\n",
              "      <td>108.447662</td>\n",
              "      <td>NaN</td>\n",
              "      <td>NaN</td>\n",
              "      <td>NaN</td>\n",
              "      <td>NaN</td>\n",
              "    </tr>\n",
              "    <tr>\n",
              "      <th>...</th>\n",
              "      <td>...</td>\n",
              "      <td>...</td>\n",
              "      <td>...</td>\n",
              "      <td>...</td>\n",
              "      <td>...</td>\n",
              "    </tr>\n",
              "    <tr>\n",
              "      <th>1337</th>\n",
              "      <td>313.140015</td>\n",
              "      <td>289.577426</td>\n",
              "      <td>290.037927</td>\n",
              "      <td>NaN</td>\n",
              "      <td>NaN</td>\n",
              "    </tr>\n",
              "    <tr>\n",
              "      <th>1338</th>\n",
              "      <td>319.230011</td>\n",
              "      <td>291.594106</td>\n",
              "      <td>290.345799</td>\n",
              "      <td>319.230011</td>\n",
              "      <td>NaN</td>\n",
              "    </tr>\n",
              "    <tr>\n",
              "      <th>1339</th>\n",
              "      <td>316.850006</td>\n",
              "      <td>293.310716</td>\n",
              "      <td>290.630966</td>\n",
              "      <td>NaN</td>\n",
              "      <td>NaN</td>\n",
              "    </tr>\n",
              "    <tr>\n",
              "      <th>1340</th>\n",
              "      <td>318.890015</td>\n",
              "      <td>295.031499</td>\n",
              "      <td>290.919420</td>\n",
              "      <td>NaN</td>\n",
              "      <td>NaN</td>\n",
              "    </tr>\n",
              "    <tr>\n",
              "      <th>1341</th>\n",
              "      <td>316.730011</td>\n",
              "      <td>296.505422</td>\n",
              "      <td>291.165082</td>\n",
              "      <td>NaN</td>\n",
              "      <td>NaN</td>\n",
              "    </tr>\n",
              "  </tbody>\n",
              "</table>\n",
              "<p>1342 rows × 5 columns</p>\n",
              "</div>"
            ],
            "text/plain": [
              "            AAPL       SMA30      SMA100  Buy_Signal_Price  Sell_Signal_Price\n",
              "0      99.772209         NaN         NaN               NaN                NaN\n",
              "1     105.412628         NaN         NaN               NaN                NaN\n",
              "2     108.694481         NaN         NaN               NaN                NaN\n",
              "3     107.103836         NaN         NaN               NaN                NaN\n",
              "4     108.447662         NaN         NaN               NaN                NaN\n",
              "...          ...         ...         ...               ...                ...\n",
              "1337  313.140015  289.577426  290.037927               NaN                NaN\n",
              "1338  319.230011  291.594106  290.345799        319.230011                NaN\n",
              "1339  316.850006  293.310716  290.630966               NaN                NaN\n",
              "1340  318.890015  295.031499  290.919420               NaN                NaN\n",
              "1341  316.730011  296.505422  291.165082               NaN                NaN\n",
              "\n",
              "[1342 rows x 5 columns]"
            ]
          },
          "metadata": {
            "tags": []
          },
          "execution_count": 30
        }
      ]
    },
    {
      "cell_type": "code",
      "metadata": {
        "id": "xje_sjknwuHp",
        "colab_type": "code",
        "colab": {
          "base_uri": "https://localhost:8080/",
          "height": 338
        },
        "outputId": "d38880c1-81a9-4e47-b9c5-f95ab9c4b501"
      },
      "source": [
        "#visualize\n",
        "plt.figure(figsize=(12.6, 4.6))\n",
        "plt.plot(data[\"AAPL\"], label = \"AAPL\", alpha = 0.35)\n",
        "plt.plot(data[\"SMA30\"], label = \"SMA30\", alpha = 0.35)\n",
        "plt.plot(data[\"SMA100\"], label = \"SMA100\", alpha = 0.35)\n",
        "plt.scatter(data.index, data[\"Buy_Signal_Price\"], label = \"Buy\", marker=\"^\", color = \"green\")\n",
        "plt.scatter(data.index, data[\"Sell_Signal_Price\"], label = \"Sell\", marker=\"v\", color = \"red\")\n",
        "plt.title(\"Apple Adj. Close Price History Buy & Sell Signals\")\n",
        "plt.ylabel(\"Adj. Close USD ($)\")\n",
        "plt.legend(loc=\"upper left\")\n",
        "plt.show()"
      ],
      "execution_count": 34,
      "outputs": [
        {
          "output_type": "display_data",
          "data": {
            "image/png": "[encoded data removed]",
            "text/plain": [
              "<Figure size 907.2x331.2 with 1 Axes>"
            ]
          },
          "metadata": {
            "tags": []
          }
        }
      ]
    },
    {
      "cell_type": "code",
      "metadata": {
        "id": "yJLguJXeylgw",
        "colab_type": "code",
        "colab": {}
      },
      "source": [
        ""
      ],
      "execution_count": 0,
      "outputs": []
    }
  ]
}